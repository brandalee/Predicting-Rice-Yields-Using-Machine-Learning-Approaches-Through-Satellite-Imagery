{
  "nbformat": 4,
  "nbformat_minor": 0,
  "metadata": {
    "colab": {
      "provenance": [],
      "gpuType": "T4"
    },
    "kernelspec": {
      "name": "python3",
      "display_name": "Python 3"
    },
    "language_info": {
      "name": "python"
    },
    "accelerator": "GPU"
  },
  "cells": [
    {
      "cell_type": "code",
      "execution_count": null,
      "metadata": {
        "id": "B6ikQVMOewwF"
      },
      "outputs": [],
      "source": [
        "# Install necessary library\n",
        "%pip install -U geemap"
      ]
    },
    {
      "cell_type": "code",
      "source": [
        "# Install necessary library\n",
        "!pip install leafmap"
      ],
      "metadata": {
        "id": "ah4iNsYV-xAW"
      },
      "execution_count": null,
      "outputs": []
    },
    {
      "cell_type": "code",
      "source": [
        "# Import necessary libraries\n",
        "import ee\n",
        "import geemap\n",
        "import leafmap\n",
        "import datetime"
      ],
      "metadata": {
        "id": "mzDZd61afL-U"
      },
      "execution_count": null,
      "outputs": []
    },
    {
      "cell_type": "code",
      "source": [
        "# To initialise the project\n",
        "ee.Authenticate()\n",
        "ee.Initialize(project='ee-rice-yield-prediction')\n",
        "\n",
        "# Create an interactive map\n",
        "Map = geemap.Map(basemap='SATELLITE')"
      ],
      "metadata": {
        "id": "KmZFpZ06feaT"
      },
      "execution_count": null,
      "outputs": []
    },
    {
      "cell_type": "code",
      "source": [
        "# Load the GAUL dataset (Second-Level Administrative Units)\n",
        "gaul = ee.FeatureCollection(\"FAO/GAUL/2015/level2\")\n",
        "\n",
        "# Filter Sabak Bernam administrative unit\n",
        "sabak = gaul.filter(ee.Filter.eq(\"ADM2_NAME\", \"Sabak Bernam\"))\n",
        "\n",
        "# Draw the boundary of Sabak Bernam\n",
        "sabak_boundary = ee.Image().byte().paint(\n",
        "  featureCollection = sabak,\n",
        "  width=3\n",
        ")\n",
        "\n",
        "# Specify the visualisation of the boundary of Sabak Bernam\n",
        "sabak_vis = {\n",
        "    \"palette\": \"black\"\n",
        "}\n",
        "\n",
        "# Add Sabak Bernam's boundary to the map as a layer\n",
        "Map.addLayer(sabak_boundary, sabak_vis, \"Sabak Bernam\")\n",
        "\n",
        "# Center the map on Sabak Bernam\n",
        "Map.centerObject(sabak, 8)\n",
        "\n",
        "# Display the map\n",
        "Map"
      ],
      "metadata": {
        "id": "2cH56ka0fvN2"
      },
      "execution_count": null,
      "outputs": []
    },
    {
      "cell_type": "code",
      "source": [
        "# Function to mask the cloud in the satellite images\n",
        "def maskClouds(image):\n",
        "  qa = image.select('QA60')\n",
        "\n",
        "  # Creating bit masks for clouds and cirrus clouds\n",
        "  # Bits 10 and 11 represents clouds and cirrus clouds respectively\n",
        "  # Shifting the bit 1 to the left by 10 positions for clouds bit mask and by 11 positions for cirrus clouds bit mask\n",
        "  cloudMask = 1 << 10\n",
        "  cirrusMask = 1 << 11\n",
        "\n",
        "  # Create a mask where clouds and cirrus clouds will be masked out\n",
        "  mask = qa.bitwiseAnd(cloudMask).eq(0).And(qa.bitwiseAnd(cirrusMask).eq(0))\n",
        "\n",
        "  # Return the input image without clouds and cirrus clouds\n",
        "  return image.updateMask(mask)"
      ],
      "metadata": {
        "id": "bcZ9sIQcv23E"
      },
      "execution_count": null,
      "outputs": []
    },
    {
      "cell_type": "code",
      "source": [
        "# Function to add NDVI band to the input image\n",
        "def ndvi_band(image):\n",
        "    # Calculate the NDVI value using NIR (B8) band and Red (B4) band\n",
        "    ndvi = image.normalizedDifference(['B8', 'B4']).rename('ndvi')\n",
        "\n",
        "    # Add the NDVI band to the image and return the image\n",
        "    return image.addBands(ndvi)"
      ],
      "metadata": {
        "id": "dX0I8aOYSCDi"
      },
      "execution_count": null,
      "outputs": []
    },
    {
      "cell_type": "code",
      "source": [
        "# Load the Sentinel-2 image in Sabak Bernam area\n",
        "sentinel = (ee.ImageCollection('COPERNICUS/S2_SR_HARMONIZED')\n",
        "              .filterDate('2023-03-05', '2023-05-25')\n",
        "              .filterBounds(sabak)\n",
        "              .map(maskClouds))\n",
        "\n",
        "# Define the visualisation parameters\n",
        "sentinel_vis = {\n",
        "    'min': 0.0,\n",
        "    'max': 2000,\n",
        "    'bands': ['B4', 'B3', 'B2'],\n",
        "}\n",
        "\n",
        "image=sentinel.median()\n",
        "\n",
        "# Adding the image to the map as a layer\n",
        "Map.addLayer(image, sentinel_vis, 'Sentinel-2')\n",
        "\n",
        "# Get the NDVI value\n",
        "ndvi = image.normalizedDifference(['B8', 'B4']).rename('ndvi')\n",
        "\n",
        "#Specify the visualisation for NDVI\n",
        "ndvi_vis = {\n",
        "    'min': -1,\n",
        "    'max': 1,\n",
        "    'palette': ['blue', 'white', 'green'],\n",
        "}\n",
        "\n",
        "# Adding the NDVI to the map as a layer\n",
        "Map.addLayer(ndvi.clip(sabak), ndvi_vis, 'NDVI')\n",
        "\n",
        "# Display the map\n",
        "Map"
      ],
      "metadata": {
        "id": "zLs6f2HBp_u4"
      },
      "execution_count": null,
      "outputs": []
    },
    {
      "cell_type": "code",
      "source": [
        "# Obtain an image of Sabak Area\n",
        "feature = sabak.first()\n",
        "\n",
        "# Get the geometry of Sabak Bernam area\n",
        "sabak_geometry = feature.geometry()\n",
        "\n",
        "# Convert the geometry to a GeoJSON format\n",
        "geometry_geojson = sabak_geometry.getInfo()\n",
        "\n",
        "# Ensure the geometry is in the correct format\n",
        "geometry_geojson = {\n",
        "    \"type\": \"FeatureCollection\",\n",
        "    \"features\": [\n",
        "        {\n",
        "            \"type\": \"Feature\",\n",
        "            \"geometry\": geometry_geojson,\n",
        "            \"properties\": {}\n",
        "        }\n",
        "    ]\n",
        "}\n",
        "\n",
        "# Create a LeafMap\n",
        "m = leafmap.Map(center=[3.5, 101.15587962782114], zoom=10, height=\"800px\")\n",
        "\n",
        "# Add the GeoJSON layer to the map using 'add_geojson'\n",
        "m.add_geojson(geometry_geojson, layer_name=\"Boundary\")\n",
        "\n",
        "# Add satellite as basemap\n",
        "m.add_basemap(\"SATELLITE\")\n",
        "\n",
        "# Display the map\n",
        "m"
      ],
      "metadata": {
        "id": "5PufrJuHaJV0"
      },
      "execution_count": null,
      "outputs": []
    },
    {
      "cell_type": "code",
      "source": [
        "#bbox = m.user_roi_bounds()\n",
        "# Sekinchan area\n",
        "bbox=[101.0821, 3.5211, 101.1456, 3.5777]\n",
        "print(\"Sekinchan Area:\", bbox)\n",
        "\n",
        "# Create a geometry (bounding box) for Sekinchan\n",
        "sekinchan_geom = ee.Geometry.Rectangle(bbox)\n",
        "\n",
        "# Create an image by painting Sekinchan boundary on the map\n",
        "sekinchan_boundary = ee.Image().byte().paint(\n",
        "    featureCollection = ee.FeatureCollection([ee.Feature(sekinchan_geom)]),\n",
        "    width=3\n",
        ")\n",
        "\n",
        "# Specify the visualization parameters for Sekinchan boundary\n",
        "sekinchan_vis = {\n",
        "    \"palette\": \"red\"\n",
        "}\n",
        "\n",
        "# Add Sekinchan's boundary to the map as a layer\n",
        "Map.addLayer(sekinchan_boundary, sekinchan_vis, \"Sekinchan\")\n",
        "\n",
        "# Center the map on Sekinchan\n",
        "Map.centerObject(sekinchan_geom, 8)\n",
        "\n",
        "# Display the map\n",
        "Map"
      ],
      "metadata": {
        "id": "Am27AoNzyGkM"
      },
      "execution_count": null,
      "outputs": []
    },
    {
      "cell_type": "code",
      "source": [
        "# Function to calculate NDVI value\n",
        "def calculate_ndvi(image):\n",
        "    stats = image.reduceRegion(\n",
        "        reducer=ee.Reducer.mean(),\n",
        "        geometry=ee.Geometry.BBox(bbox[0], bbox[1], bbox[2], bbox[3]),\n",
        "        scale=10,\n",
        "        maxPixels=1e10\n",
        "    )\n",
        "\n",
        "    # Set NDVI to an empty value if reduceRegion does not have output.\n",
        "    ndvi = ee.List([stats.get('ndvi'), ]).reduce(ee.Reducer.firstNonNull())\n",
        "    # Create a feature with null geometry\n",
        "    # Set NDVI value and date as properties\n",
        "    date = ee.Date(image.get('system:time_start')).format('YYYY-MM-dd')\n",
        "    feature = ee.Feature(None, {'ndvi': ndvi, 'date': date})\n",
        "    return feature\n",
        "\n",
        "# Define start and end dates for the first quarter\n",
        "start_date = '2019-03-05'\n",
        "end_date = '2019-05-25'\n",
        "\n",
        "# Initialise values\n",
        "year = 1\n",
        "quarter = 1\n",
        "\n",
        "# Define the start and end dates for the second quarter\n",
        "second_quarter_start_date = '2019-09-05'\n",
        "second_quarter_end_date = '2019-11-25'\n",
        "\n",
        "while (quarter <= 2):\n",
        "    while (year <= 3):\n",
        "        # Create an image collection of Sabak Bernam\n",
        "        collection = (ee.ImageCollection('COPERNICUS/S2_SR_HARMONIZED')\n",
        "                .filterDate(start_date, end_date)\n",
        "                .filterBounds(sabak)\n",
        "                .map(maskClouds)\n",
        "                .map(ndvi_band))\n",
        "\n",
        "        # Filter Sekinchan area\n",
        "        sekinchan = (collection.select('ndvi')\n",
        "            .filterBounds(ee.Geometry.BBox(bbox[0], bbox[1], bbox[2], bbox[3]))\n",
        "        )\n",
        "\n",
        "        # Get NDVI values for each image in the collection\n",
        "        time_series = sekinchan.map(calculate_ndvi)\n",
        "\n",
        "        # Define a name for the exported CSV file\n",
        "        if (quarter==1):\n",
        "          filename = \"NDVI_\" + start_date[0:4] + \"_Q1\"\n",
        "        elif (quarter==2):\n",
        "          filename = \"NDVI_\" + start_date[0:4] + \"_Q2\"\n",
        "\n",
        "        # Export the time series to a CSV file\n",
        "        task = ee.batch.Export.table.toDrive(\n",
        "            collection=time_series,\n",
        "            description='ndvi',\n",
        "            folder='ndvi',\n",
        "            fileNamePrefix=filename,\n",
        "            fileFormat='CSV'\n",
        "        )\n",
        "\n",
        "        # Start the export task\n",
        "        task.start()\n",
        "\n",
        "        # Convert the start and end dates to datetime objects\n",
        "        start_date_dt = datetime.datetime.strptime(start_date, '%Y-%m-%d')\n",
        "        end_date_dt = datetime.datetime.strptime(end_date, '%Y-%m-%d')\n",
        "\n",
        "        # Increment the year by 1\n",
        "        start_date_dt = start_date_dt.replace(year=start_date_dt.year + 1)\n",
        "        end_date_dt = end_date_dt.replace(year=end_date_dt.year + 1)\n",
        "\n",
        "        # Convert the datetime objects back to strings\n",
        "        start_date = start_date_dt.strftime('%Y-%m-%d')\n",
        "        end_date = end_date_dt.strftime('%Y-%m-%d')\n",
        "\n",
        "        year = year + 1\n",
        "\n",
        "    quarter = quarter + 1\n",
        "\n",
        "    # Set the start and end dates for the second quarter\n",
        "    start_date = second_quarter_start_date\n",
        "    end_date = second_quarter_end_date\n",
        "\n",
        "    year = 1"
      ],
      "metadata": {
        "id": "NmuA1pxMyGm3"
      },
      "execution_count": null,
      "outputs": []
    },
    {
      "cell_type": "code",
      "source": [
        "# Check task status\n",
        "task.status()"
      ],
      "metadata": {
        "id": "0fkhu_Xe0ThC"
      },
      "execution_count": null,
      "outputs": []
    }
  ]
}