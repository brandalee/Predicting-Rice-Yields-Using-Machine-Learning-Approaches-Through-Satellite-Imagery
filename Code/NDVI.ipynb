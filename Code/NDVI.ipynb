{
  "nbformat": 4,
  "nbformat_minor": 0,
  "metadata": {
    "colab": {
      "provenance": [],
      "gpuType": "T4"
    },
    "kernelspec": {
      "name": "python3",
      "display_name": "Python 3"
    },
    "language_info": {
      "name": "python"
    },
    "accelerator": "GPU",
    "widgets": {
      "application/vnd.jupyter.widget-state+json": {
        "1875b713f67d4548a28eefe4ef4a85a7": {
          "model_module": "jupyter-leaflet",
          "model_name": "LeafletMapModel",
          "model_module_version": "^0.18",
          "state": {
            "_dom_classes": [],
            "_model_module": "jupyter-leaflet",
            "_model_module_version": "^0.18",
            "_model_name": "LeafletMapModel",
            "_view_count": null,
            "_view_module": "jupyter-leaflet",
            "_view_module_version": "^0.18",
            "_view_name": "LeafletMapView",
            "bottom": 32398,
            "bounce_at_zoom_limits": true,
            "box_zoom": true,
            "center": [
              3.6778915094650726,
              101.09383338149844
            ],
            "close_popup_on_click": true,
            "controls": [
              "IPY_MODEL_e6ca2cb47fef4c69a06cb79530bc08e0",
              "IPY_MODEL_0bbfad70741d477ab1f0c8afa175dc60",
              "IPY_MODEL_b29a6d1eb93148828945260d6e274862",
              "IPY_MODEL_5572ecbc311443148576fb83f219f787",
              "IPY_MODEL_077f23421c0c439bb7a1aa60a60e6c6a",
              "IPY_MODEL_da862bdf4c9e48df8864e236781719bc",
              "IPY_MODEL_6b09fc7bdd2f4728a33583e0d79234a5",
              "IPY_MODEL_c027ffb1a836417698e6a7be7b6da5d6"
            ],
            "crs": {
              "name": "EPSG3857",
              "custom": false
            },
            "default_style": "IPY_MODEL_25b0eece480749feb185cd782c17e11f",
            "double_click_zoom": true,
            "dragging": true,
            "dragging_style": "IPY_MODEL_75d774c508ce45d89670f071a184370b",
            "east": 104.26025390625001,
            "fullscreen": false,
            "inertia": true,
            "inertia_deceleration": 3000,
            "inertia_max_speed": 1500,
            "interpolation": "bilinear",
            "keyboard": true,
            "keyboard_pan_offset": 80,
            "keyboard_zoom_offset": 1,
            "layers": [
              "IPY_MODEL_315b5abef6974b098bc3a0a54dbf5538",
              "IPY_MODEL_5e63f559a05e430b852f62b3b4b7a2c3",
              "IPY_MODEL_11bf4de39c744294a9c23cfb0f74defe",
              "IPY_MODEL_b25cf26ca46344f09e9b9a639a6f09c7"
            ],
            "layout": "IPY_MODEL_477ce8388bd44a5199b07a98e204cd34",
            "left": 50596,
            "max_zoom": 24,
            "min_zoom": null,
            "modisdate": "2024-08-13",
            "north": 5.320705259943911,
            "options": [
              "bounce_at_zoom_limits",
              "box_zoom",
              "center",
              "close_popup_on_click",
              "double_click_zoom",
              "dragging",
              "fullscreen",
              "inertia",
              "inertia_deceleration",
              "inertia_max_speed",
              "interpolation",
              "keyboard",
              "keyboard_pan_offset",
              "keyboard_zoom_offset",
              "max_zoom",
              "min_zoom",
              "prefer_canvas",
              "scroll_wheel_zoom",
              "tap",
              "tap_tolerance",
              "touch_zoom",
              "world_copy_jump",
              "zoom",
              "zoom_animation_threshold",
              "zoom_delta",
              "zoom_snap"
            ],
            "panes": {},
            "prefer_canvas": false,
            "right": 51748,
            "scroll_wheel_zoom": true,
            "south": 2.0320445754194307,
            "style": "IPY_MODEL_25b0eece480749feb185cd782c17e11f",
            "tap": true,
            "tap_tolerance": 15,
            "top": 31798,
            "touch_zoom": true,
            "west": 97.93212890625,
            "window_url": "https://uqn7px6tki-496ff2e9c6d22116-0-colab.googleusercontent.com/outputframe.html?vrz=colab_20240812-060141_RC00_662037299",
            "world_copy_jump": false,
            "zoom": 8,
            "zoom_animation_threshold": 4,
            "zoom_delta": 1,
            "zoom_snap": 1
          }
        },
        "e6ca2cb47fef4c69a06cb79530bc08e0": {
          "model_module": "jupyter-leaflet",
          "model_name": "LeafletWidgetControlModel",
          "model_module_version": "^0.18",
          "state": {
            "_model_module": "jupyter-leaflet",
            "_model_module_version": "^0.18",
            "_model_name": "LeafletWidgetControlModel",
            "_view_count": null,
            "_view_module": "jupyter-leaflet",
            "_view_module_version": "^0.18",
            "_view_name": "LeafletWidgetControlView",
            "max_height": null,
            "max_width": null,
            "min_height": null,
            "min_width": null,
            "options": [
              "position",
              "transparent_bg"
            ],
            "position": "topleft",
            "transparent_bg": false,
            "widget": "IPY_MODEL_bda2539410f64ae1b305803f5e11ccb1"
          }
        },
        "0bbfad70741d477ab1f0c8afa175dc60": {
          "model_module": "jupyter-leaflet",
          "model_name": "LeafletZoomControlModel",
          "model_module_version": "^0.18",
          "state": {
            "_model_module": "jupyter-leaflet",
            "_model_module_version": "^0.18",
            "_model_name": "LeafletZoomControlModel",
            "_view_count": null,
            "_view_module": "jupyter-leaflet",
            "_view_module_version": "^0.18",
            "_view_name": "LeafletZoomControlView",
            "options": [
              "position",
              "zoom_in_text",
              "zoom_in_title",
              "zoom_out_text",
              "zoom_out_title"
            ],
            "position": "topleft",
            "zoom_in_text": "+",
            "zoom_in_title": "Zoom in",
            "zoom_out_text": "-",
            "zoom_out_title": "Zoom out"
          }
        },
        "b29a6d1eb93148828945260d6e274862": {
          "model_module": "jupyter-leaflet",
          "model_name": "LeafletFullScreenControlModel",
          "model_module_version": "^0.18",
          "state": {
            "_model_module": "jupyter-leaflet",
            "_model_module_version": "^0.18",
            "_model_name": "LeafletFullScreenControlModel",
            "_view_count": null,
            "_view_module": "jupyter-leaflet",
            "_view_module_version": "^0.18",
            "_view_name": "LeafletFullScreenControlView",
            "options": [
              "position"
            ],
            "position": "topleft"
          }
        },
        "5572ecbc311443148576fb83f219f787": {
          "model_module": "jupyter-leaflet",
          "model_name": "LeafletDrawControlModel",
          "model_module_version": "^0.18",
          "state": {
            "_model_module": "jupyter-leaflet",
            "_model_module_version": "^0.18",
            "_model_name": "LeafletDrawControlModel",
            "_view_count": null,
            "_view_module": "jupyter-leaflet",
            "_view_module_version": "^0.18",
            "_view_name": "LeafletDrawControlView",
            "circle": {},
            "circlemarker": {},
            "data": [],
            "edit": true,
            "marker": {
              "shapeOptions": {
                "color": "#3388ff"
              }
            },
            "options": [
              "position"
            ],
            "polygon": {
              "shapeOptions": {}
            },
            "polyline": {
              "shapeOptions": {}
            },
            "position": "topleft",
            "rectangle": {
              "shapeOptions": {
                "color": "#3388ff"
              }
            },
            "remove": true
          }
        },
        "077f23421c0c439bb7a1aa60a60e6c6a": {
          "model_module": "jupyter-leaflet",
          "model_name": "LeafletScaleControlModel",
          "model_module_version": "^0.18",
          "state": {
            "_model_module": "jupyter-leaflet",
            "_model_module_version": "^0.18",
            "_model_name": "LeafletScaleControlModel",
            "_view_count": null,
            "_view_module": "jupyter-leaflet",
            "_view_module_version": "^0.18",
            "_view_name": "LeafletScaleControlView",
            "imperial": true,
            "max_width": 100,
            "metric": true,
            "options": [
              "imperial",
              "max_width",
              "metric",
              "position",
              "update_when_idle"
            ],
            "position": "bottomleft",
            "update_when_idle": false
          }
        },
        "da862bdf4c9e48df8864e236781719bc": {
          "model_module": "jupyter-leaflet",
          "model_name": "LeafletMeasureControlModel",
          "model_module_version": "^0.18",
          "state": {
            "_custom_units": {},
            "_model_module": "jupyter-leaflet",
            "_model_module_version": "^0.18",
            "_model_name": "LeafletMeasureControlModel",
            "_view_count": null,
            "_view_module": "jupyter-leaflet",
            "_view_module_version": "^0.18",
            "_view_name": "LeafletMeasureControlView",
            "active_color": "orange",
            "capture_z_index": 10000,
            "completed_color": "#C8F2BE",
            "options": [
              "active_color",
              "capture_z_index",
              "completed_color",
              "popup_options",
              "position",
              "primary_area_unit",
              "primary_length_unit",
              "secondary_area_unit",
              "secondary_length_unit"
            ],
            "popup_options": {
              "className": "leaflet-measure-resultpopup",
              "autoPanPadding": [
                10,
                10
              ]
            },
            "position": "bottomleft",
            "primary_area_unit": "acres",
            "primary_length_unit": "kilometers",
            "secondary_area_unit": null,
            "secondary_length_unit": null
          }
        },
        "6b09fc7bdd2f4728a33583e0d79234a5": {
          "model_module": "jupyter-leaflet",
          "model_name": "LeafletWidgetControlModel",
          "model_module_version": "^0.18",
          "state": {
            "_model_module": "jupyter-leaflet",
            "_model_module_version": "^0.18",
            "_model_name": "LeafletWidgetControlModel",
            "_view_count": null,
            "_view_module": "jupyter-leaflet",
            "_view_module_version": "^0.18",
            "_view_name": "LeafletWidgetControlView",
            "max_height": null,
            "max_width": null,
            "min_height": null,
            "min_width": null,
            "options": [
              "position",
              "transparent_bg"
            ],
            "position": "topright",
            "transparent_bg": false,
            "widget": "IPY_MODEL_a67d631044294a4491246614ef1a322b"
          }
        },
        "c027ffb1a836417698e6a7be7b6da5d6": {
          "model_module": "jupyter-leaflet",
          "model_name": "LeafletAttributionControlModel",
          "model_module_version": "^0.18",
          "state": {
            "_model_module": "jupyter-leaflet",
            "_model_module_version": "^0.18",
            "_model_name": "LeafletAttributionControlModel",
            "_view_count": null,
            "_view_module": "jupyter-leaflet",
            "_view_module_version": "^0.18",
            "_view_name": "LeafletAttributionControlView",
            "options": [
              "position",
              "prefix"
            ],
            "position": "bottomright",
            "prefix": "ipyleaflet"
          }
        },
        "25b0eece480749feb185cd782c17e11f": {
          "model_module": "jupyter-leaflet",
          "model_name": "LeafletMapStyleModel",
          "model_module_version": "^0.18",
          "state": {
            "_model_module": "jupyter-leaflet",
            "_model_module_version": "^0.18",
            "_model_name": "LeafletMapStyleModel",
            "_view_count": null,
            "_view_module": "@jupyter-widgets/base",
            "_view_module_version": "1.2.0",
            "_view_name": "StyleView",
            "cursor": "grab"
          }
        },
        "75d774c508ce45d89670f071a184370b": {
          "model_module": "jupyter-leaflet",
          "model_name": "LeafletMapStyleModel",
          "model_module_version": "^0.18",
          "state": {
            "_model_module": "jupyter-leaflet",
            "_model_module_version": "^0.18",
            "_model_name": "LeafletMapStyleModel",
            "_view_count": null,
            "_view_module": "@jupyter-widgets/base",
            "_view_module_version": "1.2.0",
            "_view_name": "StyleView",
            "cursor": "move"
          }
        },
        "315b5abef6974b098bc3a0a54dbf5538": {
          "model_module": "jupyter-leaflet",
          "model_name": "LeafletTileLayerModel",
          "model_module_version": "^0.18",
          "state": {
            "_model_module": "jupyter-leaflet",
            "_model_module_version": "^0.18",
            "_model_name": "LeafletTileLayerModel",
            "_view_count": null,
            "_view_module": "jupyter-leaflet",
            "_view_module_version": "^0.18",
            "_view_name": "LeafletTileLayerView",
            "attribution": "Tiles &copy; Esri &mdash; Source: Esri, i-cubed, USDA, USGS, AEX, GeoEye, Getmapping, Aerogrid, IGN, IGP, UPR-EGP, and the GIS User Community",
            "base": true,
            "bottom": true,
            "bounds": null,
            "detect_retina": false,
            "loading": false,
            "max_native_zoom": null,
            "max_zoom": 18,
            "min_native_zoom": null,
            "min_zoom": 1,
            "name": "Esri.WorldImagery",
            "no_wrap": false,
            "opacity": 1,
            "options": [
              "attribution",
              "bounds",
              "detect_retina",
              "max_native_zoom",
              "max_zoom",
              "min_native_zoom",
              "min_zoom",
              "no_wrap",
              "tile_size",
              "tms",
              "zoom_offset"
            ],
            "pane": "",
            "popup": null,
            "popup_max_height": null,
            "popup_max_width": 300,
            "popup_min_width": 50,
            "show_loading": false,
            "subitems": [],
            "tile_size": 256,
            "tms": false,
            "url": "https://server.arcgisonline.com/ArcGIS/rest/services/World_Imagery/MapServer/tile/{z}/{y}/{x}",
            "visible": true,
            "zoom_offset": 0
          }
        },
        "5e63f559a05e430b852f62b3b4b7a2c3": {
          "model_module": "jupyter-leaflet",
          "model_name": "LeafletTileLayerModel",
          "model_module_version": "^0.18",
          "state": {
            "_model_module": "jupyter-leaflet",
            "_model_module_version": "^0.18",
            "_model_name": "LeafletTileLayerModel",
            "_view_count": null,
            "_view_module": "jupyter-leaflet",
            "_view_module_version": "^0.18",
            "_view_name": "LeafletTileLayerView",
            "attribution": "Google Earth Engine",
            "base": false,
            "bottom": true,
            "bounds": null,
            "detect_retina": false,
            "loading": false,
            "max_native_zoom": null,
            "max_zoom": 24,
            "min_native_zoom": null,
            "min_zoom": 0,
            "name": "Sabak Bernam",
            "no_wrap": false,
            "opacity": 1,
            "options": [
              "attribution",
              "bounds",
              "detect_retina",
              "max_native_zoom",
              "max_zoom",
              "min_native_zoom",
              "min_zoom",
              "no_wrap",
              "tile_size",
              "tms",
              "zoom_offset"
            ],
            "pane": "",
            "popup": null,
            "popup_max_height": null,
            "popup_max_width": 300,
            "popup_min_width": 50,
            "show_loading": false,
            "subitems": [],
            "tile_size": 256,
            "tms": false,
            "url": "https://earthengine.googleapis.com/v1/projects/ee-rice-yield-prediction/maps/ac06d1837ca65e559dd7287d65cf3476-df27a0c6b46f9d31dcd2aeb7ee8af63c/tiles/{z}/{x}/{y}",
            "visible": true,
            "zoom_offset": 0
          }
        },
        "477ce8388bd44a5199b07a98e204cd34": {
          "model_module": "@jupyter-widgets/base",
          "model_name": "LayoutModel",
          "model_module_version": "1.2.0",
          "state": {
            "_model_module": "@jupyter-widgets/base",
            "_model_module_version": "1.2.0",
            "_model_name": "LayoutModel",
            "_view_count": null,
            "_view_module": "@jupyter-widgets/base",
            "_view_module_version": "1.2.0",
            "_view_name": "LayoutView",
            "align_content": null,
            "align_items": null,
            "align_self": null,
            "border": null,
            "bottom": null,
            "display": null,
            "flex": null,
            "flex_flow": null,
            "grid_area": null,
            "grid_auto_columns": null,
            "grid_auto_flow": null,
            "grid_auto_rows": null,
            "grid_column": null,
            "grid_gap": null,
            "grid_row": null,
            "grid_template_areas": null,
            "grid_template_columns": null,
            "grid_template_rows": null,
            "height": "600px",
            "justify_content": null,
            "justify_items": null,
            "left": null,
            "margin": null,
            "max_height": null,
            "max_width": null,
            "min_height": null,
            "min_width": null,
            "object_fit": null,
            "object_position": null,
            "order": null,
            "overflow": null,
            "overflow_x": null,
            "overflow_y": null,
            "padding": null,
            "right": null,
            "top": null,
            "visibility": null,
            "width": null
          }
        },
        "ffd7a8ae49e34542a394578416d73118": {
          "model_module": "jupyter-leaflet",
          "model_name": "LeafletMapStyleModel",
          "model_module_version": "^0.18",
          "state": {
            "_model_module": "jupyter-leaflet",
            "_model_module_version": "^0.18",
            "_model_name": "LeafletMapStyleModel",
            "_view_count": null,
            "_view_module": "@jupyter-widgets/base",
            "_view_module_version": "1.2.0",
            "_view_name": "StyleView",
            "cursor": "grab"
          }
        },
        "bda2539410f64ae1b305803f5e11ccb1": {
          "model_module": "@jupyter-widgets/controls",
          "model_name": "HBoxModel",
          "model_module_version": "1.5.0",
          "state": {
            "_dom_classes": [
              "geemap-colab"
            ],
            "_model_module": "@jupyter-widgets/controls",
            "_model_module_version": "1.5.0",
            "_model_name": "HBoxModel",
            "_view_count": null,
            "_view_module": "@jupyter-widgets/controls",
            "_view_module_version": "1.5.0",
            "_view_name": "HBoxView",
            "box_style": "",
            "children": [
              "IPY_MODEL_1be01c9dec834cf198d8edb772080b2e"
            ],
            "layout": "IPY_MODEL_257f4c1d7a78416ea895f4f39699470d"
          }
        },
        "a67d631044294a4491246614ef1a322b": {
          "model_module": "@jupyter-widgets/controls",
          "model_name": "VBoxModel",
          "model_module_version": "1.5.0",
          "state": {
            "_dom_classes": [
              "geemap-colab"
            ],
            "_model_module": "@jupyter-widgets/controls",
            "_model_module_version": "1.5.0",
            "_model_name": "VBoxModel",
            "_view_count": null,
            "_view_module": "@jupyter-widgets/controls",
            "_view_module_version": "1.5.0",
            "_view_name": "VBoxView",
            "box_style": "",
            "children": [
              "IPY_MODEL_4ff4c6539ece431a9afacb1cae111505",
              "IPY_MODEL_fea5170dfb6d4ea1bfd54347d8ba5a4e"
            ],
            "layout": "IPY_MODEL_ce65e869c4bb45dc900115649b271b69"
          }
        },
        "1be01c9dec834cf198d8edb772080b2e": {
          "model_module": "@jupyter-widgets/controls",
          "model_name": "ToggleButtonModel",
          "model_module_version": "1.5.0",
          "state": {
            "_dom_classes": [],
            "_model_module": "@jupyter-widgets/controls",
            "_model_module_version": "1.5.0",
            "_model_name": "ToggleButtonModel",
            "_view_count": null,
            "_view_module": "@jupyter-widgets/controls",
            "_view_module_version": "1.5.0",
            "_view_name": "ToggleButtonView",
            "button_style": "",
            "description": "",
            "description_tooltip": null,
            "disabled": false,
            "icon": "globe",
            "layout": "IPY_MODEL_41384608844a45929876a2d3e29d0fd4",
            "style": "IPY_MODEL_7ebd167415d542af9b9ab707fba4fa1a",
            "tooltip": "Search location/data",
            "value": false
          }
        },
        "257f4c1d7a78416ea895f4f39699470d": {
          "model_module": "@jupyter-widgets/base",
          "model_name": "LayoutModel",
          "model_module_version": "1.2.0",
          "state": {
            "_model_module": "@jupyter-widgets/base",
            "_model_module_version": "1.2.0",
            "_model_name": "LayoutModel",
            "_view_count": null,
            "_view_module": "@jupyter-widgets/base",
            "_view_module_version": "1.2.0",
            "_view_name": "LayoutView",
            "align_content": null,
            "align_items": null,
            "align_self": null,
            "border": null,
            "bottom": null,
            "display": null,
            "flex": null,
            "flex_flow": null,
            "grid_area": null,
            "grid_auto_columns": null,
            "grid_auto_flow": null,
            "grid_auto_rows": null,
            "grid_column": null,
            "grid_gap": null,
            "grid_row": null,
            "grid_template_areas": null,
            "grid_template_columns": null,
            "grid_template_rows": null,
            "height": null,
            "justify_content": null,
            "justify_items": null,
            "left": null,
            "margin": null,
            "max_height": null,
            "max_width": null,
            "min_height": null,
            "min_width": null,
            "object_fit": null,
            "object_position": null,
            "order": null,
            "overflow": null,
            "overflow_x": null,
            "overflow_y": null,
            "padding": null,
            "right": null,
            "top": null,
            "visibility": null,
            "width": null
          }
        },
        "4ff4c6539ece431a9afacb1cae111505": {
          "model_module": "@jupyter-widgets/controls",
          "model_name": "HBoxModel",
          "model_module_version": "1.5.0",
          "state": {
            "_dom_classes": [],
            "_model_module": "@jupyter-widgets/controls",
            "_model_module_version": "1.5.0",
            "_model_name": "HBoxModel",
            "_view_count": null,
            "_view_module": "@jupyter-widgets/controls",
            "_view_module_version": "1.5.0",
            "_view_name": "HBoxView",
            "box_style": "",
            "children": [
              "IPY_MODEL_3ac5bd22bf8640188ec4dea31eb07652",
              "IPY_MODEL_b7c10e8df9f74a85ad71b6b9a927e8b4"
            ],
            "layout": "IPY_MODEL_78f41fad3556459bb47c24cb629f9246"
          }
        },
        "fea5170dfb6d4ea1bfd54347d8ba5a4e": {
          "model_module": "@jupyter-widgets/controls",
          "model_name": "VBoxModel",
          "model_module_version": "1.5.0",
          "state": {
            "_dom_classes": [],
            "_model_module": "@jupyter-widgets/controls",
            "_model_module_version": "1.5.0",
            "_model_name": "VBoxModel",
            "_view_count": null,
            "_view_module": "@jupyter-widgets/controls",
            "_view_module_version": "1.5.0",
            "_view_name": "VBoxView",
            "box_style": "",
            "children": [
              "IPY_MODEL_b493463997404033af979b4f96312752"
            ],
            "layout": "IPY_MODEL_2c58cadee9a24792b01a890c230ecb5f"
          }
        },
        "ce65e869c4bb45dc900115649b271b69": {
          "model_module": "@jupyter-widgets/base",
          "model_name": "LayoutModel",
          "model_module_version": "1.2.0",
          "state": {
            "_model_module": "@jupyter-widgets/base",
            "_model_module_version": "1.2.0",
            "_model_name": "LayoutModel",
            "_view_count": null,
            "_view_module": "@jupyter-widgets/base",
            "_view_module_version": "1.2.0",
            "_view_name": "LayoutView",
            "align_content": null,
            "align_items": null,
            "align_self": null,
            "border": null,
            "bottom": null,
            "display": null,
            "flex": null,
            "flex_flow": null,
            "grid_area": null,
            "grid_auto_columns": null,
            "grid_auto_flow": null,
            "grid_auto_rows": null,
            "grid_column": null,
            "grid_gap": null,
            "grid_row": null,
            "grid_template_areas": null,
            "grid_template_columns": null,
            "grid_template_rows": null,
            "height": null,
            "justify_content": null,
            "justify_items": null,
            "left": null,
            "margin": null,
            "max_height": null,
            "max_width": null,
            "min_height": null,
            "min_width": null,
            "object_fit": null,
            "object_position": null,
            "order": null,
            "overflow": null,
            "overflow_x": null,
            "overflow_y": null,
            "padding": null,
            "right": null,
            "top": null,
            "visibility": null,
            "width": null
          }
        },
        "41384608844a45929876a2d3e29d0fd4": {
          "model_module": "@jupyter-widgets/base",
          "model_name": "LayoutModel",
          "model_module_version": "1.2.0",
          "state": {
            "_model_module": "@jupyter-widgets/base",
            "_model_module_version": "1.2.0",
            "_model_name": "LayoutModel",
            "_view_count": null,
            "_view_module": "@jupyter-widgets/base",
            "_view_module_version": "1.2.0",
            "_view_name": "LayoutView",
            "align_content": null,
            "align_items": null,
            "align_self": null,
            "border": null,
            "bottom": null,
            "display": null,
            "flex": null,
            "flex_flow": null,
            "grid_area": null,
            "grid_auto_columns": null,
            "grid_auto_flow": null,
            "grid_auto_rows": null,
            "grid_column": null,
            "grid_gap": null,
            "grid_row": null,
            "grid_template_areas": null,
            "grid_template_columns": null,
            "grid_template_rows": null,
            "height": "28px",
            "justify_content": null,
            "justify_items": null,
            "left": null,
            "margin": null,
            "max_height": null,
            "max_width": null,
            "min_height": null,
            "min_width": null,
            "object_fit": null,
            "object_position": null,
            "order": null,
            "overflow": null,
            "overflow_x": null,
            "overflow_y": null,
            "padding": "0px 0px 0px 4px",
            "right": null,
            "top": null,
            "visibility": null,
            "width": "28px"
          }
        },
        "7ebd167415d542af9b9ab707fba4fa1a": {
          "model_module": "@jupyter-widgets/controls",
          "model_name": "DescriptionStyleModel",
          "model_module_version": "1.5.0",
          "state": {
            "_model_module": "@jupyter-widgets/controls",
            "_model_module_version": "1.5.0",
            "_model_name": "DescriptionStyleModel",
            "_view_count": null,
            "_view_module": "@jupyter-widgets/base",
            "_view_module_version": "1.2.0",
            "_view_name": "StyleView",
            "description_width": ""
          }
        },
        "3ac5bd22bf8640188ec4dea31eb07652": {
          "model_module": "@jupyter-widgets/controls",
          "model_name": "ToggleButtonModel",
          "model_module_version": "1.5.0",
          "state": {
            "_dom_classes": [],
            "_model_module": "@jupyter-widgets/controls",
            "_model_module_version": "1.5.0",
            "_model_name": "ToggleButtonModel",
            "_view_count": null,
            "_view_module": "@jupyter-widgets/controls",
            "_view_module_version": "1.5.0",
            "_view_name": "ToggleButtonView",
            "button_style": "",
            "description": "",
            "description_tooltip": null,
            "disabled": false,
            "icon": "server",
            "layout": "IPY_MODEL_f4235370446545878ce80a17ada2dcdb",
            "style": "IPY_MODEL_81dc9e76e1bc4d41835275cbd2fc41b1",
            "tooltip": "Layers",
            "value": true
          }
        },
        "b7c10e8df9f74a85ad71b6b9a927e8b4": {
          "model_module": "@jupyter-widgets/controls",
          "model_name": "ToggleButtonModel",
          "model_module_version": "1.5.0",
          "state": {
            "_dom_classes": [],
            "_model_module": "@jupyter-widgets/controls",
            "_model_module_version": "1.5.0",
            "_model_name": "ToggleButtonModel",
            "_view_count": null,
            "_view_module": "@jupyter-widgets/controls",
            "_view_module_version": "1.5.0",
            "_view_name": "ToggleButtonView",
            "button_style": "",
            "description": "",
            "description_tooltip": null,
            "disabled": false,
            "icon": "wrench",
            "layout": "IPY_MODEL_49ce4c7f889c4fe6be6204f0d3c7a0d8",
            "style": "IPY_MODEL_5084d75def4c4069b90a63f5e789f259",
            "tooltip": "Toolbar",
            "value": false
          }
        },
        "78f41fad3556459bb47c24cb629f9246": {
          "model_module": "@jupyter-widgets/base",
          "model_name": "LayoutModel",
          "model_module_version": "1.2.0",
          "state": {
            "_model_module": "@jupyter-widgets/base",
            "_model_module_version": "1.2.0",
            "_model_name": "LayoutModel",
            "_view_count": null,
            "_view_module": "@jupyter-widgets/base",
            "_view_module_version": "1.2.0",
            "_view_name": "LayoutView",
            "align_content": null,
            "align_items": "center",
            "align_self": null,
            "border": null,
            "bottom": null,
            "display": "flex",
            "flex": null,
            "flex_flow": null,
            "grid_area": null,
            "grid_auto_columns": null,
            "grid_auto_flow": null,
            "grid_auto_rows": null,
            "grid_column": null,
            "grid_gap": null,
            "grid_row": null,
            "grid_template_areas": null,
            "grid_template_columns": null,
            "grid_template_rows": null,
            "height": null,
            "justify_content": "flex-end",
            "justify_items": null,
            "left": null,
            "margin": null,
            "max_height": null,
            "max_width": null,
            "min_height": null,
            "min_width": null,
            "object_fit": null,
            "object_position": null,
            "order": null,
            "overflow": null,
            "overflow_x": null,
            "overflow_y": null,
            "padding": null,
            "right": null,
            "top": null,
            "visibility": null,
            "width": null
          }
        },
        "b493463997404033af979b4f96312752": {
          "model_module": "@jupyter-widgets/controls",
          "model_name": "VBoxModel",
          "model_module_version": "1.5.0",
          "state": {
            "_dom_classes": [
              "geemap-colab"
            ],
            "_model_module": "@jupyter-widgets/controls",
            "_model_module_version": "1.5.0",
            "_model_name": "VBoxModel",
            "_view_count": null,
            "_view_module": "@jupyter-widgets/controls",
            "_view_module_version": "1.5.0",
            "_view_name": "VBoxView",
            "box_style": "",
            "children": [
              "IPY_MODEL_d86e8ad56e1548448368db7f31e3366e",
              "IPY_MODEL_0b1fe1a3ba3f4aa99adb0fd40e88b024"
            ],
            "layout": "IPY_MODEL_61fc95e7572b463884afe7bd7140194a"
          }
        },
        "2c58cadee9a24792b01a890c230ecb5f": {
          "model_module": "@jupyter-widgets/base",
          "model_name": "LayoutModel",
          "model_module_version": "1.2.0",
          "state": {
            "_model_module": "@jupyter-widgets/base",
            "_model_module_version": "1.2.0",
            "_model_name": "LayoutModel",
            "_view_count": null,
            "_view_module": "@jupyter-widgets/base",
            "_view_module_version": "1.2.0",
            "_view_name": "LayoutView",
            "align_content": null,
            "align_items": null,
            "align_self": null,
            "border": null,
            "bottom": null,
            "display": null,
            "flex": null,
            "flex_flow": null,
            "grid_area": null,
            "grid_auto_columns": null,
            "grid_auto_flow": null,
            "grid_auto_rows": null,
            "grid_column": null,
            "grid_gap": null,
            "grid_row": null,
            "grid_template_areas": null,
            "grid_template_columns": null,
            "grid_template_rows": null,
            "height": null,
            "justify_content": null,
            "justify_items": null,
            "left": null,
            "margin": null,
            "max_height": null,
            "max_width": null,
            "min_height": null,
            "min_width": null,
            "object_fit": null,
            "object_position": null,
            "order": null,
            "overflow": null,
            "overflow_x": null,
            "overflow_y": null,
            "padding": null,
            "right": null,
            "top": null,
            "visibility": null,
            "width": null
          }
        },
        "f4235370446545878ce80a17ada2dcdb": {
          "model_module": "@jupyter-widgets/base",
          "model_name": "LayoutModel",
          "model_module_version": "1.2.0",
          "state": {
            "_model_module": "@jupyter-widgets/base",
            "_model_module_version": "1.2.0",
            "_model_name": "LayoutModel",
            "_view_count": null,
            "_view_module": "@jupyter-widgets/base",
            "_view_module_version": "1.2.0",
            "_view_name": "LayoutView",
            "align_content": null,
            "align_items": null,
            "align_self": null,
            "border": null,
            "bottom": null,
            "display": null,
            "flex": null,
            "flex_flow": null,
            "grid_area": null,
            "grid_auto_columns": null,
            "grid_auto_flow": null,
            "grid_auto_rows": null,
            "grid_column": null,
            "grid_gap": null,
            "grid_row": null,
            "grid_template_areas": null,
            "grid_template_columns": null,
            "grid_template_rows": null,
            "height": "28px",
            "justify_content": null,
            "justify_items": null,
            "left": null,
            "margin": null,
            "max_height": null,
            "max_width": null,
            "min_height": null,
            "min_width": null,
            "object_fit": null,
            "object_position": null,
            "order": null,
            "overflow": null,
            "overflow_x": null,
            "overflow_y": null,
            "padding": null,
            "right": null,
            "top": null,
            "visibility": null,
            "width": "72px"
          }
        },
        "81dc9e76e1bc4d41835275cbd2fc41b1": {
          "model_module": "@jupyter-widgets/controls",
          "model_name": "DescriptionStyleModel",
          "model_module_version": "1.5.0",
          "state": {
            "_model_module": "@jupyter-widgets/controls",
            "_model_module_version": "1.5.0",
            "_model_name": "DescriptionStyleModel",
            "_view_count": null,
            "_view_module": "@jupyter-widgets/base",
            "_view_module_version": "1.2.0",
            "_view_name": "StyleView",
            "description_width": ""
          }
        },
        "49ce4c7f889c4fe6be6204f0d3c7a0d8": {
          "model_module": "@jupyter-widgets/base",
          "model_name": "LayoutModel",
          "model_module_version": "1.2.0",
          "state": {
            "_model_module": "@jupyter-widgets/base",
            "_model_module_version": "1.2.0",
            "_model_name": "LayoutModel",
            "_view_count": null,
            "_view_module": "@jupyter-widgets/base",
            "_view_module_version": "1.2.0",
            "_view_name": "LayoutView",
            "align_content": null,
            "align_items": null,
            "align_self": null,
            "border": null,
            "bottom": null,
            "display": null,
            "flex": null,
            "flex_flow": null,
            "grid_area": null,
            "grid_auto_columns": null,
            "grid_auto_flow": null,
            "grid_auto_rows": null,
            "grid_column": null,
            "grid_gap": null,
            "grid_row": null,
            "grid_template_areas": null,
            "grid_template_columns": null,
            "grid_template_rows": null,
            "height": "28px",
            "justify_content": null,
            "justify_items": null,
            "left": null,
            "margin": null,
            "max_height": null,
            "max_width": null,
            "min_height": null,
            "min_width": null,
            "object_fit": null,
            "object_position": null,
            "order": null,
            "overflow": null,
            "overflow_x": null,
            "overflow_y": null,
            "padding": "0px 0px 0px 4px",
            "right": null,
            "top": null,
            "visibility": null,
            "width": "28px"
          }
        },
        "5084d75def4c4069b90a63f5e789f259": {
          "model_module": "@jupyter-widgets/controls",
          "model_name": "DescriptionStyleModel",
          "model_module_version": "1.5.0",
          "state": {
            "_model_module": "@jupyter-widgets/controls",
            "_model_module_version": "1.5.0",
            "_model_name": "DescriptionStyleModel",
            "_view_count": null,
            "_view_module": "@jupyter-widgets/base",
            "_view_module_version": "1.2.0",
            "_view_name": "StyleView",
            "description_width": ""
          }
        },
        "d86e8ad56e1548448368db7f31e3366e": {
          "model_module": "@jupyter-widgets/controls",
          "model_name": "HBoxModel",
          "model_module_version": "1.5.0",
          "state": {
            "_dom_classes": [],
            "_model_module": "@jupyter-widgets/controls",
            "_model_module_version": "1.5.0",
            "_model_name": "HBoxModel",
            "_view_count": null,
            "_view_module": "@jupyter-widgets/controls",
            "_view_module_version": "1.5.0",
            "_view_name": "HBoxView",
            "box_style": "",
            "children": [
              "IPY_MODEL_1859527b7fdb406ebee36bd34cfc1137",
              "IPY_MODEL_9eafdd0e56204f349c1cfc4343d6620f"
            ],
            "layout": "IPY_MODEL_cd7b588b30854811ac0dd41c84a094e5"
          }
        },
        "0b1fe1a3ba3f4aa99adb0fd40e88b024": {
          "model_module": "@jupyter-widgets/controls",
          "model_name": "VBoxModel",
          "model_module_version": "1.5.0",
          "state": {
            "_dom_classes": [],
            "_model_module": "@jupyter-widgets/controls",
            "_model_module_version": "1.5.0",
            "_model_name": "VBoxModel",
            "_view_count": null,
            "_view_module": "@jupyter-widgets/controls",
            "_view_module_version": "1.5.0",
            "_view_name": "VBoxView",
            "box_style": "",
            "children": [
              "IPY_MODEL_1973c62a64b346ccbedcddbe266a898c",
              "IPY_MODEL_1131f9965811468481444ff1b6ffa64b",
              "IPY_MODEL_90933792528b4c1da27fa2c8a9385013",
              "IPY_MODEL_544829a7157c495d8a205c33fc241fe9",
              "IPY_MODEL_160e98596de9425ca6babbdadde9d6f3"
            ],
            "layout": "IPY_MODEL_9706048af5e54eb4b86657d1cf022e0a"
          }
        },
        "61fc95e7572b463884afe7bd7140194a": {
          "model_module": "@jupyter-widgets/base",
          "model_name": "LayoutModel",
          "model_module_version": "1.2.0",
          "state": {
            "_model_module": "@jupyter-widgets/base",
            "_model_module_version": "1.2.0",
            "_model_name": "LayoutModel",
            "_view_count": null,
            "_view_module": "@jupyter-widgets/base",
            "_view_module_version": "1.2.0",
            "_view_name": "LayoutView",
            "align_content": null,
            "align_items": null,
            "align_self": null,
            "border": null,
            "bottom": null,
            "display": null,
            "flex": null,
            "flex_flow": null,
            "grid_area": null,
            "grid_auto_columns": null,
            "grid_auto_flow": null,
            "grid_auto_rows": null,
            "grid_column": null,
            "grid_gap": null,
            "grid_row": null,
            "grid_template_areas": null,
            "grid_template_columns": null,
            "grid_template_rows": null,
            "height": null,
            "justify_content": null,
            "justify_items": null,
            "left": null,
            "margin": null,
            "max_height": null,
            "max_width": null,
            "min_height": null,
            "min_width": null,
            "object_fit": null,
            "object_position": null,
            "order": null,
            "overflow": null,
            "overflow_x": null,
            "overflow_y": null,
            "padding": null,
            "right": null,
            "top": null,
            "visibility": null,
            "width": null
          }
        },
        "1859527b7fdb406ebee36bd34cfc1137": {
          "model_module": "@jupyter-widgets/controls",
          "model_name": "ButtonModel",
          "model_module_version": "1.5.0",
          "state": {
            "_dom_classes": [],
            "_model_module": "@jupyter-widgets/controls",
            "_model_module_version": "1.5.0",
            "_model_name": "ButtonModel",
            "_view_count": null,
            "_view_module": "@jupyter-widgets/controls",
            "_view_module_version": "1.5.0",
            "_view_name": "ButtonView",
            "button_style": "primary",
            "description": "",
            "disabled": false,
            "icon": "times",
            "layout": "IPY_MODEL_abcf95fd15c34f099f76559e71a4aee3",
            "style": "IPY_MODEL_02461f02a6be473eb5c894337e2315ab",
            "tooltip": "Close the tool"
          }
        },
        "9eafdd0e56204f349c1cfc4343d6620f": {
          "model_module": "@jupyter-widgets/controls",
          "model_name": "ToggleButtonModel",
          "model_module_version": "1.5.0",
          "state": {
            "_dom_classes": [],
            "_model_module": "@jupyter-widgets/controls",
            "_model_module_version": "1.5.0",
            "_model_name": "ToggleButtonModel",
            "_view_count": null,
            "_view_module": "@jupyter-widgets/controls",
            "_view_module_version": "1.5.0",
            "_view_name": "ToggleButtonView",
            "button_style": "",
            "description": "",
            "description_tooltip": null,
            "disabled": false,
            "icon": "server",
            "layout": "IPY_MODEL_297146577bcd479ab4cf7d15e22c629e",
            "style": "IPY_MODEL_0a45680073e545308187132ce64a3745",
            "tooltip": "Layer Manager",
            "value": true
          }
        },
        "cd7b588b30854811ac0dd41c84a094e5": {
          "model_module": "@jupyter-widgets/base",
          "model_name": "LayoutModel",
          "model_module_version": "1.2.0",
          "state": {
            "_model_module": "@jupyter-widgets/base",
            "_model_module_version": "1.2.0",
            "_model_name": "LayoutModel",
            "_view_count": null,
            "_view_module": "@jupyter-widgets/base",
            "_view_module_version": "1.2.0",
            "_view_name": "LayoutView",
            "align_content": null,
            "align_items": null,
            "align_self": null,
            "border": null,
            "bottom": null,
            "display": "none",
            "flex": null,
            "flex_flow": null,
            "grid_area": null,
            "grid_auto_columns": null,
            "grid_auto_flow": null,
            "grid_auto_rows": null,
            "grid_column": null,
            "grid_gap": null,
            "grid_row": null,
            "grid_template_areas": null,
            "grid_template_columns": null,
            "grid_template_rows": null,
            "height": null,
            "justify_content": null,
            "justify_items": null,
            "left": null,
            "margin": null,
            "max_height": null,
            "max_width": null,
            "min_height": null,
            "min_width": null,
            "object_fit": null,
            "object_position": null,
            "order": null,
            "overflow": null,
            "overflow_x": null,
            "overflow_y": null,
            "padding": null,
            "right": null,
            "top": null,
            "visibility": null,
            "width": null
          }
        },
        "4128b3983e6e480eb12a3a872275fc29": {
          "model_module": "@jupyter-widgets/controls",
          "model_name": "CheckboxModel",
          "model_module_version": "1.5.0",
          "state": {
            "_dom_classes": [],
            "_model_module": "@jupyter-widgets/controls",
            "_model_module_version": "1.5.0",
            "_model_name": "CheckboxModel",
            "_view_count": null,
            "_view_module": "@jupyter-widgets/controls",
            "_view_module_version": "1.5.0",
            "_view_name": "CheckboxView",
            "description": "All layers on/off",
            "description_tooltip": null,
            "disabled": false,
            "indent": false,
            "layout": "IPY_MODEL_55284352ec3d4a8da20b2d1122a16eea",
            "style": "IPY_MODEL_6e1cbcbe422b4e458e8e1ef826ef2250",
            "value": false
          }
        },
        "9fdf6d93569e4bf2b3cb78a1514f2b8f": {
          "model_module": "@jupyter-widgets/controls",
          "model_name": "HBoxModel",
          "model_module_version": "1.5.0",
          "state": {
            "_dom_classes": [],
            "_model_module": "@jupyter-widgets/controls",
            "_model_module_version": "1.5.0",
            "_model_name": "HBoxModel",
            "_view_count": null,
            "_view_module": "@jupyter-widgets/controls",
            "_view_module_version": "1.5.0",
            "_view_name": "HBoxView",
            "box_style": "",
            "children": [
              "IPY_MODEL_d9f864eb868840d6827855c65eb28fbc",
              "IPY_MODEL_ad9bd0e978c64dc3aa6678bfe56f0249",
              "IPY_MODEL_683bddc75a9848c0aafbf2b827c0a91c",
              "IPY_MODEL_af85c4118b2b4841aaefc48684ed1c8b"
            ],
            "layout": "IPY_MODEL_cf9b7e4ff54a45d38ba670529ddc4047"
          }
        },
        "601017857fbe40cdb72e156283763d6b": {
          "model_module": "@jupyter-widgets/controls",
          "model_name": "HBoxModel",
          "model_module_version": "1.5.0",
          "state": {
            "_dom_classes": [],
            "_model_module": "@jupyter-widgets/controls",
            "_model_module_version": "1.5.0",
            "_model_name": "HBoxModel",
            "_view_count": null,
            "_view_module": "@jupyter-widgets/controls",
            "_view_module_version": "1.5.0",
            "_view_name": "HBoxView",
            "box_style": "",
            "children": [
              "IPY_MODEL_59740ef366d846038c2fad78a41f5fdc",
              "IPY_MODEL_809d40b3bccd479c981687ebcef1b1c6",
              "IPY_MODEL_c812e4f778ac4c638febb8fc97c3916b",
              "IPY_MODEL_12f56e9efa5a4728a9a074f2d603fd19"
            ],
            "layout": "IPY_MODEL_af51840ee251491bb1125fb62d7247b1"
          }
        },
        "9706048af5e54eb4b86657d1cf022e0a": {
          "model_module": "@jupyter-widgets/base",
          "model_name": "LayoutModel",
          "model_module_version": "1.2.0",
          "state": {
            "_model_module": "@jupyter-widgets/base",
            "_model_module_version": "1.2.0",
            "_model_name": "LayoutModel",
            "_view_count": null,
            "_view_module": "@jupyter-widgets/base",
            "_view_module_version": "1.2.0",
            "_view_name": "LayoutView",
            "align_content": null,
            "align_items": null,
            "align_self": null,
            "border": null,
            "bottom": null,
            "display": null,
            "flex": null,
            "flex_flow": null,
            "grid_area": null,
            "grid_auto_columns": null,
            "grid_auto_flow": null,
            "grid_auto_rows": null,
            "grid_column": null,
            "grid_gap": null,
            "grid_row": null,
            "grid_template_areas": null,
            "grid_template_columns": null,
            "grid_template_rows": null,
            "height": null,
            "justify_content": null,
            "justify_items": null,
            "left": null,
            "margin": null,
            "max_height": null,
            "max_width": null,
            "min_height": null,
            "min_width": null,
            "object_fit": null,
            "object_position": null,
            "order": null,
            "overflow": null,
            "overflow_x": null,
            "overflow_y": null,
            "padding": null,
            "right": null,
            "top": null,
            "visibility": null,
            "width": null
          }
        },
        "abcf95fd15c34f099f76559e71a4aee3": {
          "model_module": "@jupyter-widgets/base",
          "model_name": "LayoutModel",
          "model_module_version": "1.2.0",
          "state": {
            "_model_module": "@jupyter-widgets/base",
            "_model_module_version": "1.2.0",
            "_model_name": "LayoutModel",
            "_view_count": null,
            "_view_module": "@jupyter-widgets/base",
            "_view_module_version": "1.2.0",
            "_view_name": "LayoutView",
            "align_content": null,
            "align_items": null,
            "align_self": null,
            "border": null,
            "bottom": null,
            "display": null,
            "flex": null,
            "flex_flow": null,
            "grid_area": null,
            "grid_auto_columns": null,
            "grid_auto_flow": null,
            "grid_auto_rows": null,
            "grid_column": null,
            "grid_gap": null,
            "grid_row": null,
            "grid_template_areas": null,
            "grid_template_columns": null,
            "grid_template_rows": null,
            "height": "28px",
            "justify_content": null,
            "justify_items": null,
            "left": null,
            "margin": null,
            "max_height": null,
            "max_width": null,
            "min_height": null,
            "min_width": null,
            "object_fit": null,
            "object_position": null,
            "order": null,
            "overflow": null,
            "overflow_x": null,
            "overflow_y": null,
            "padding": "0px",
            "right": null,
            "top": null,
            "visibility": null,
            "width": "28px"
          }
        },
        "02461f02a6be473eb5c894337e2315ab": {
          "model_module": "@jupyter-widgets/controls",
          "model_name": "ButtonStyleModel",
          "model_module_version": "1.5.0",
          "state": {
            "_model_module": "@jupyter-widgets/controls",
            "_model_module_version": "1.5.0",
            "_model_name": "ButtonStyleModel",
            "_view_count": null,
            "_view_module": "@jupyter-widgets/base",
            "_view_module_version": "1.2.0",
            "_view_name": "StyleView",
            "button_color": null,
            "font_weight": ""
          }
        },
        "297146577bcd479ab4cf7d15e22c629e": {
          "model_module": "@jupyter-widgets/base",
          "model_name": "LayoutModel",
          "model_module_version": "1.2.0",
          "state": {
            "_model_module": "@jupyter-widgets/base",
            "_model_module_version": "1.2.0",
            "_model_name": "LayoutModel",
            "_view_count": null,
            "_view_module": "@jupyter-widgets/base",
            "_view_module_version": "1.2.0",
            "_view_name": "LayoutView",
            "align_content": null,
            "align_items": null,
            "align_self": null,
            "border": null,
            "bottom": null,
            "display": null,
            "flex": null,
            "flex_flow": null,
            "grid_area": null,
            "grid_auto_columns": null,
            "grid_auto_flow": null,
            "grid_auto_rows": null,
            "grid_column": null,
            "grid_gap": null,
            "grid_row": null,
            "grid_template_areas": null,
            "grid_template_columns": null,
            "grid_template_rows": null,
            "height": "28px",
            "justify_content": null,
            "justify_items": null,
            "left": null,
            "margin": null,
            "max_height": null,
            "max_width": null,
            "min_height": null,
            "min_width": null,
            "object_fit": null,
            "object_position": null,
            "order": null,
            "overflow": null,
            "overflow_x": null,
            "overflow_y": null,
            "padding": "0px 0px 0px 4px",
            "right": null,
            "top": null,
            "visibility": null,
            "width": "28px"
          }
        },
        "0a45680073e545308187132ce64a3745": {
          "model_module": "@jupyter-widgets/controls",
          "model_name": "DescriptionStyleModel",
          "model_module_version": "1.5.0",
          "state": {
            "_model_module": "@jupyter-widgets/controls",
            "_model_module_version": "1.5.0",
            "_model_name": "DescriptionStyleModel",
            "_view_count": null,
            "_view_module": "@jupyter-widgets/base",
            "_view_module_version": "1.2.0",
            "_view_name": "StyleView",
            "description_width": ""
          }
        },
        "55284352ec3d4a8da20b2d1122a16eea": {
          "model_module": "@jupyter-widgets/base",
          "model_name": "LayoutModel",
          "model_module_version": "1.2.0",
          "state": {
            "_model_module": "@jupyter-widgets/base",
            "_model_module_version": "1.2.0",
            "_model_name": "LayoutModel",
            "_view_count": null,
            "_view_module": "@jupyter-widgets/base",
            "_view_module_version": "1.2.0",
            "_view_name": "LayoutView",
            "align_content": null,
            "align_items": null,
            "align_self": null,
            "border": null,
            "bottom": null,
            "display": null,
            "flex": null,
            "flex_flow": null,
            "grid_area": null,
            "grid_auto_columns": null,
            "grid_auto_flow": null,
            "grid_auto_rows": null,
            "grid_column": null,
            "grid_gap": null,
            "grid_row": null,
            "grid_template_areas": null,
            "grid_template_columns": null,
            "grid_template_rows": null,
            "height": "18px",
            "justify_content": null,
            "justify_items": null,
            "left": null,
            "margin": null,
            "max_height": null,
            "max_width": null,
            "min_height": null,
            "min_width": null,
            "object_fit": null,
            "object_position": null,
            "order": null,
            "overflow": null,
            "overflow_x": null,
            "overflow_y": null,
            "padding": "0px 4px 25px 4px",
            "right": null,
            "top": null,
            "visibility": null,
            "width": "30ex"
          }
        },
        "6e1cbcbe422b4e458e8e1ef826ef2250": {
          "model_module": "@jupyter-widgets/controls",
          "model_name": "DescriptionStyleModel",
          "model_module_version": "1.5.0",
          "state": {
            "_model_module": "@jupyter-widgets/controls",
            "_model_module_version": "1.5.0",
            "_model_name": "DescriptionStyleModel",
            "_view_count": null,
            "_view_module": "@jupyter-widgets/base",
            "_view_module_version": "1.2.0",
            "_view_name": "StyleView",
            "description_width": ""
          }
        },
        "d9f864eb868840d6827855c65eb28fbc": {
          "model_module": "@jupyter-widgets/controls",
          "model_name": "CheckboxModel",
          "model_module_version": "1.5.0",
          "state": {
            "_dom_classes": [],
            "_model_module": "@jupyter-widgets/controls",
            "_model_module_version": "1.5.0",
            "_model_name": "CheckboxModel",
            "_view_count": null,
            "_view_module": "@jupyter-widgets/controls",
            "_view_module_version": "1.5.0",
            "_view_name": "CheckboxView",
            "description": "Esri.WorldImagery",
            "description_tooltip": null,
            "disabled": false,
            "indent": false,
            "layout": "IPY_MODEL_9ed5af73dfd845c19ef5b08ecf5d9e72",
            "style": "IPY_MODEL_1809ec8de82a435f916f6ea336fc7ff7",
            "value": true
          }
        },
        "ad9bd0e978c64dc3aa6678bfe56f0249": {
          "model_module": "@jupyter-widgets/controls",
          "model_name": "FloatSliderModel",
          "model_module_version": "1.5.0",
          "state": {
            "_dom_classes": [],
            "_model_module": "@jupyter-widgets/controls",
            "_model_module_version": "1.5.0",
            "_model_name": "FloatSliderModel",
            "_view_count": null,
            "_view_module": "@jupyter-widgets/controls",
            "_view_module_version": "1.5.0",
            "_view_name": "FloatSliderView",
            "continuous_update": true,
            "description": "",
            "description_tooltip": null,
            "disabled": false,
            "layout": "IPY_MODEL_162f5ff750024f81a642cddd142eb911",
            "max": 1,
            "min": 0,
            "orientation": "horizontal",
            "readout": false,
            "readout_format": ".2f",
            "step": 0.01,
            "style": "IPY_MODEL_5210137976f24eaf959f7fb8a6c24eef",
            "value": 1
          }
        },
        "683bddc75a9848c0aafbf2b827c0a91c": {
          "model_module": "@jupyter-widgets/controls",
          "model_name": "ButtonModel",
          "model_module_version": "1.5.0",
          "state": {
            "_dom_classes": [],
            "_model_module": "@jupyter-widgets/controls",
            "_model_module_version": "1.5.0",
            "_model_name": "ButtonModel",
            "_view_count": null,
            "_view_module": "@jupyter-widgets/controls",
            "_view_module_version": "1.5.0",
            "_view_name": "ButtonView",
            "button_style": "",
            "description": "",
            "disabled": false,
            "icon": "gear",
            "layout": "IPY_MODEL_510c0b2bdafe453889fa4e912f0a360a",
            "style": "IPY_MODEL_8be572cca16b4733a2bd326fdc5658bd",
            "tooltip": "Esri.WorldImagery"
          }
        },
        "af85c4118b2b4841aaefc48684ed1c8b": {
          "model_module": "@jupyter-widgets/controls",
          "model_name": "ButtonModel",
          "model_module_version": "1.5.0",
          "state": {
            "_dom_classes": [],
            "_model_module": "@jupyter-widgets/controls",
            "_model_module_version": "1.5.0",
            "_model_name": "ButtonModel",
            "_view_count": null,
            "_view_module": "@jupyter-widgets/controls",
            "_view_module_version": "1.5.0",
            "_view_name": "ButtonView",
            "button_style": "",
            "description": "",
            "disabled": false,
            "icon": "times",
            "layout": "IPY_MODEL_8337671e177842dca3160e1057da099c",
            "style": "IPY_MODEL_cc1352ece9254405abd111cf42fcdb2f",
            "tooltip": "Loaded"
          }
        },
        "cf9b7e4ff54a45d38ba670529ddc4047": {
          "model_module": "@jupyter-widgets/base",
          "model_name": "LayoutModel",
          "model_module_version": "1.2.0",
          "state": {
            "_model_module": "@jupyter-widgets/base",
            "_model_module_version": "1.2.0",
            "_model_name": "LayoutModel",
            "_view_count": null,
            "_view_module": "@jupyter-widgets/base",
            "_view_module_version": "1.2.0",
            "_view_name": "LayoutView",
            "align_content": null,
            "align_items": null,
            "align_self": null,
            "border": null,
            "bottom": null,
            "display": null,
            "flex": null,
            "flex_flow": null,
            "grid_area": null,
            "grid_auto_columns": null,
            "grid_auto_flow": null,
            "grid_auto_rows": null,
            "grid_column": null,
            "grid_gap": null,
            "grid_row": null,
            "grid_template_areas": null,
            "grid_template_columns": null,
            "grid_template_rows": null,
            "height": null,
            "justify_content": null,
            "justify_items": null,
            "left": null,
            "margin": null,
            "max_height": null,
            "max_width": null,
            "min_height": null,
            "min_width": null,
            "object_fit": null,
            "object_position": null,
            "order": null,
            "overflow": null,
            "overflow_x": null,
            "overflow_y": null,
            "padding": "0px 4px 0px 4px",
            "right": null,
            "top": null,
            "visibility": null,
            "width": null
          }
        },
        "59740ef366d846038c2fad78a41f5fdc": {
          "model_module": "@jupyter-widgets/controls",
          "model_name": "CheckboxModel",
          "model_module_version": "1.5.0",
          "state": {
            "_dom_classes": [],
            "_model_module": "@jupyter-widgets/controls",
            "_model_module_version": "1.5.0",
            "_model_name": "CheckboxModel",
            "_view_count": null,
            "_view_module": "@jupyter-widgets/controls",
            "_view_module_version": "1.5.0",
            "_view_name": "CheckboxView",
            "description": "Sabak Bernam",
            "description_tooltip": null,
            "disabled": false,
            "indent": false,
            "layout": "IPY_MODEL_4fa67e95be464d3d991f051dba3a8bda",
            "style": "IPY_MODEL_0ef396165b0846389cd3965f45fffd77",
            "value": true
          }
        },
        "809d40b3bccd479c981687ebcef1b1c6": {
          "model_module": "@jupyter-widgets/controls",
          "model_name": "FloatSliderModel",
          "model_module_version": "1.5.0",
          "state": {
            "_dom_classes": [],
            "_model_module": "@jupyter-widgets/controls",
            "_model_module_version": "1.5.0",
            "_model_name": "FloatSliderModel",
            "_view_count": null,
            "_view_module": "@jupyter-widgets/controls",
            "_view_module_version": "1.5.0",
            "_view_name": "FloatSliderView",
            "continuous_update": true,
            "description": "",
            "description_tooltip": null,
            "disabled": false,
            "layout": "IPY_MODEL_06bf0710ec3b4d819dbd04ce463a191d",
            "max": 1,
            "min": 0,
            "orientation": "horizontal",
            "readout": false,
            "readout_format": ".2f",
            "step": 0.01,
            "style": "IPY_MODEL_0398960497954517b9df82f470953ca9",
            "value": 1
          }
        },
        "c812e4f778ac4c638febb8fc97c3916b": {
          "model_module": "@jupyter-widgets/controls",
          "model_name": "ButtonModel",
          "model_module_version": "1.5.0",
          "state": {
            "_dom_classes": [],
            "_model_module": "@jupyter-widgets/controls",
            "_model_module_version": "1.5.0",
            "_model_name": "ButtonModel",
            "_view_count": null,
            "_view_module": "@jupyter-widgets/controls",
            "_view_module_version": "1.5.0",
            "_view_name": "ButtonView",
            "button_style": "",
            "description": "",
            "disabled": false,
            "icon": "gear",
            "layout": "IPY_MODEL_96c6c5e54f42483fbea5b086a0fbf6f6",
            "style": "IPY_MODEL_a9b2b6c6e36a4cf4940482a29a6f58f9",
            "tooltip": "Sabak Bernam"
          }
        },
        "12f56e9efa5a4728a9a074f2d603fd19": {
          "model_module": "@jupyter-widgets/controls",
          "model_name": "ButtonModel",
          "model_module_version": "1.5.0",
          "state": {
            "_dom_classes": [],
            "_model_module": "@jupyter-widgets/controls",
            "_model_module_version": "1.5.0",
            "_model_name": "ButtonModel",
            "_view_count": null,
            "_view_module": "@jupyter-widgets/controls",
            "_view_module_version": "1.5.0",
            "_view_name": "ButtonView",
            "button_style": "",
            "description": "",
            "disabled": false,
            "icon": "times",
            "layout": "IPY_MODEL_3c049d68026248979e777277c787018c",
            "style": "IPY_MODEL_3e39678c42aa46edb57b4e475b012599",
            "tooltip": "Loaded"
          }
        },
        "af51840ee251491bb1125fb62d7247b1": {
          "model_module": "@jupyter-widgets/base",
          "model_name": "LayoutModel",
          "model_module_version": "1.2.0",
          "state": {
            "_model_module": "@jupyter-widgets/base",
            "_model_module_version": "1.2.0",
            "_model_name": "LayoutModel",
            "_view_count": null,
            "_view_module": "@jupyter-widgets/base",
            "_view_module_version": "1.2.0",
            "_view_name": "LayoutView",
            "align_content": null,
            "align_items": null,
            "align_self": null,
            "border": null,
            "bottom": null,
            "display": null,
            "flex": null,
            "flex_flow": null,
            "grid_area": null,
            "grid_auto_columns": null,
            "grid_auto_flow": null,
            "grid_auto_rows": null,
            "grid_column": null,
            "grid_gap": null,
            "grid_row": null,
            "grid_template_areas": null,
            "grid_template_columns": null,
            "grid_template_rows": null,
            "height": null,
            "justify_content": null,
            "justify_items": null,
            "left": null,
            "margin": null,
            "max_height": null,
            "max_width": null,
            "min_height": null,
            "min_width": null,
            "object_fit": null,
            "object_position": null,
            "order": null,
            "overflow": null,
            "overflow_x": null,
            "overflow_y": null,
            "padding": "0px 4px 0px 4px",
            "right": null,
            "top": null,
            "visibility": null,
            "width": null
          }
        },
        "9ed5af73dfd845c19ef5b08ecf5d9e72": {
          "model_module": "@jupyter-widgets/base",
          "model_name": "LayoutModel",
          "model_module_version": "1.2.0",
          "state": {
            "_model_module": "@jupyter-widgets/base",
            "_model_module_version": "1.2.0",
            "_model_name": "LayoutModel",
            "_view_count": null,
            "_view_module": "@jupyter-widgets/base",
            "_view_module_version": "1.2.0",
            "_view_name": "LayoutView",
            "align_content": null,
            "align_items": null,
            "align_self": null,
            "border": null,
            "bottom": null,
            "display": null,
            "flex": null,
            "flex_flow": null,
            "grid_area": null,
            "grid_auto_columns": null,
            "grid_auto_flow": null,
            "grid_auto_rows": null,
            "grid_column": null,
            "grid_gap": null,
            "grid_row": null,
            "grid_template_areas": null,
            "grid_template_columns": null,
            "grid_template_rows": null,
            "height": "18px",
            "justify_content": null,
            "justify_items": null,
            "left": null,
            "margin": null,
            "max_height": null,
            "max_width": null,
            "min_height": null,
            "min_width": null,
            "object_fit": null,
            "object_position": null,
            "order": null,
            "overflow": null,
            "overflow_x": null,
            "overflow_y": null,
            "padding": null,
            "right": null,
            "top": null,
            "visibility": null,
            "width": "140px"
          }
        },
        "1809ec8de82a435f916f6ea336fc7ff7": {
          "model_module": "@jupyter-widgets/controls",
          "model_name": "DescriptionStyleModel",
          "model_module_version": "1.5.0",
          "state": {
            "_model_module": "@jupyter-widgets/controls",
            "_model_module_version": "1.5.0",
            "_model_name": "DescriptionStyleModel",
            "_view_count": null,
            "_view_module": "@jupyter-widgets/base",
            "_view_module_version": "1.2.0",
            "_view_name": "StyleView",
            "description_width": ""
          }
        },
        "162f5ff750024f81a642cddd142eb911": {
          "model_module": "@jupyter-widgets/base",
          "model_name": "LayoutModel",
          "model_module_version": "1.2.0",
          "state": {
            "_model_module": "@jupyter-widgets/base",
            "_model_module_version": "1.2.0",
            "_model_name": "LayoutModel",
            "_view_count": null,
            "_view_module": "@jupyter-widgets/base",
            "_view_module_version": "1.2.0",
            "_view_name": "LayoutView",
            "align_content": null,
            "align_items": null,
            "align_self": null,
            "border": null,
            "bottom": null,
            "display": null,
            "flex": null,
            "flex_flow": null,
            "grid_area": null,
            "grid_auto_columns": null,
            "grid_auto_flow": null,
            "grid_auto_rows": null,
            "grid_column": null,
            "grid_gap": null,
            "grid_row": null,
            "grid_template_areas": null,
            "grid_template_columns": null,
            "grid_template_rows": null,
            "height": null,
            "justify_content": null,
            "justify_items": null,
            "left": null,
            "margin": null,
            "max_height": null,
            "max_width": null,
            "min_height": null,
            "min_width": null,
            "object_fit": null,
            "object_position": null,
            "order": null,
            "overflow": null,
            "overflow_x": null,
            "overflow_y": null,
            "padding": "0px 3px 0px 0px",
            "right": null,
            "top": null,
            "visibility": null,
            "width": "70px"
          }
        },
        "5210137976f24eaf959f7fb8a6c24eef": {
          "model_module": "@jupyter-widgets/controls",
          "model_name": "SliderStyleModel",
          "model_module_version": "1.5.0",
          "state": {
            "_model_module": "@jupyter-widgets/controls",
            "_model_module_version": "1.5.0",
            "_model_name": "SliderStyleModel",
            "_view_count": null,
            "_view_module": "@jupyter-widgets/base",
            "_view_module_version": "1.2.0",
            "_view_name": "StyleView",
            "description_width": "",
            "handle_color": null
          }
        },
        "510c0b2bdafe453889fa4e912f0a360a": {
          "model_module": "@jupyter-widgets/base",
          "model_name": "LayoutModel",
          "model_module_version": "1.2.0",
          "state": {
            "_model_module": "@jupyter-widgets/base",
            "_model_module_version": "1.2.0",
            "_model_name": "LayoutModel",
            "_view_count": null,
            "_view_module": "@jupyter-widgets/base",
            "_view_module_version": "1.2.0",
            "_view_name": "LayoutView",
            "align_content": null,
            "align_items": null,
            "align_self": null,
            "border": null,
            "bottom": null,
            "display": null,
            "flex": null,
            "flex_flow": null,
            "grid_area": null,
            "grid_auto_columns": null,
            "grid_auto_flow": null,
            "grid_auto_rows": null,
            "grid_column": null,
            "grid_gap": null,
            "grid_row": null,
            "grid_template_areas": null,
            "grid_template_columns": null,
            "grid_template_rows": null,
            "height": "25px",
            "justify_content": null,
            "justify_items": null,
            "left": null,
            "margin": null,
            "max_height": null,
            "max_width": null,
            "min_height": null,
            "min_width": null,
            "object_fit": null,
            "object_position": null,
            "order": null,
            "overflow": null,
            "overflow_x": null,
            "overflow_y": null,
            "padding": "0px",
            "right": null,
            "top": null,
            "visibility": null,
            "width": "25px"
          }
        },
        "8be572cca16b4733a2bd326fdc5658bd": {
          "model_module": "@jupyter-widgets/controls",
          "model_name": "ButtonStyleModel",
          "model_module_version": "1.5.0",
          "state": {
            "_model_module": "@jupyter-widgets/controls",
            "_model_module_version": "1.5.0",
            "_model_name": "ButtonStyleModel",
            "_view_count": null,
            "_view_module": "@jupyter-widgets/base",
            "_view_module_version": "1.2.0",
            "_view_name": "StyleView",
            "button_color": null,
            "font_weight": ""
          }
        },
        "8337671e177842dca3160e1057da099c": {
          "model_module": "@jupyter-widgets/base",
          "model_name": "LayoutModel",
          "model_module_version": "1.2.0",
          "state": {
            "_model_module": "@jupyter-widgets/base",
            "_model_module_version": "1.2.0",
            "_model_name": "LayoutModel",
            "_view_count": null,
            "_view_module": "@jupyter-widgets/base",
            "_view_module_version": "1.2.0",
            "_view_name": "LayoutView",
            "align_content": null,
            "align_items": null,
            "align_self": null,
            "border": null,
            "bottom": null,
            "display": null,
            "flex": null,
            "flex_flow": null,
            "grid_area": null,
            "grid_auto_columns": null,
            "grid_auto_flow": null,
            "grid_auto_rows": null,
            "grid_column": null,
            "grid_gap": null,
            "grid_row": null,
            "grid_template_areas": null,
            "grid_template_columns": null,
            "grid_template_rows": null,
            "height": "25px",
            "justify_content": null,
            "justify_items": null,
            "left": null,
            "margin": null,
            "max_height": null,
            "max_width": null,
            "min_height": null,
            "min_width": null,
            "object_fit": null,
            "object_position": null,
            "order": null,
            "overflow": null,
            "overflow_x": null,
            "overflow_y": null,
            "padding": "0px",
            "right": null,
            "top": null,
            "visibility": null,
            "width": "25px"
          }
        },
        "cc1352ece9254405abd111cf42fcdb2f": {
          "model_module": "@jupyter-widgets/controls",
          "model_name": "ButtonStyleModel",
          "model_module_version": "1.5.0",
          "state": {
            "_model_module": "@jupyter-widgets/controls",
            "_model_module_version": "1.5.0",
            "_model_name": "ButtonStyleModel",
            "_view_count": null,
            "_view_module": "@jupyter-widgets/base",
            "_view_module_version": "1.2.0",
            "_view_name": "StyleView",
            "button_color": null,
            "font_weight": ""
          }
        },
        "4fa67e95be464d3d991f051dba3a8bda": {
          "model_module": "@jupyter-widgets/base",
          "model_name": "LayoutModel",
          "model_module_version": "1.2.0",
          "state": {
            "_model_module": "@jupyter-widgets/base",
            "_model_module_version": "1.2.0",
            "_model_name": "LayoutModel",
            "_view_count": null,
            "_view_module": "@jupyter-widgets/base",
            "_view_module_version": "1.2.0",
            "_view_name": "LayoutView",
            "align_content": null,
            "align_items": null,
            "align_self": null,
            "border": null,
            "bottom": null,
            "display": null,
            "flex": null,
            "flex_flow": null,
            "grid_area": null,
            "grid_auto_columns": null,
            "grid_auto_flow": null,
            "grid_auto_rows": null,
            "grid_column": null,
            "grid_gap": null,
            "grid_row": null,
            "grid_template_areas": null,
            "grid_template_columns": null,
            "grid_template_rows": null,
            "height": "18px",
            "justify_content": null,
            "justify_items": null,
            "left": null,
            "margin": null,
            "max_height": null,
            "max_width": null,
            "min_height": null,
            "min_width": null,
            "object_fit": null,
            "object_position": null,
            "order": null,
            "overflow": null,
            "overflow_x": null,
            "overflow_y": null,
            "padding": null,
            "right": null,
            "top": null,
            "visibility": null,
            "width": "140px"
          }
        },
        "0ef396165b0846389cd3965f45fffd77": {
          "model_module": "@jupyter-widgets/controls",
          "model_name": "DescriptionStyleModel",
          "model_module_version": "1.5.0",
          "state": {
            "_model_module": "@jupyter-widgets/controls",
            "_model_module_version": "1.5.0",
            "_model_name": "DescriptionStyleModel",
            "_view_count": null,
            "_view_module": "@jupyter-widgets/base",
            "_view_module_version": "1.2.0",
            "_view_name": "StyleView",
            "description_width": ""
          }
        },
        "06bf0710ec3b4d819dbd04ce463a191d": {
          "model_module": "@jupyter-widgets/base",
          "model_name": "LayoutModel",
          "model_module_version": "1.2.0",
          "state": {
            "_model_module": "@jupyter-widgets/base",
            "_model_module_version": "1.2.0",
            "_model_name": "LayoutModel",
            "_view_count": null,
            "_view_module": "@jupyter-widgets/base",
            "_view_module_version": "1.2.0",
            "_view_name": "LayoutView",
            "align_content": null,
            "align_items": null,
            "align_self": null,
            "border": null,
            "bottom": null,
            "display": null,
            "flex": null,
            "flex_flow": null,
            "grid_area": null,
            "grid_auto_columns": null,
            "grid_auto_flow": null,
            "grid_auto_rows": null,
            "grid_column": null,
            "grid_gap": null,
            "grid_row": null,
            "grid_template_areas": null,
            "grid_template_columns": null,
            "grid_template_rows": null,
            "height": null,
            "justify_content": null,
            "justify_items": null,
            "left": null,
            "margin": null,
            "max_height": null,
            "max_width": null,
            "min_height": null,
            "min_width": null,
            "object_fit": null,
            "object_position": null,
            "order": null,
            "overflow": null,
            "overflow_x": null,
            "overflow_y": null,
            "padding": "0px 3px 0px 0px",
            "right": null,
            "top": null,
            "visibility": null,
            "width": "70px"
          }
        },
        "0398960497954517b9df82f470953ca9": {
          "model_module": "@jupyter-widgets/controls",
          "model_name": "SliderStyleModel",
          "model_module_version": "1.5.0",
          "state": {
            "_model_module": "@jupyter-widgets/controls",
            "_model_module_version": "1.5.0",
            "_model_name": "SliderStyleModel",
            "_view_count": null,
            "_view_module": "@jupyter-widgets/base",
            "_view_module_version": "1.2.0",
            "_view_name": "StyleView",
            "description_width": "",
            "handle_color": null
          }
        },
        "96c6c5e54f42483fbea5b086a0fbf6f6": {
          "model_module": "@jupyter-widgets/base",
          "model_name": "LayoutModel",
          "model_module_version": "1.2.0",
          "state": {
            "_model_module": "@jupyter-widgets/base",
            "_model_module_version": "1.2.0",
            "_model_name": "LayoutModel",
            "_view_count": null,
            "_view_module": "@jupyter-widgets/base",
            "_view_module_version": "1.2.0",
            "_view_name": "LayoutView",
            "align_content": null,
            "align_items": null,
            "align_self": null,
            "border": null,
            "bottom": null,
            "display": null,
            "flex": null,
            "flex_flow": null,
            "grid_area": null,
            "grid_auto_columns": null,
            "grid_auto_flow": null,
            "grid_auto_rows": null,
            "grid_column": null,
            "grid_gap": null,
            "grid_row": null,
            "grid_template_areas": null,
            "grid_template_columns": null,
            "grid_template_rows": null,
            "height": "25px",
            "justify_content": null,
            "justify_items": null,
            "left": null,
            "margin": null,
            "max_height": null,
            "max_width": null,
            "min_height": null,
            "min_width": null,
            "object_fit": null,
            "object_position": null,
            "order": null,
            "overflow": null,
            "overflow_x": null,
            "overflow_y": null,
            "padding": "0px",
            "right": null,
            "top": null,
            "visibility": null,
            "width": "25px"
          }
        },
        "a9b2b6c6e36a4cf4940482a29a6f58f9": {
          "model_module": "@jupyter-widgets/controls",
          "model_name": "ButtonStyleModel",
          "model_module_version": "1.5.0",
          "state": {
            "_model_module": "@jupyter-widgets/controls",
            "_model_module_version": "1.5.0",
            "_model_name": "ButtonStyleModel",
            "_view_count": null,
            "_view_module": "@jupyter-widgets/base",
            "_view_module_version": "1.2.0",
            "_view_name": "StyleView",
            "button_color": null,
            "font_weight": ""
          }
        },
        "3c049d68026248979e777277c787018c": {
          "model_module": "@jupyter-widgets/base",
          "model_name": "LayoutModel",
          "model_module_version": "1.2.0",
          "state": {
            "_model_module": "@jupyter-widgets/base",
            "_model_module_version": "1.2.0",
            "_model_name": "LayoutModel",
            "_view_count": null,
            "_view_module": "@jupyter-widgets/base",
            "_view_module_version": "1.2.0",
            "_view_name": "LayoutView",
            "align_content": null,
            "align_items": null,
            "align_self": null,
            "border": null,
            "bottom": null,
            "display": null,
            "flex": null,
            "flex_flow": null,
            "grid_area": null,
            "grid_auto_columns": null,
            "grid_auto_flow": null,
            "grid_auto_rows": null,
            "grid_column": null,
            "grid_gap": null,
            "grid_row": null,
            "grid_template_areas": null,
            "grid_template_columns": null,
            "grid_template_rows": null,
            "height": "25px",
            "justify_content": null,
            "justify_items": null,
            "left": null,
            "margin": null,
            "max_height": null,
            "max_width": null,
            "min_height": null,
            "min_width": null,
            "object_fit": null,
            "object_position": null,
            "order": null,
            "overflow": null,
            "overflow_x": null,
            "overflow_y": null,
            "padding": "0px",
            "right": null,
            "top": null,
            "visibility": null,
            "width": "25px"
          }
        },
        "3e39678c42aa46edb57b4e475b012599": {
          "model_module": "@jupyter-widgets/controls",
          "model_name": "ButtonStyleModel",
          "model_module_version": "1.5.0",
          "state": {
            "_model_module": "@jupyter-widgets/controls",
            "_model_module_version": "1.5.0",
            "_model_name": "ButtonStyleModel",
            "_view_count": null,
            "_view_module": "@jupyter-widgets/base",
            "_view_module_version": "1.2.0",
            "_view_name": "StyleView",
            "button_color": null,
            "font_weight": ""
          }
        },
        "11bf4de39c744294a9c23cfb0f74defe": {
          "model_module": "jupyter-leaflet",
          "model_name": "LeafletTileLayerModel",
          "model_module_version": "^0.18",
          "state": {
            "_model_module": "jupyter-leaflet",
            "_model_module_version": "^0.18",
            "_model_name": "LeafletTileLayerModel",
            "_view_count": null,
            "_view_module": "jupyter-leaflet",
            "_view_module_version": "^0.18",
            "_view_name": "LeafletTileLayerView",
            "attribution": "Google Earth Engine",
            "base": false,
            "bottom": true,
            "bounds": null,
            "detect_retina": false,
            "loading": false,
            "max_native_zoom": null,
            "max_zoom": 24,
            "min_native_zoom": null,
            "min_zoom": 0,
            "name": "Sentinel-2",
            "no_wrap": false,
            "opacity": 1,
            "options": [
              "attribution",
              "bounds",
              "detect_retina",
              "max_native_zoom",
              "max_zoom",
              "min_native_zoom",
              "min_zoom",
              "no_wrap",
              "tile_size",
              "tms",
              "zoom_offset"
            ],
            "pane": "",
            "popup": null,
            "popup_max_height": null,
            "popup_max_width": 300,
            "popup_min_width": 50,
            "show_loading": false,
            "subitems": [],
            "tile_size": 256,
            "tms": false,
            "url": "https://earthengine.googleapis.com/v1/projects/ee-rice-yield-prediction/maps/2c7cec650849f4502a0234dde648564c-c1bdc2e8fe51e872f3bae0151bee6e4c/tiles/{z}/{x}/{y}",
            "visible": true,
            "zoom_offset": 0
          }
        },
        "23606752cc5a454cb0861e25b12be34e": {
          "model_module": "@jupyter-widgets/controls",
          "model_name": "CheckboxModel",
          "model_module_version": "1.5.0",
          "state": {
            "_dom_classes": [],
            "_model_module": "@jupyter-widgets/controls",
            "_model_module_version": "1.5.0",
            "_model_name": "CheckboxModel",
            "_view_count": null,
            "_view_module": "@jupyter-widgets/controls",
            "_view_module_version": "1.5.0",
            "_view_name": "CheckboxView",
            "description": "All layers on/off",
            "description_tooltip": null,
            "disabled": false,
            "indent": false,
            "layout": "IPY_MODEL_eb3e8b72d29b46449da237e590401591",
            "style": "IPY_MODEL_f85a24ad4eb44df79ccb7ed30c72a1c0",
            "value": false
          }
        },
        "b0f73ce590ea448698a88dd4c308befb": {
          "model_module": "@jupyter-widgets/controls",
          "model_name": "HBoxModel",
          "model_module_version": "1.5.0",
          "state": {
            "_dom_classes": [],
            "_model_module": "@jupyter-widgets/controls",
            "_model_module_version": "1.5.0",
            "_model_name": "HBoxModel",
            "_view_count": null,
            "_view_module": "@jupyter-widgets/controls",
            "_view_module_version": "1.5.0",
            "_view_name": "HBoxView",
            "box_style": "",
            "children": [
              "IPY_MODEL_834d0657bbcc4237bb0ee2f170a61c2e",
              "IPY_MODEL_5acebe8c759f46a2be68047a37bc01cb",
              "IPY_MODEL_ec1d1472865c492e8a83f31f56481b5e",
              "IPY_MODEL_b4911680f53b431aad7a2f19c5717bff"
            ],
            "layout": "IPY_MODEL_fc2e62c6a4654ea28430d0e3016a9e10"
          }
        },
        "d54e03afb3c14f74a674e24d2804f6a8": {
          "model_module": "@jupyter-widgets/controls",
          "model_name": "HBoxModel",
          "model_module_version": "1.5.0",
          "state": {
            "_dom_classes": [],
            "_model_module": "@jupyter-widgets/controls",
            "_model_module_version": "1.5.0",
            "_model_name": "HBoxModel",
            "_view_count": null,
            "_view_module": "@jupyter-widgets/controls",
            "_view_module_version": "1.5.0",
            "_view_name": "HBoxView",
            "box_style": "",
            "children": [
              "IPY_MODEL_3482c686251f4ce4a9323b8640640eb5",
              "IPY_MODEL_d913e1cf18dc46bd9702b15f03eb7e7c",
              "IPY_MODEL_a6d04d3893a64d51924ea4b17685db4b",
              "IPY_MODEL_decf77c402b44e4d867c1227ce4aebc4"
            ],
            "layout": "IPY_MODEL_98ef13671f6947f6b8c41a195135cf70"
          }
        },
        "cbedeae036074b169d627f7d0e6f0dca": {
          "model_module": "@jupyter-widgets/controls",
          "model_name": "HBoxModel",
          "model_module_version": "1.5.0",
          "state": {
            "_dom_classes": [],
            "_model_module": "@jupyter-widgets/controls",
            "_model_module_version": "1.5.0",
            "_model_name": "HBoxModel",
            "_view_count": null,
            "_view_module": "@jupyter-widgets/controls",
            "_view_module_version": "1.5.0",
            "_view_name": "HBoxView",
            "box_style": "",
            "children": [
              "IPY_MODEL_0e0d70b9818b4d8c8aa1e7f73b3babbb",
              "IPY_MODEL_307c400cc4d5464482b6b80fd7426467",
              "IPY_MODEL_a4251294036e46d8a16ea77db1fc8b43",
              "IPY_MODEL_6844ddad16854e0e9f376373a3d640f3"
            ],
            "layout": "IPY_MODEL_12ababe0fdc5402b9aedb1f207800ebf"
          }
        },
        "eb3e8b72d29b46449da237e590401591": {
          "model_module": "@jupyter-widgets/base",
          "model_name": "LayoutModel",
          "model_module_version": "1.2.0",
          "state": {
            "_model_module": "@jupyter-widgets/base",
            "_model_module_version": "1.2.0",
            "_model_name": "LayoutModel",
            "_view_count": null,
            "_view_module": "@jupyter-widgets/base",
            "_view_module_version": "1.2.0",
            "_view_name": "LayoutView",
            "align_content": null,
            "align_items": null,
            "align_self": null,
            "border": null,
            "bottom": null,
            "display": null,
            "flex": null,
            "flex_flow": null,
            "grid_area": null,
            "grid_auto_columns": null,
            "grid_auto_flow": null,
            "grid_auto_rows": null,
            "grid_column": null,
            "grid_gap": null,
            "grid_row": null,
            "grid_template_areas": null,
            "grid_template_columns": null,
            "grid_template_rows": null,
            "height": "18px",
            "justify_content": null,
            "justify_items": null,
            "left": null,
            "margin": null,
            "max_height": null,
            "max_width": null,
            "min_height": null,
            "min_width": null,
            "object_fit": null,
            "object_position": null,
            "order": null,
            "overflow": null,
            "overflow_x": null,
            "overflow_y": null,
            "padding": "0px 4px 25px 4px",
            "right": null,
            "top": null,
            "visibility": null,
            "width": "30ex"
          }
        },
        "f85a24ad4eb44df79ccb7ed30c72a1c0": {
          "model_module": "@jupyter-widgets/controls",
          "model_name": "DescriptionStyleModel",
          "model_module_version": "1.5.0",
          "state": {
            "_model_module": "@jupyter-widgets/controls",
            "_model_module_version": "1.5.0",
            "_model_name": "DescriptionStyleModel",
            "_view_count": null,
            "_view_module": "@jupyter-widgets/base",
            "_view_module_version": "1.2.0",
            "_view_name": "StyleView",
            "description_width": ""
          }
        },
        "834d0657bbcc4237bb0ee2f170a61c2e": {
          "model_module": "@jupyter-widgets/controls",
          "model_name": "CheckboxModel",
          "model_module_version": "1.5.0",
          "state": {
            "_dom_classes": [],
            "_model_module": "@jupyter-widgets/controls",
            "_model_module_version": "1.5.0",
            "_model_name": "CheckboxModel",
            "_view_count": null,
            "_view_module": "@jupyter-widgets/controls",
            "_view_module_version": "1.5.0",
            "_view_name": "CheckboxView",
            "description": "Esri.WorldImagery",
            "description_tooltip": null,
            "disabled": false,
            "indent": false,
            "layout": "IPY_MODEL_1ea9b321a3b74c989a1c506d24754416",
            "style": "IPY_MODEL_e3e6c7558af846cdaad784062c2823be",
            "value": true
          }
        },
        "5acebe8c759f46a2be68047a37bc01cb": {
          "model_module": "@jupyter-widgets/controls",
          "model_name": "FloatSliderModel",
          "model_module_version": "1.5.0",
          "state": {
            "_dom_classes": [],
            "_model_module": "@jupyter-widgets/controls",
            "_model_module_version": "1.5.0",
            "_model_name": "FloatSliderModel",
            "_view_count": null,
            "_view_module": "@jupyter-widgets/controls",
            "_view_module_version": "1.5.0",
            "_view_name": "FloatSliderView",
            "continuous_update": true,
            "description": "",
            "description_tooltip": null,
            "disabled": false,
            "layout": "IPY_MODEL_6bcd8a17211049e2a29d7acdbf498406",
            "max": 1,
            "min": 0,
            "orientation": "horizontal",
            "readout": false,
            "readout_format": ".2f",
            "step": 0.01,
            "style": "IPY_MODEL_5d6b3e684ab1465496dc2cf0214c5703",
            "value": 1
          }
        },
        "ec1d1472865c492e8a83f31f56481b5e": {
          "model_module": "@jupyter-widgets/controls",
          "model_name": "ButtonModel",
          "model_module_version": "1.5.0",
          "state": {
            "_dom_classes": [],
            "_model_module": "@jupyter-widgets/controls",
            "_model_module_version": "1.5.0",
            "_model_name": "ButtonModel",
            "_view_count": null,
            "_view_module": "@jupyter-widgets/controls",
            "_view_module_version": "1.5.0",
            "_view_name": "ButtonView",
            "button_style": "",
            "description": "",
            "disabled": false,
            "icon": "gear",
            "layout": "IPY_MODEL_939ca56170c0487786b4f0290da2c4c7",
            "style": "IPY_MODEL_562d2821c3284bcb8f1bbe74bd8f40b1",
            "tooltip": "Esri.WorldImagery"
          }
        },
        "b4911680f53b431aad7a2f19c5717bff": {
          "model_module": "@jupyter-widgets/controls",
          "model_name": "ButtonModel",
          "model_module_version": "1.5.0",
          "state": {
            "_dom_classes": [],
            "_model_module": "@jupyter-widgets/controls",
            "_model_module_version": "1.5.0",
            "_model_name": "ButtonModel",
            "_view_count": null,
            "_view_module": "@jupyter-widgets/controls",
            "_view_module_version": "1.5.0",
            "_view_name": "ButtonView",
            "button_style": "",
            "description": "",
            "disabled": false,
            "icon": "times",
            "layout": "IPY_MODEL_f0c4cc3d36554d409fd2871b06a75349",
            "style": "IPY_MODEL_f7476149e35c48dd8427ed87d13987e1",
            "tooltip": "Loaded"
          }
        },
        "fc2e62c6a4654ea28430d0e3016a9e10": {
          "model_module": "@jupyter-widgets/base",
          "model_name": "LayoutModel",
          "model_module_version": "1.2.0",
          "state": {
            "_model_module": "@jupyter-widgets/base",
            "_model_module_version": "1.2.0",
            "_model_name": "LayoutModel",
            "_view_count": null,
            "_view_module": "@jupyter-widgets/base",
            "_view_module_version": "1.2.0",
            "_view_name": "LayoutView",
            "align_content": null,
            "align_items": null,
            "align_self": null,
            "border": null,
            "bottom": null,
            "display": null,
            "flex": null,
            "flex_flow": null,
            "grid_area": null,
            "grid_auto_columns": null,
            "grid_auto_flow": null,
            "grid_auto_rows": null,
            "grid_column": null,
            "grid_gap": null,
            "grid_row": null,
            "grid_template_areas": null,
            "grid_template_columns": null,
            "grid_template_rows": null,
            "height": null,
            "justify_content": null,
            "justify_items": null,
            "left": null,
            "margin": null,
            "max_height": null,
            "max_width": null,
            "min_height": null,
            "min_width": null,
            "object_fit": null,
            "object_position": null,
            "order": null,
            "overflow": null,
            "overflow_x": null,
            "overflow_y": null,
            "padding": "0px 4px 0px 4px",
            "right": null,
            "top": null,
            "visibility": null,
            "width": null
          }
        },
        "3482c686251f4ce4a9323b8640640eb5": {
          "model_module": "@jupyter-widgets/controls",
          "model_name": "CheckboxModel",
          "model_module_version": "1.5.0",
          "state": {
            "_dom_classes": [],
            "_model_module": "@jupyter-widgets/controls",
            "_model_module_version": "1.5.0",
            "_model_name": "CheckboxModel",
            "_view_count": null,
            "_view_module": "@jupyter-widgets/controls",
            "_view_module_version": "1.5.0",
            "_view_name": "CheckboxView",
            "description": "Sabak Bernam",
            "description_tooltip": null,
            "disabled": false,
            "indent": false,
            "layout": "IPY_MODEL_1c9aba84601442f1ba1e32a988293f76",
            "style": "IPY_MODEL_58527af8d18147e09a0b6472cecf8de9",
            "value": true
          }
        },
        "d913e1cf18dc46bd9702b15f03eb7e7c": {
          "model_module": "@jupyter-widgets/controls",
          "model_name": "FloatSliderModel",
          "model_module_version": "1.5.0",
          "state": {
            "_dom_classes": [],
            "_model_module": "@jupyter-widgets/controls",
            "_model_module_version": "1.5.0",
            "_model_name": "FloatSliderModel",
            "_view_count": null,
            "_view_module": "@jupyter-widgets/controls",
            "_view_module_version": "1.5.0",
            "_view_name": "FloatSliderView",
            "continuous_update": true,
            "description": "",
            "description_tooltip": null,
            "disabled": false,
            "layout": "IPY_MODEL_7f172eaed71e4118aaace3bba63f0290",
            "max": 1,
            "min": 0,
            "orientation": "horizontal",
            "readout": false,
            "readout_format": ".2f",
            "step": 0.01,
            "style": "IPY_MODEL_51f5a20e0cbb4ce5bb8fb4ce220c2055",
            "value": 1
          }
        },
        "a6d04d3893a64d51924ea4b17685db4b": {
          "model_module": "@jupyter-widgets/controls",
          "model_name": "ButtonModel",
          "model_module_version": "1.5.0",
          "state": {
            "_dom_classes": [],
            "_model_module": "@jupyter-widgets/controls",
            "_model_module_version": "1.5.0",
            "_model_name": "ButtonModel",
            "_view_count": null,
            "_view_module": "@jupyter-widgets/controls",
            "_view_module_version": "1.5.0",
            "_view_name": "ButtonView",
            "button_style": "",
            "description": "",
            "disabled": false,
            "icon": "gear",
            "layout": "IPY_MODEL_0ed548f66ca448e4aac25cb5412457fc",
            "style": "IPY_MODEL_47afd00b823f427d89048e2c16220b5f",
            "tooltip": "Sabak Bernam"
          }
        },
        "decf77c402b44e4d867c1227ce4aebc4": {
          "model_module": "@jupyter-widgets/controls",
          "model_name": "ButtonModel",
          "model_module_version": "1.5.0",
          "state": {
            "_dom_classes": [],
            "_model_module": "@jupyter-widgets/controls",
            "_model_module_version": "1.5.0",
            "_model_name": "ButtonModel",
            "_view_count": null,
            "_view_module": "@jupyter-widgets/controls",
            "_view_module_version": "1.5.0",
            "_view_name": "ButtonView",
            "button_style": "",
            "description": "",
            "disabled": false,
            "icon": "times",
            "layout": "IPY_MODEL_32d45f8008ea48f5aa302fb61a706a03",
            "style": "IPY_MODEL_c910d521d84b4a4ebfb93ea4fc2609f5",
            "tooltip": "Loaded"
          }
        },
        "98ef13671f6947f6b8c41a195135cf70": {
          "model_module": "@jupyter-widgets/base",
          "model_name": "LayoutModel",
          "model_module_version": "1.2.0",
          "state": {
            "_model_module": "@jupyter-widgets/base",
            "_model_module_version": "1.2.0",
            "_model_name": "LayoutModel",
            "_view_count": null,
            "_view_module": "@jupyter-widgets/base",
            "_view_module_version": "1.2.0",
            "_view_name": "LayoutView",
            "align_content": null,
            "align_items": null,
            "align_self": null,
            "border": null,
            "bottom": null,
            "display": null,
            "flex": null,
            "flex_flow": null,
            "grid_area": null,
            "grid_auto_columns": null,
            "grid_auto_flow": null,
            "grid_auto_rows": null,
            "grid_column": null,
            "grid_gap": null,
            "grid_row": null,
            "grid_template_areas": null,
            "grid_template_columns": null,
            "grid_template_rows": null,
            "height": null,
            "justify_content": null,
            "justify_items": null,
            "left": null,
            "margin": null,
            "max_height": null,
            "max_width": null,
            "min_height": null,
            "min_width": null,
            "object_fit": null,
            "object_position": null,
            "order": null,
            "overflow": null,
            "overflow_x": null,
            "overflow_y": null,
            "padding": "0px 4px 0px 4px",
            "right": null,
            "top": null,
            "visibility": null,
            "width": null
          }
        },
        "0e0d70b9818b4d8c8aa1e7f73b3babbb": {
          "model_module": "@jupyter-widgets/controls",
          "model_name": "CheckboxModel",
          "model_module_version": "1.5.0",
          "state": {
            "_dom_classes": [],
            "_model_module": "@jupyter-widgets/controls",
            "_model_module_version": "1.5.0",
            "_model_name": "CheckboxModel",
            "_view_count": null,
            "_view_module": "@jupyter-widgets/controls",
            "_view_module_version": "1.5.0",
            "_view_name": "CheckboxView",
            "description": "Sentinel-2",
            "description_tooltip": null,
            "disabled": false,
            "indent": false,
            "layout": "IPY_MODEL_76722f6a5a9d47eaaa426e1136867ba4",
            "style": "IPY_MODEL_6276be1b59644fa88e758ddcf8a3de8b",
            "value": true
          }
        },
        "307c400cc4d5464482b6b80fd7426467": {
          "model_module": "@jupyter-widgets/controls",
          "model_name": "FloatSliderModel",
          "model_module_version": "1.5.0",
          "state": {
            "_dom_classes": [],
            "_model_module": "@jupyter-widgets/controls",
            "_model_module_version": "1.5.0",
            "_model_name": "FloatSliderModel",
            "_view_count": null,
            "_view_module": "@jupyter-widgets/controls",
            "_view_module_version": "1.5.0",
            "_view_name": "FloatSliderView",
            "continuous_update": true,
            "description": "",
            "description_tooltip": null,
            "disabled": false,
            "layout": "IPY_MODEL_077e40d1a011473680b7faaee900ac36",
            "max": 1,
            "min": 0,
            "orientation": "horizontal",
            "readout": false,
            "readout_format": ".2f",
            "step": 0.01,
            "style": "IPY_MODEL_306b276941004a22802751381a463c79",
            "value": 1
          }
        },
        "a4251294036e46d8a16ea77db1fc8b43": {
          "model_module": "@jupyter-widgets/controls",
          "model_name": "ButtonModel",
          "model_module_version": "1.5.0",
          "state": {
            "_dom_classes": [],
            "_model_module": "@jupyter-widgets/controls",
            "_model_module_version": "1.5.0",
            "_model_name": "ButtonModel",
            "_view_count": null,
            "_view_module": "@jupyter-widgets/controls",
            "_view_module_version": "1.5.0",
            "_view_name": "ButtonView",
            "button_style": "",
            "description": "",
            "disabled": false,
            "icon": "gear",
            "layout": "IPY_MODEL_b02bc70460d143b39046c64120289d01",
            "style": "IPY_MODEL_f8fec565a8484a819d56a33559de7f6c",
            "tooltip": "Sentinel-2"
          }
        },
        "6844ddad16854e0e9f376373a3d640f3": {
          "model_module": "@jupyter-widgets/controls",
          "model_name": "ButtonModel",
          "model_module_version": "1.5.0",
          "state": {
            "_dom_classes": [],
            "_model_module": "@jupyter-widgets/controls",
            "_model_module_version": "1.5.0",
            "_model_name": "ButtonModel",
            "_view_count": null,
            "_view_module": "@jupyter-widgets/controls",
            "_view_module_version": "1.5.0",
            "_view_name": "ButtonView",
            "button_style": "",
            "description": "",
            "disabled": false,
            "icon": "times",
            "layout": "IPY_MODEL_4f85ae17745f441baee5bc240b054882",
            "style": "IPY_MODEL_e3f223c230eb457caf39c8454ed8c1e2",
            "tooltip": "Loaded"
          }
        },
        "12ababe0fdc5402b9aedb1f207800ebf": {
          "model_module": "@jupyter-widgets/base",
          "model_name": "LayoutModel",
          "model_module_version": "1.2.0",
          "state": {
            "_model_module": "@jupyter-widgets/base",
            "_model_module_version": "1.2.0",
            "_model_name": "LayoutModel",
            "_view_count": null,
            "_view_module": "@jupyter-widgets/base",
            "_view_module_version": "1.2.0",
            "_view_name": "LayoutView",
            "align_content": null,
            "align_items": null,
            "align_self": null,
            "border": null,
            "bottom": null,
            "display": null,
            "flex": null,
            "flex_flow": null,
            "grid_area": null,
            "grid_auto_columns": null,
            "grid_auto_flow": null,
            "grid_auto_rows": null,
            "grid_column": null,
            "grid_gap": null,
            "grid_row": null,
            "grid_template_areas": null,
            "grid_template_columns": null,
            "grid_template_rows": null,
            "height": null,
            "justify_content": null,
            "justify_items": null,
            "left": null,
            "margin": null,
            "max_height": null,
            "max_width": null,
            "min_height": null,
            "min_width": null,
            "object_fit": null,
            "object_position": null,
            "order": null,
            "overflow": null,
            "overflow_x": null,
            "overflow_y": null,
            "padding": "0px 4px 0px 4px",
            "right": null,
            "top": null,
            "visibility": null,
            "width": null
          }
        },
        "1ea9b321a3b74c989a1c506d24754416": {
          "model_module": "@jupyter-widgets/base",
          "model_name": "LayoutModel",
          "model_module_version": "1.2.0",
          "state": {
            "_model_module": "@jupyter-widgets/base",
            "_model_module_version": "1.2.0",
            "_model_name": "LayoutModel",
            "_view_count": null,
            "_view_module": "@jupyter-widgets/base",
            "_view_module_version": "1.2.0",
            "_view_name": "LayoutView",
            "align_content": null,
            "align_items": null,
            "align_self": null,
            "border": null,
            "bottom": null,
            "display": null,
            "flex": null,
            "flex_flow": null,
            "grid_area": null,
            "grid_auto_columns": null,
            "grid_auto_flow": null,
            "grid_auto_rows": null,
            "grid_column": null,
            "grid_gap": null,
            "grid_row": null,
            "grid_template_areas": null,
            "grid_template_columns": null,
            "grid_template_rows": null,
            "height": "18px",
            "justify_content": null,
            "justify_items": null,
            "left": null,
            "margin": null,
            "max_height": null,
            "max_width": null,
            "min_height": null,
            "min_width": null,
            "object_fit": null,
            "object_position": null,
            "order": null,
            "overflow": null,
            "overflow_x": null,
            "overflow_y": null,
            "padding": null,
            "right": null,
            "top": null,
            "visibility": null,
            "width": "140px"
          }
        },
        "e3e6c7558af846cdaad784062c2823be": {
          "model_module": "@jupyter-widgets/controls",
          "model_name": "DescriptionStyleModel",
          "model_module_version": "1.5.0",
          "state": {
            "_model_module": "@jupyter-widgets/controls",
            "_model_module_version": "1.5.0",
            "_model_name": "DescriptionStyleModel",
            "_view_count": null,
            "_view_module": "@jupyter-widgets/base",
            "_view_module_version": "1.2.0",
            "_view_name": "StyleView",
            "description_width": ""
          }
        },
        "6bcd8a17211049e2a29d7acdbf498406": {
          "model_module": "@jupyter-widgets/base",
          "model_name": "LayoutModel",
          "model_module_version": "1.2.0",
          "state": {
            "_model_module": "@jupyter-widgets/base",
            "_model_module_version": "1.2.0",
            "_model_name": "LayoutModel",
            "_view_count": null,
            "_view_module": "@jupyter-widgets/base",
            "_view_module_version": "1.2.0",
            "_view_name": "LayoutView",
            "align_content": null,
            "align_items": null,
            "align_self": null,
            "border": null,
            "bottom": null,
            "display": null,
            "flex": null,
            "flex_flow": null,
            "grid_area": null,
            "grid_auto_columns": null,
            "grid_auto_flow": null,
            "grid_auto_rows": null,
            "grid_column": null,
            "grid_gap": null,
            "grid_row": null,
            "grid_template_areas": null,
            "grid_template_columns": null,
            "grid_template_rows": null,
            "height": null,
            "justify_content": null,
            "justify_items": null,
            "left": null,
            "margin": null,
            "max_height": null,
            "max_width": null,
            "min_height": null,
            "min_width": null,
            "object_fit": null,
            "object_position": null,
            "order": null,
            "overflow": null,
            "overflow_x": null,
            "overflow_y": null,
            "padding": "0px 3px 0px 0px",
            "right": null,
            "top": null,
            "visibility": null,
            "width": "70px"
          }
        },
        "5d6b3e684ab1465496dc2cf0214c5703": {
          "model_module": "@jupyter-widgets/controls",
          "model_name": "SliderStyleModel",
          "model_module_version": "1.5.0",
          "state": {
            "_model_module": "@jupyter-widgets/controls",
            "_model_module_version": "1.5.0",
            "_model_name": "SliderStyleModel",
            "_view_count": null,
            "_view_module": "@jupyter-widgets/base",
            "_view_module_version": "1.2.0",
            "_view_name": "StyleView",
            "description_width": "",
            "handle_color": null
          }
        },
        "939ca56170c0487786b4f0290da2c4c7": {
          "model_module": "@jupyter-widgets/base",
          "model_name": "LayoutModel",
          "model_module_version": "1.2.0",
          "state": {
            "_model_module": "@jupyter-widgets/base",
            "_model_module_version": "1.2.0",
            "_model_name": "LayoutModel",
            "_view_count": null,
            "_view_module": "@jupyter-widgets/base",
            "_view_module_version": "1.2.0",
            "_view_name": "LayoutView",
            "align_content": null,
            "align_items": null,
            "align_self": null,
            "border": null,
            "bottom": null,
            "display": null,
            "flex": null,
            "flex_flow": null,
            "grid_area": null,
            "grid_auto_columns": null,
            "grid_auto_flow": null,
            "grid_auto_rows": null,
            "grid_column": null,
            "grid_gap": null,
            "grid_row": null,
            "grid_template_areas": null,
            "grid_template_columns": null,
            "grid_template_rows": null,
            "height": "25px",
            "justify_content": null,
            "justify_items": null,
            "left": null,
            "margin": null,
            "max_height": null,
            "max_width": null,
            "min_height": null,
            "min_width": null,
            "object_fit": null,
            "object_position": null,
            "order": null,
            "overflow": null,
            "overflow_x": null,
            "overflow_y": null,
            "padding": "0px",
            "right": null,
            "top": null,
            "visibility": null,
            "width": "25px"
          }
        },
        "562d2821c3284bcb8f1bbe74bd8f40b1": {
          "model_module": "@jupyter-widgets/controls",
          "model_name": "ButtonStyleModel",
          "model_module_version": "1.5.0",
          "state": {
            "_model_module": "@jupyter-widgets/controls",
            "_model_module_version": "1.5.0",
            "_model_name": "ButtonStyleModel",
            "_view_count": null,
            "_view_module": "@jupyter-widgets/base",
            "_view_module_version": "1.2.0",
            "_view_name": "StyleView",
            "button_color": null,
            "font_weight": ""
          }
        },
        "f0c4cc3d36554d409fd2871b06a75349": {
          "model_module": "@jupyter-widgets/base",
          "model_name": "LayoutModel",
          "model_module_version": "1.2.0",
          "state": {
            "_model_module": "@jupyter-widgets/base",
            "_model_module_version": "1.2.0",
            "_model_name": "LayoutModel",
            "_view_count": null,
            "_view_module": "@jupyter-widgets/base",
            "_view_module_version": "1.2.0",
            "_view_name": "LayoutView",
            "align_content": null,
            "align_items": null,
            "align_self": null,
            "border": null,
            "bottom": null,
            "display": null,
            "flex": null,
            "flex_flow": null,
            "grid_area": null,
            "grid_auto_columns": null,
            "grid_auto_flow": null,
            "grid_auto_rows": null,
            "grid_column": null,
            "grid_gap": null,
            "grid_row": null,
            "grid_template_areas": null,
            "grid_template_columns": null,
            "grid_template_rows": null,
            "height": "25px",
            "justify_content": null,
            "justify_items": null,
            "left": null,
            "margin": null,
            "max_height": null,
            "max_width": null,
            "min_height": null,
            "min_width": null,
            "object_fit": null,
            "object_position": null,
            "order": null,
            "overflow": null,
            "overflow_x": null,
            "overflow_y": null,
            "padding": "0px",
            "right": null,
            "top": null,
            "visibility": null,
            "width": "25px"
          }
        },
        "f7476149e35c48dd8427ed87d13987e1": {
          "model_module": "@jupyter-widgets/controls",
          "model_name": "ButtonStyleModel",
          "model_module_version": "1.5.0",
          "state": {
            "_model_module": "@jupyter-widgets/controls",
            "_model_module_version": "1.5.0",
            "_model_name": "ButtonStyleModel",
            "_view_count": null,
            "_view_module": "@jupyter-widgets/base",
            "_view_module_version": "1.2.0",
            "_view_name": "StyleView",
            "button_color": null,
            "font_weight": ""
          }
        },
        "1c9aba84601442f1ba1e32a988293f76": {
          "model_module": "@jupyter-widgets/base",
          "model_name": "LayoutModel",
          "model_module_version": "1.2.0",
          "state": {
            "_model_module": "@jupyter-widgets/base",
            "_model_module_version": "1.2.0",
            "_model_name": "LayoutModel",
            "_view_count": null,
            "_view_module": "@jupyter-widgets/base",
            "_view_module_version": "1.2.0",
            "_view_name": "LayoutView",
            "align_content": null,
            "align_items": null,
            "align_self": null,
            "border": null,
            "bottom": null,
            "display": null,
            "flex": null,
            "flex_flow": null,
            "grid_area": null,
            "grid_auto_columns": null,
            "grid_auto_flow": null,
            "grid_auto_rows": null,
            "grid_column": null,
            "grid_gap": null,
            "grid_row": null,
            "grid_template_areas": null,
            "grid_template_columns": null,
            "grid_template_rows": null,
            "height": "18px",
            "justify_content": null,
            "justify_items": null,
            "left": null,
            "margin": null,
            "max_height": null,
            "max_width": null,
            "min_height": null,
            "min_width": null,
            "object_fit": null,
            "object_position": null,
            "order": null,
            "overflow": null,
            "overflow_x": null,
            "overflow_y": null,
            "padding": null,
            "right": null,
            "top": null,
            "visibility": null,
            "width": "140px"
          }
        },
        "58527af8d18147e09a0b6472cecf8de9": {
          "model_module": "@jupyter-widgets/controls",
          "model_name": "DescriptionStyleModel",
          "model_module_version": "1.5.0",
          "state": {
            "_model_module": "@jupyter-widgets/controls",
            "_model_module_version": "1.5.0",
            "_model_name": "DescriptionStyleModel",
            "_view_count": null,
            "_view_module": "@jupyter-widgets/base",
            "_view_module_version": "1.2.0",
            "_view_name": "StyleView",
            "description_width": ""
          }
        },
        "7f172eaed71e4118aaace3bba63f0290": {
          "model_module": "@jupyter-widgets/base",
          "model_name": "LayoutModel",
          "model_module_version": "1.2.0",
          "state": {
            "_model_module": "@jupyter-widgets/base",
            "_model_module_version": "1.2.0",
            "_model_name": "LayoutModel",
            "_view_count": null,
            "_view_module": "@jupyter-widgets/base",
            "_view_module_version": "1.2.0",
            "_view_name": "LayoutView",
            "align_content": null,
            "align_items": null,
            "align_self": null,
            "border": null,
            "bottom": null,
            "display": null,
            "flex": null,
            "flex_flow": null,
            "grid_area": null,
            "grid_auto_columns": null,
            "grid_auto_flow": null,
            "grid_auto_rows": null,
            "grid_column": null,
            "grid_gap": null,
            "grid_row": null,
            "grid_template_areas": null,
            "grid_template_columns": null,
            "grid_template_rows": null,
            "height": null,
            "justify_content": null,
            "justify_items": null,
            "left": null,
            "margin": null,
            "max_height": null,
            "max_width": null,
            "min_height": null,
            "min_width": null,
            "object_fit": null,
            "object_position": null,
            "order": null,
            "overflow": null,
            "overflow_x": null,
            "overflow_y": null,
            "padding": "0px 3px 0px 0px",
            "right": null,
            "top": null,
            "visibility": null,
            "width": "70px"
          }
        },
        "51f5a20e0cbb4ce5bb8fb4ce220c2055": {
          "model_module": "@jupyter-widgets/controls",
          "model_name": "SliderStyleModel",
          "model_module_version": "1.5.0",
          "state": {
            "_model_module": "@jupyter-widgets/controls",
            "_model_module_version": "1.5.0",
            "_model_name": "SliderStyleModel",
            "_view_count": null,
            "_view_module": "@jupyter-widgets/base",
            "_view_module_version": "1.2.0",
            "_view_name": "StyleView",
            "description_width": "",
            "handle_color": null
          }
        },
        "0ed548f66ca448e4aac25cb5412457fc": {
          "model_module": "@jupyter-widgets/base",
          "model_name": "LayoutModel",
          "model_module_version": "1.2.0",
          "state": {
            "_model_module": "@jupyter-widgets/base",
            "_model_module_version": "1.2.0",
            "_model_name": "LayoutModel",
            "_view_count": null,
            "_view_module": "@jupyter-widgets/base",
            "_view_module_version": "1.2.0",
            "_view_name": "LayoutView",
            "align_content": null,
            "align_items": null,
            "align_self": null,
            "border": null,
            "bottom": null,
            "display": null,
            "flex": null,
            "flex_flow": null,
            "grid_area": null,
            "grid_auto_columns": null,
            "grid_auto_flow": null,
            "grid_auto_rows": null,
            "grid_column": null,
            "grid_gap": null,
            "grid_row": null,
            "grid_template_areas": null,
            "grid_template_columns": null,
            "grid_template_rows": null,
            "height": "25px",
            "justify_content": null,
            "justify_items": null,
            "left": null,
            "margin": null,
            "max_height": null,
            "max_width": null,
            "min_height": null,
            "min_width": null,
            "object_fit": null,
            "object_position": null,
            "order": null,
            "overflow": null,
            "overflow_x": null,
            "overflow_y": null,
            "padding": "0px",
            "right": null,
            "top": null,
            "visibility": null,
            "width": "25px"
          }
        },
        "47afd00b823f427d89048e2c16220b5f": {
          "model_module": "@jupyter-widgets/controls",
          "model_name": "ButtonStyleModel",
          "model_module_version": "1.5.0",
          "state": {
            "_model_module": "@jupyter-widgets/controls",
            "_model_module_version": "1.5.0",
            "_model_name": "ButtonStyleModel",
            "_view_count": null,
            "_view_module": "@jupyter-widgets/base",
            "_view_module_version": "1.2.0",
            "_view_name": "StyleView",
            "button_color": null,
            "font_weight": ""
          }
        },
        "32d45f8008ea48f5aa302fb61a706a03": {
          "model_module": "@jupyter-widgets/base",
          "model_name": "LayoutModel",
          "model_module_version": "1.2.0",
          "state": {
            "_model_module": "@jupyter-widgets/base",
            "_model_module_version": "1.2.0",
            "_model_name": "LayoutModel",
            "_view_count": null,
            "_view_module": "@jupyter-widgets/base",
            "_view_module_version": "1.2.0",
            "_view_name": "LayoutView",
            "align_content": null,
            "align_items": null,
            "align_self": null,
            "border": null,
            "bottom": null,
            "display": null,
            "flex": null,
            "flex_flow": null,
            "grid_area": null,
            "grid_auto_columns": null,
            "grid_auto_flow": null,
            "grid_auto_rows": null,
            "grid_column": null,
            "grid_gap": null,
            "grid_row": null,
            "grid_template_areas": null,
            "grid_template_columns": null,
            "grid_template_rows": null,
            "height": "25px",
            "justify_content": null,
            "justify_items": null,
            "left": null,
            "margin": null,
            "max_height": null,
            "max_width": null,
            "min_height": null,
            "min_width": null,
            "object_fit": null,
            "object_position": null,
            "order": null,
            "overflow": null,
            "overflow_x": null,
            "overflow_y": null,
            "padding": "0px",
            "right": null,
            "top": null,
            "visibility": null,
            "width": "25px"
          }
        },
        "c910d521d84b4a4ebfb93ea4fc2609f5": {
          "model_module": "@jupyter-widgets/controls",
          "model_name": "ButtonStyleModel",
          "model_module_version": "1.5.0",
          "state": {
            "_model_module": "@jupyter-widgets/controls",
            "_model_module_version": "1.5.0",
            "_model_name": "ButtonStyleModel",
            "_view_count": null,
            "_view_module": "@jupyter-widgets/base",
            "_view_module_version": "1.2.0",
            "_view_name": "StyleView",
            "button_color": null,
            "font_weight": ""
          }
        },
        "76722f6a5a9d47eaaa426e1136867ba4": {
          "model_module": "@jupyter-widgets/base",
          "model_name": "LayoutModel",
          "model_module_version": "1.2.0",
          "state": {
            "_model_module": "@jupyter-widgets/base",
            "_model_module_version": "1.2.0",
            "_model_name": "LayoutModel",
            "_view_count": null,
            "_view_module": "@jupyter-widgets/base",
            "_view_module_version": "1.2.0",
            "_view_name": "LayoutView",
            "align_content": null,
            "align_items": null,
            "align_self": null,
            "border": null,
            "bottom": null,
            "display": null,
            "flex": null,
            "flex_flow": null,
            "grid_area": null,
            "grid_auto_columns": null,
            "grid_auto_flow": null,
            "grid_auto_rows": null,
            "grid_column": null,
            "grid_gap": null,
            "grid_row": null,
            "grid_template_areas": null,
            "grid_template_columns": null,
            "grid_template_rows": null,
            "height": "18px",
            "justify_content": null,
            "justify_items": null,
            "left": null,
            "margin": null,
            "max_height": null,
            "max_width": null,
            "min_height": null,
            "min_width": null,
            "object_fit": null,
            "object_position": null,
            "order": null,
            "overflow": null,
            "overflow_x": null,
            "overflow_y": null,
            "padding": null,
            "right": null,
            "top": null,
            "visibility": null,
            "width": "140px"
          }
        },
        "6276be1b59644fa88e758ddcf8a3de8b": {
          "model_module": "@jupyter-widgets/controls",
          "model_name": "DescriptionStyleModel",
          "model_module_version": "1.5.0",
          "state": {
            "_model_module": "@jupyter-widgets/controls",
            "_model_module_version": "1.5.0",
            "_model_name": "DescriptionStyleModel",
            "_view_count": null,
            "_view_module": "@jupyter-widgets/base",
            "_view_module_version": "1.2.0",
            "_view_name": "StyleView",
            "description_width": ""
          }
        },
        "077e40d1a011473680b7faaee900ac36": {
          "model_module": "@jupyter-widgets/base",
          "model_name": "LayoutModel",
          "model_module_version": "1.2.0",
          "state": {
            "_model_module": "@jupyter-widgets/base",
            "_model_module_version": "1.2.0",
            "_model_name": "LayoutModel",
            "_view_count": null,
            "_view_module": "@jupyter-widgets/base",
            "_view_module_version": "1.2.0",
            "_view_name": "LayoutView",
            "align_content": null,
            "align_items": null,
            "align_self": null,
            "border": null,
            "bottom": null,
            "display": null,
            "flex": null,
            "flex_flow": null,
            "grid_area": null,
            "grid_auto_columns": null,
            "grid_auto_flow": null,
            "grid_auto_rows": null,
            "grid_column": null,
            "grid_gap": null,
            "grid_row": null,
            "grid_template_areas": null,
            "grid_template_columns": null,
            "grid_template_rows": null,
            "height": null,
            "justify_content": null,
            "justify_items": null,
            "left": null,
            "margin": null,
            "max_height": null,
            "max_width": null,
            "min_height": null,
            "min_width": null,
            "object_fit": null,
            "object_position": null,
            "order": null,
            "overflow": null,
            "overflow_x": null,
            "overflow_y": null,
            "padding": "0px 3px 0px 0px",
            "right": null,
            "top": null,
            "visibility": null,
            "width": "70px"
          }
        },
        "306b276941004a22802751381a463c79": {
          "model_module": "@jupyter-widgets/controls",
          "model_name": "SliderStyleModel",
          "model_module_version": "1.5.0",
          "state": {
            "_model_module": "@jupyter-widgets/controls",
            "_model_module_version": "1.5.0",
            "_model_name": "SliderStyleModel",
            "_view_count": null,
            "_view_module": "@jupyter-widgets/base",
            "_view_module_version": "1.2.0",
            "_view_name": "StyleView",
            "description_width": "",
            "handle_color": null
          }
        },
        "b02bc70460d143b39046c64120289d01": {
          "model_module": "@jupyter-widgets/base",
          "model_name": "LayoutModel",
          "model_module_version": "1.2.0",
          "state": {
            "_model_module": "@jupyter-widgets/base",
            "_model_module_version": "1.2.0",
            "_model_name": "LayoutModel",
            "_view_count": null,
            "_view_module": "@jupyter-widgets/base",
            "_view_module_version": "1.2.0",
            "_view_name": "LayoutView",
            "align_content": null,
            "align_items": null,
            "align_self": null,
            "border": null,
            "bottom": null,
            "display": null,
            "flex": null,
            "flex_flow": null,
            "grid_area": null,
            "grid_auto_columns": null,
            "grid_auto_flow": null,
            "grid_auto_rows": null,
            "grid_column": null,
            "grid_gap": null,
            "grid_row": null,
            "grid_template_areas": null,
            "grid_template_columns": null,
            "grid_template_rows": null,
            "height": "25px",
            "justify_content": null,
            "justify_items": null,
            "left": null,
            "margin": null,
            "max_height": null,
            "max_width": null,
            "min_height": null,
            "min_width": null,
            "object_fit": null,
            "object_position": null,
            "order": null,
            "overflow": null,
            "overflow_x": null,
            "overflow_y": null,
            "padding": "0px",
            "right": null,
            "top": null,
            "visibility": null,
            "width": "25px"
          }
        },
        "f8fec565a8484a819d56a33559de7f6c": {
          "model_module": "@jupyter-widgets/controls",
          "model_name": "ButtonStyleModel",
          "model_module_version": "1.5.0",
          "state": {
            "_model_module": "@jupyter-widgets/controls",
            "_model_module_version": "1.5.0",
            "_model_name": "ButtonStyleModel",
            "_view_count": null,
            "_view_module": "@jupyter-widgets/base",
            "_view_module_version": "1.2.0",
            "_view_name": "StyleView",
            "button_color": null,
            "font_weight": ""
          }
        },
        "4f85ae17745f441baee5bc240b054882": {
          "model_module": "@jupyter-widgets/base",
          "model_name": "LayoutModel",
          "model_module_version": "1.2.0",
          "state": {
            "_model_module": "@jupyter-widgets/base",
            "_model_module_version": "1.2.0",
            "_model_name": "LayoutModel",
            "_view_count": null,
            "_view_module": "@jupyter-widgets/base",
            "_view_module_version": "1.2.0",
            "_view_name": "LayoutView",
            "align_content": null,
            "align_items": null,
            "align_self": null,
            "border": null,
            "bottom": null,
            "display": null,
            "flex": null,
            "flex_flow": null,
            "grid_area": null,
            "grid_auto_columns": null,
            "grid_auto_flow": null,
            "grid_auto_rows": null,
            "grid_column": null,
            "grid_gap": null,
            "grid_row": null,
            "grid_template_areas": null,
            "grid_template_columns": null,
            "grid_template_rows": null,
            "height": "25px",
            "justify_content": null,
            "justify_items": null,
            "left": null,
            "margin": null,
            "max_height": null,
            "max_width": null,
            "min_height": null,
            "min_width": null,
            "object_fit": null,
            "object_position": null,
            "order": null,
            "overflow": null,
            "overflow_x": null,
            "overflow_y": null,
            "padding": "0px",
            "right": null,
            "top": null,
            "visibility": null,
            "width": "25px"
          }
        },
        "e3f223c230eb457caf39c8454ed8c1e2": {
          "model_module": "@jupyter-widgets/controls",
          "model_name": "ButtonStyleModel",
          "model_module_version": "1.5.0",
          "state": {
            "_model_module": "@jupyter-widgets/controls",
            "_model_module_version": "1.5.0",
            "_model_name": "ButtonStyleModel",
            "_view_count": null,
            "_view_module": "@jupyter-widgets/base",
            "_view_module_version": "1.2.0",
            "_view_name": "StyleView",
            "button_color": null,
            "font_weight": ""
          }
        },
        "b25cf26ca46344f09e9b9a639a6f09c7": {
          "model_module": "jupyter-leaflet",
          "model_name": "LeafletTileLayerModel",
          "model_module_version": "^0.18",
          "state": {
            "_model_module": "jupyter-leaflet",
            "_model_module_version": "^0.18",
            "_model_name": "LeafletTileLayerModel",
            "_view_count": null,
            "_view_module": "jupyter-leaflet",
            "_view_module_version": "^0.18",
            "_view_name": "LeafletTileLayerView",
            "attribution": "Google Earth Engine",
            "base": false,
            "bottom": true,
            "bounds": null,
            "detect_retina": false,
            "loading": false,
            "max_native_zoom": null,
            "max_zoom": 24,
            "min_native_zoom": null,
            "min_zoom": 0,
            "name": "NDVI",
            "no_wrap": false,
            "opacity": 1,
            "options": [
              "attribution",
              "bounds",
              "detect_retina",
              "max_native_zoom",
              "max_zoom",
              "min_native_zoom",
              "min_zoom",
              "no_wrap",
              "tile_size",
              "tms",
              "zoom_offset"
            ],
            "pane": "",
            "popup": null,
            "popup_max_height": null,
            "popup_max_width": 300,
            "popup_min_width": 50,
            "show_loading": false,
            "subitems": [],
            "tile_size": 256,
            "tms": false,
            "url": "https://earthengine.googleapis.com/v1/projects/ee-rice-yield-prediction/maps/24ba202d8aef002bc4ed60bdd37aaf85-b7ae197cc37496bbb5f45889660be672/tiles/{z}/{x}/{y}",
            "visible": true,
            "zoom_offset": 0
          }
        },
        "1973c62a64b346ccbedcddbe266a898c": {
          "model_module": "@jupyter-widgets/controls",
          "model_name": "CheckboxModel",
          "model_module_version": "1.5.0",
          "state": {
            "_dom_classes": [],
            "_model_module": "@jupyter-widgets/controls",
            "_model_module_version": "1.5.0",
            "_model_name": "CheckboxModel",
            "_view_count": null,
            "_view_module": "@jupyter-widgets/controls",
            "_view_module_version": "1.5.0",
            "_view_name": "CheckboxView",
            "description": "All layers on/off",
            "description_tooltip": null,
            "disabled": false,
            "indent": false,
            "layout": "IPY_MODEL_70e65335af584bd3be77e5aa5a4cef25",
            "style": "IPY_MODEL_1c325d43264d472ba58c7ab1159a1626",
            "value": false
          }
        },
        "1131f9965811468481444ff1b6ffa64b": {
          "model_module": "@jupyter-widgets/controls",
          "model_name": "HBoxModel",
          "model_module_version": "1.5.0",
          "state": {
            "_dom_classes": [],
            "_model_module": "@jupyter-widgets/controls",
            "_model_module_version": "1.5.0",
            "_model_name": "HBoxModel",
            "_view_count": null,
            "_view_module": "@jupyter-widgets/controls",
            "_view_module_version": "1.5.0",
            "_view_name": "HBoxView",
            "box_style": "",
            "children": [
              "IPY_MODEL_9cc016079b144a5595824946109cc622",
              "IPY_MODEL_4afeff51ba0b498286ee3cba2060d865",
              "IPY_MODEL_4fb91c3c42574e20b09949f3fedf9464",
              "IPY_MODEL_3761795a59d8459eb813e11822acb5ac"
            ],
            "layout": "IPY_MODEL_b4e126e49e344d13a90c8cf342c7617f"
          }
        },
        "90933792528b4c1da27fa2c8a9385013": {
          "model_module": "@jupyter-widgets/controls",
          "model_name": "HBoxModel",
          "model_module_version": "1.5.0",
          "state": {
            "_dom_classes": [],
            "_model_module": "@jupyter-widgets/controls",
            "_model_module_version": "1.5.0",
            "_model_name": "HBoxModel",
            "_view_count": null,
            "_view_module": "@jupyter-widgets/controls",
            "_view_module_version": "1.5.0",
            "_view_name": "HBoxView",
            "box_style": "",
            "children": [
              "IPY_MODEL_23efe75f86ca42578db73c8ceee3ddd1",
              "IPY_MODEL_9d26cda10ffb4905978dd98cc8c340d0",
              "IPY_MODEL_0da4a79e05e14977a91b8224809df6c8",
              "IPY_MODEL_e870dec4b296401a937aadfd5be92426"
            ],
            "layout": "IPY_MODEL_15f2859e914a47ec97b96f76895196e4"
          }
        },
        "544829a7157c495d8a205c33fc241fe9": {
          "model_module": "@jupyter-widgets/controls",
          "model_name": "HBoxModel",
          "model_module_version": "1.5.0",
          "state": {
            "_dom_classes": [],
            "_model_module": "@jupyter-widgets/controls",
            "_model_module_version": "1.5.0",
            "_model_name": "HBoxModel",
            "_view_count": null,
            "_view_module": "@jupyter-widgets/controls",
            "_view_module_version": "1.5.0",
            "_view_name": "HBoxView",
            "box_style": "",
            "children": [
              "IPY_MODEL_1a383920f8d24ee2a77a40a8b5b38c1b",
              "IPY_MODEL_de25dc3a9b2944369d33f474d031ee5e",
              "IPY_MODEL_dc8a5f83a1a241cea977acd9b2373c1f",
              "IPY_MODEL_b49eb619d40049e09bd3e1c2e61617a9"
            ],
            "layout": "IPY_MODEL_cd1493ad080643948df08bc5ddaaa48a"
          }
        },
        "160e98596de9425ca6babbdadde9d6f3": {
          "model_module": "@jupyter-widgets/controls",
          "model_name": "HBoxModel",
          "model_module_version": "1.5.0",
          "state": {
            "_dom_classes": [],
            "_model_module": "@jupyter-widgets/controls",
            "_model_module_version": "1.5.0",
            "_model_name": "HBoxModel",
            "_view_count": null,
            "_view_module": "@jupyter-widgets/controls",
            "_view_module_version": "1.5.0",
            "_view_name": "HBoxView",
            "box_style": "",
            "children": [
              "IPY_MODEL_050df2ccf2ab4bc19b769ee15e9f0ae9",
              "IPY_MODEL_7b64e7e3d67242f3955e32490ef3e285",
              "IPY_MODEL_ad043d7d919f488cbb79489cd1aee526",
              "IPY_MODEL_f21b18071713458cbfb1a5f0fd37c088"
            ],
            "layout": "IPY_MODEL_34fbca6eb5d04017a014f8a61968d72c"
          }
        },
        "70e65335af584bd3be77e5aa5a4cef25": {
          "model_module": "@jupyter-widgets/base",
          "model_name": "LayoutModel",
          "model_module_version": "1.2.0",
          "state": {
            "_model_module": "@jupyter-widgets/base",
            "_model_module_version": "1.2.0",
            "_model_name": "LayoutModel",
            "_view_count": null,
            "_view_module": "@jupyter-widgets/base",
            "_view_module_version": "1.2.0",
            "_view_name": "LayoutView",
            "align_content": null,
            "align_items": null,
            "align_self": null,
            "border": null,
            "bottom": null,
            "display": null,
            "flex": null,
            "flex_flow": null,
            "grid_area": null,
            "grid_auto_columns": null,
            "grid_auto_flow": null,
            "grid_auto_rows": null,
            "grid_column": null,
            "grid_gap": null,
            "grid_row": null,
            "grid_template_areas": null,
            "grid_template_columns": null,
            "grid_template_rows": null,
            "height": "18px",
            "justify_content": null,
            "justify_items": null,
            "left": null,
            "margin": null,
            "max_height": null,
            "max_width": null,
            "min_height": null,
            "min_width": null,
            "object_fit": null,
            "object_position": null,
            "order": null,
            "overflow": null,
            "overflow_x": null,
            "overflow_y": null,
            "padding": "0px 4px 25px 4px",
            "right": null,
            "top": null,
            "visibility": null,
            "width": "30ex"
          }
        },
        "1c325d43264d472ba58c7ab1159a1626": {
          "model_module": "@jupyter-widgets/controls",
          "model_name": "DescriptionStyleModel",
          "model_module_version": "1.5.0",
          "state": {
            "_model_module": "@jupyter-widgets/controls",
            "_model_module_version": "1.5.0",
            "_model_name": "DescriptionStyleModel",
            "_view_count": null,
            "_view_module": "@jupyter-widgets/base",
            "_view_module_version": "1.2.0",
            "_view_name": "StyleView",
            "description_width": ""
          }
        },
        "9cc016079b144a5595824946109cc622": {
          "model_module": "@jupyter-widgets/controls",
          "model_name": "CheckboxModel",
          "model_module_version": "1.5.0",
          "state": {
            "_dom_classes": [],
            "_model_module": "@jupyter-widgets/controls",
            "_model_module_version": "1.5.0",
            "_model_name": "CheckboxModel",
            "_view_count": null,
            "_view_module": "@jupyter-widgets/controls",
            "_view_module_version": "1.5.0",
            "_view_name": "CheckboxView",
            "description": "Esri.WorldImagery",
            "description_tooltip": null,
            "disabled": false,
            "indent": false,
            "layout": "IPY_MODEL_2e8b3325635341c1ae57a51f463b6e03",
            "style": "IPY_MODEL_a6cdf6fa5f254baaba73247a68acf6a7",
            "value": true
          }
        },
        "4afeff51ba0b498286ee3cba2060d865": {
          "model_module": "@jupyter-widgets/controls",
          "model_name": "FloatSliderModel",
          "model_module_version": "1.5.0",
          "state": {
            "_dom_classes": [],
            "_model_module": "@jupyter-widgets/controls",
            "_model_module_version": "1.5.0",
            "_model_name": "FloatSliderModel",
            "_view_count": null,
            "_view_module": "@jupyter-widgets/controls",
            "_view_module_version": "1.5.0",
            "_view_name": "FloatSliderView",
            "continuous_update": true,
            "description": "",
            "description_tooltip": null,
            "disabled": false,
            "layout": "IPY_MODEL_df7a78df87f940448b2bed0d33cc34a2",
            "max": 1,
            "min": 0,
            "orientation": "horizontal",
            "readout": false,
            "readout_format": ".2f",
            "step": 0.01,
            "style": "IPY_MODEL_e1bb8eeabcad4a14b0fd6212235039f0",
            "value": 1
          }
        },
        "4fb91c3c42574e20b09949f3fedf9464": {
          "model_module": "@jupyter-widgets/controls",
          "model_name": "ButtonModel",
          "model_module_version": "1.5.0",
          "state": {
            "_dom_classes": [],
            "_model_module": "@jupyter-widgets/controls",
            "_model_module_version": "1.5.0",
            "_model_name": "ButtonModel",
            "_view_count": null,
            "_view_module": "@jupyter-widgets/controls",
            "_view_module_version": "1.5.0",
            "_view_name": "ButtonView",
            "button_style": "",
            "description": "",
            "disabled": false,
            "icon": "gear",
            "layout": "IPY_MODEL_150bc655ada646d89c958f395ff9eb02",
            "style": "IPY_MODEL_512b69b9e7d243eeaa5e647db09a7722",
            "tooltip": "Esri.WorldImagery"
          }
        },
        "3761795a59d8459eb813e11822acb5ac": {
          "model_module": "@jupyter-widgets/controls",
          "model_name": "ButtonModel",
          "model_module_version": "1.5.0",
          "state": {
            "_dom_classes": [],
            "_model_module": "@jupyter-widgets/controls",
            "_model_module_version": "1.5.0",
            "_model_name": "ButtonModel",
            "_view_count": null,
            "_view_module": "@jupyter-widgets/controls",
            "_view_module_version": "1.5.0",
            "_view_name": "ButtonView",
            "button_style": "",
            "description": "",
            "disabled": false,
            "icon": "times",
            "layout": "IPY_MODEL_592bc4599a5345958fdeae3bede2ef4e",
            "style": "IPY_MODEL_feabd68f5f0041af84c8e6fbb3e9f3d9",
            "tooltip": "Loaded"
          }
        },
        "b4e126e49e344d13a90c8cf342c7617f": {
          "model_module": "@jupyter-widgets/base",
          "model_name": "LayoutModel",
          "model_module_version": "1.2.0",
          "state": {
            "_model_module": "@jupyter-widgets/base",
            "_model_module_version": "1.2.0",
            "_model_name": "LayoutModel",
            "_view_count": null,
            "_view_module": "@jupyter-widgets/base",
            "_view_module_version": "1.2.0",
            "_view_name": "LayoutView",
            "align_content": null,
            "align_items": null,
            "align_self": null,
            "border": null,
            "bottom": null,
            "display": null,
            "flex": null,
            "flex_flow": null,
            "grid_area": null,
            "grid_auto_columns": null,
            "grid_auto_flow": null,
            "grid_auto_rows": null,
            "grid_column": null,
            "grid_gap": null,
            "grid_row": null,
            "grid_template_areas": null,
            "grid_template_columns": null,
            "grid_template_rows": null,
            "height": null,
            "justify_content": null,
            "justify_items": null,
            "left": null,
            "margin": null,
            "max_height": null,
            "max_width": null,
            "min_height": null,
            "min_width": null,
            "object_fit": null,
            "object_position": null,
            "order": null,
            "overflow": null,
            "overflow_x": null,
            "overflow_y": null,
            "padding": "0px 4px 0px 4px",
            "right": null,
            "top": null,
            "visibility": null,
            "width": null
          }
        },
        "23efe75f86ca42578db73c8ceee3ddd1": {
          "model_module": "@jupyter-widgets/controls",
          "model_name": "CheckboxModel",
          "model_module_version": "1.5.0",
          "state": {
            "_dom_classes": [],
            "_model_module": "@jupyter-widgets/controls",
            "_model_module_version": "1.5.0",
            "_model_name": "CheckboxModel",
            "_view_count": null,
            "_view_module": "@jupyter-widgets/controls",
            "_view_module_version": "1.5.0",
            "_view_name": "CheckboxView",
            "description": "Sabak Bernam",
            "description_tooltip": null,
            "disabled": false,
            "indent": false,
            "layout": "IPY_MODEL_5100794061b64f7eb8102d1f7b0344ad",
            "style": "IPY_MODEL_38ae0ca48d064b3c8acd135dbb8742a2",
            "value": true
          }
        },
        "9d26cda10ffb4905978dd98cc8c340d0": {
          "model_module": "@jupyter-widgets/controls",
          "model_name": "FloatSliderModel",
          "model_module_version": "1.5.0",
          "state": {
            "_dom_classes": [],
            "_model_module": "@jupyter-widgets/controls",
            "_model_module_version": "1.5.0",
            "_model_name": "FloatSliderModel",
            "_view_count": null,
            "_view_module": "@jupyter-widgets/controls",
            "_view_module_version": "1.5.0",
            "_view_name": "FloatSliderView",
            "continuous_update": true,
            "description": "",
            "description_tooltip": null,
            "disabled": false,
            "layout": "IPY_MODEL_e552271800e34b82834d67744c7751b0",
            "max": 1,
            "min": 0,
            "orientation": "horizontal",
            "readout": false,
            "readout_format": ".2f",
            "step": 0.01,
            "style": "IPY_MODEL_1e7666f075274ea485ec2ba1da05850d",
            "value": 1
          }
        },
        "0da4a79e05e14977a91b8224809df6c8": {
          "model_module": "@jupyter-widgets/controls",
          "model_name": "ButtonModel",
          "model_module_version": "1.5.0",
          "state": {
            "_dom_classes": [],
            "_model_module": "@jupyter-widgets/controls",
            "_model_module_version": "1.5.0",
            "_model_name": "ButtonModel",
            "_view_count": null,
            "_view_module": "@jupyter-widgets/controls",
            "_view_module_version": "1.5.0",
            "_view_name": "ButtonView",
            "button_style": "",
            "description": "",
            "disabled": false,
            "icon": "gear",
            "layout": "IPY_MODEL_38b6893996d0470397cd4a8064ad3758",
            "style": "IPY_MODEL_e8b40c8e01624508aba8f79e1cf568f9",
            "tooltip": "Sabak Bernam"
          }
        },
        "e870dec4b296401a937aadfd5be92426": {
          "model_module": "@jupyter-widgets/controls",
          "model_name": "ButtonModel",
          "model_module_version": "1.5.0",
          "state": {
            "_dom_classes": [],
            "_model_module": "@jupyter-widgets/controls",
            "_model_module_version": "1.5.0",
            "_model_name": "ButtonModel",
            "_view_count": null,
            "_view_module": "@jupyter-widgets/controls",
            "_view_module_version": "1.5.0",
            "_view_name": "ButtonView",
            "button_style": "",
            "description": "",
            "disabled": false,
            "icon": "times",
            "layout": "IPY_MODEL_6bf03e6eb7ea4f68954e56766e413e1a",
            "style": "IPY_MODEL_582157bfa2cc449c8ab0c7d2abad4287",
            "tooltip": "Loaded"
          }
        },
        "15f2859e914a47ec97b96f76895196e4": {
          "model_module": "@jupyter-widgets/base",
          "model_name": "LayoutModel",
          "model_module_version": "1.2.0",
          "state": {
            "_model_module": "@jupyter-widgets/base",
            "_model_module_version": "1.2.0",
            "_model_name": "LayoutModel",
            "_view_count": null,
            "_view_module": "@jupyter-widgets/base",
            "_view_module_version": "1.2.0",
            "_view_name": "LayoutView",
            "align_content": null,
            "align_items": null,
            "align_self": null,
            "border": null,
            "bottom": null,
            "display": null,
            "flex": null,
            "flex_flow": null,
            "grid_area": null,
            "grid_auto_columns": null,
            "grid_auto_flow": null,
            "grid_auto_rows": null,
            "grid_column": null,
            "grid_gap": null,
            "grid_row": null,
            "grid_template_areas": null,
            "grid_template_columns": null,
            "grid_template_rows": null,
            "height": null,
            "justify_content": null,
            "justify_items": null,
            "left": null,
            "margin": null,
            "max_height": null,
            "max_width": null,
            "min_height": null,
            "min_width": null,
            "object_fit": null,
            "object_position": null,
            "order": null,
            "overflow": null,
            "overflow_x": null,
            "overflow_y": null,
            "padding": "0px 4px 0px 4px",
            "right": null,
            "top": null,
            "visibility": null,
            "width": null
          }
        },
        "1a383920f8d24ee2a77a40a8b5b38c1b": {
          "model_module": "@jupyter-widgets/controls",
          "model_name": "CheckboxModel",
          "model_module_version": "1.5.0",
          "state": {
            "_dom_classes": [],
            "_model_module": "@jupyter-widgets/controls",
            "_model_module_version": "1.5.0",
            "_model_name": "CheckboxModel",
            "_view_count": null,
            "_view_module": "@jupyter-widgets/controls",
            "_view_module_version": "1.5.0",
            "_view_name": "CheckboxView",
            "description": "Sentinel-2",
            "description_tooltip": null,
            "disabled": false,
            "indent": false,
            "layout": "IPY_MODEL_d6cb0d7febeb40fc810b4f7b1884a298",
            "style": "IPY_MODEL_c5399ed9dddc4a8c8bf5523d0d6eb154",
            "value": true
          }
        },
        "de25dc3a9b2944369d33f474d031ee5e": {
          "model_module": "@jupyter-widgets/controls",
          "model_name": "FloatSliderModel",
          "model_module_version": "1.5.0",
          "state": {
            "_dom_classes": [],
            "_model_module": "@jupyter-widgets/controls",
            "_model_module_version": "1.5.0",
            "_model_name": "FloatSliderModel",
            "_view_count": null,
            "_view_module": "@jupyter-widgets/controls",
            "_view_module_version": "1.5.0",
            "_view_name": "FloatSliderView",
            "continuous_update": true,
            "description": "",
            "description_tooltip": null,
            "disabled": false,
            "layout": "IPY_MODEL_cbafd3545b794fd5966a0b4fc829f8dc",
            "max": 1,
            "min": 0,
            "orientation": "horizontal",
            "readout": false,
            "readout_format": ".2f",
            "step": 0.01,
            "style": "IPY_MODEL_9fa277edc9464cf9981a0ed540f4b21c",
            "value": 1
          }
        },
        "dc8a5f83a1a241cea977acd9b2373c1f": {
          "model_module": "@jupyter-widgets/controls",
          "model_name": "ButtonModel",
          "model_module_version": "1.5.0",
          "state": {
            "_dom_classes": [],
            "_model_module": "@jupyter-widgets/controls",
            "_model_module_version": "1.5.0",
            "_model_name": "ButtonModel",
            "_view_count": null,
            "_view_module": "@jupyter-widgets/controls",
            "_view_module_version": "1.5.0",
            "_view_name": "ButtonView",
            "button_style": "",
            "description": "",
            "disabled": false,
            "icon": "gear",
            "layout": "IPY_MODEL_ffb203bf317c494ba0e74f7a402be7c6",
            "style": "IPY_MODEL_b19a8fe357f546aaac6dcfdfdb4fb477",
            "tooltip": "Sentinel-2"
          }
        },
        "b49eb619d40049e09bd3e1c2e61617a9": {
          "model_module": "@jupyter-widgets/controls",
          "model_name": "ButtonModel",
          "model_module_version": "1.5.0",
          "state": {
            "_dom_classes": [],
            "_model_module": "@jupyter-widgets/controls",
            "_model_module_version": "1.5.0",
            "_model_name": "ButtonModel",
            "_view_count": null,
            "_view_module": "@jupyter-widgets/controls",
            "_view_module_version": "1.5.0",
            "_view_name": "ButtonView",
            "button_style": "",
            "description": "",
            "disabled": false,
            "icon": "times",
            "layout": "IPY_MODEL_6b413a268d9a4182a0790b47b9788e8d",
            "style": "IPY_MODEL_d6ec7407d5a94d34b263eadc394851a4",
            "tooltip": "Loaded"
          }
        },
        "cd1493ad080643948df08bc5ddaaa48a": {
          "model_module": "@jupyter-widgets/base",
          "model_name": "LayoutModel",
          "model_module_version": "1.2.0",
          "state": {
            "_model_module": "@jupyter-widgets/base",
            "_model_module_version": "1.2.0",
            "_model_name": "LayoutModel",
            "_view_count": null,
            "_view_module": "@jupyter-widgets/base",
            "_view_module_version": "1.2.0",
            "_view_name": "LayoutView",
            "align_content": null,
            "align_items": null,
            "align_self": null,
            "border": null,
            "bottom": null,
            "display": null,
            "flex": null,
            "flex_flow": null,
            "grid_area": null,
            "grid_auto_columns": null,
            "grid_auto_flow": null,
            "grid_auto_rows": null,
            "grid_column": null,
            "grid_gap": null,
            "grid_row": null,
            "grid_template_areas": null,
            "grid_template_columns": null,
            "grid_template_rows": null,
            "height": null,
            "justify_content": null,
            "justify_items": null,
            "left": null,
            "margin": null,
            "max_height": null,
            "max_width": null,
            "min_height": null,
            "min_width": null,
            "object_fit": null,
            "object_position": null,
            "order": null,
            "overflow": null,
            "overflow_x": null,
            "overflow_y": null,
            "padding": "0px 4px 0px 4px",
            "right": null,
            "top": null,
            "visibility": null,
            "width": null
          }
        },
        "050df2ccf2ab4bc19b769ee15e9f0ae9": {
          "model_module": "@jupyter-widgets/controls",
          "model_name": "CheckboxModel",
          "model_module_version": "1.5.0",
          "state": {
            "_dom_classes": [],
            "_model_module": "@jupyter-widgets/controls",
            "_model_module_version": "1.5.0",
            "_model_name": "CheckboxModel",
            "_view_count": null,
            "_view_module": "@jupyter-widgets/controls",
            "_view_module_version": "1.5.0",
            "_view_name": "CheckboxView",
            "description": "NDVI",
            "description_tooltip": null,
            "disabled": false,
            "indent": false,
            "layout": "IPY_MODEL_45db74a7d0c34c3ebd20f45bd1af8d2c",
            "style": "IPY_MODEL_83b01c66bfe4435a829a055af76d56d3",
            "value": true
          }
        },
        "7b64e7e3d67242f3955e32490ef3e285": {
          "model_module": "@jupyter-widgets/controls",
          "model_name": "FloatSliderModel",
          "model_module_version": "1.5.0",
          "state": {
            "_dom_classes": [],
            "_model_module": "@jupyter-widgets/controls",
            "_model_module_version": "1.5.0",
            "_model_name": "FloatSliderModel",
            "_view_count": null,
            "_view_module": "@jupyter-widgets/controls",
            "_view_module_version": "1.5.0",
            "_view_name": "FloatSliderView",
            "continuous_update": true,
            "description": "",
            "description_tooltip": null,
            "disabled": false,
            "layout": "IPY_MODEL_03d56f9979d64a9d9b261b4e0db301af",
            "max": 1,
            "min": 0,
            "orientation": "horizontal",
            "readout": false,
            "readout_format": ".2f",
            "step": 0.01,
            "style": "IPY_MODEL_2e881fc48d254862ad31442f8fe7293b",
            "value": 1
          }
        },
        "ad043d7d919f488cbb79489cd1aee526": {
          "model_module": "@jupyter-widgets/controls",
          "model_name": "ButtonModel",
          "model_module_version": "1.5.0",
          "state": {
            "_dom_classes": [],
            "_model_module": "@jupyter-widgets/controls",
            "_model_module_version": "1.5.0",
            "_model_name": "ButtonModel",
            "_view_count": null,
            "_view_module": "@jupyter-widgets/controls",
            "_view_module_version": "1.5.0",
            "_view_name": "ButtonView",
            "button_style": "",
            "description": "",
            "disabled": false,
            "icon": "gear",
            "layout": "IPY_MODEL_ac31029e608940ff87e56971c980289d",
            "style": "IPY_MODEL_91cef24cd854401d9e88dc9379b0b606",
            "tooltip": "NDVI"
          }
        },
        "f21b18071713458cbfb1a5f0fd37c088": {
          "model_module": "@jupyter-widgets/controls",
          "model_name": "ButtonModel",
          "model_module_version": "1.5.0",
          "state": {
            "_dom_classes": [],
            "_model_module": "@jupyter-widgets/controls",
            "_model_module_version": "1.5.0",
            "_model_name": "ButtonModel",
            "_view_count": null,
            "_view_module": "@jupyter-widgets/controls",
            "_view_module_version": "1.5.0",
            "_view_name": "ButtonView",
            "button_style": "",
            "description": "",
            "disabled": false,
            "icon": "times",
            "layout": "IPY_MODEL_e6322c51181645c198d0f7800dd95e32",
            "style": "IPY_MODEL_b120db37d61c4061ac0ff0268a153e9b",
            "tooltip": "Loaded"
          }
        },
        "34fbca6eb5d04017a014f8a61968d72c": {
          "model_module": "@jupyter-widgets/base",
          "model_name": "LayoutModel",
          "model_module_version": "1.2.0",
          "state": {
            "_model_module": "@jupyter-widgets/base",
            "_model_module_version": "1.2.0",
            "_model_name": "LayoutModel",
            "_view_count": null,
            "_view_module": "@jupyter-widgets/base",
            "_view_module_version": "1.2.0",
            "_view_name": "LayoutView",
            "align_content": null,
            "align_items": null,
            "align_self": null,
            "border": null,
            "bottom": null,
            "display": null,
            "flex": null,
            "flex_flow": null,
            "grid_area": null,
            "grid_auto_columns": null,
            "grid_auto_flow": null,
            "grid_auto_rows": null,
            "grid_column": null,
            "grid_gap": null,
            "grid_row": null,
            "grid_template_areas": null,
            "grid_template_columns": null,
            "grid_template_rows": null,
            "height": null,
            "justify_content": null,
            "justify_items": null,
            "left": null,
            "margin": null,
            "max_height": null,
            "max_width": null,
            "min_height": null,
            "min_width": null,
            "object_fit": null,
            "object_position": null,
            "order": null,
            "overflow": null,
            "overflow_x": null,
            "overflow_y": null,
            "padding": "0px 4px 0px 4px",
            "right": null,
            "top": null,
            "visibility": null,
            "width": null
          }
        },
        "2e8b3325635341c1ae57a51f463b6e03": {
          "model_module": "@jupyter-widgets/base",
          "model_name": "LayoutModel",
          "model_module_version": "1.2.0",
          "state": {
            "_model_module": "@jupyter-widgets/base",
            "_model_module_version": "1.2.0",
            "_model_name": "LayoutModel",
            "_view_count": null,
            "_view_module": "@jupyter-widgets/base",
            "_view_module_version": "1.2.0",
            "_view_name": "LayoutView",
            "align_content": null,
            "align_items": null,
            "align_self": null,
            "border": null,
            "bottom": null,
            "display": null,
            "flex": null,
            "flex_flow": null,
            "grid_area": null,
            "grid_auto_columns": null,
            "grid_auto_flow": null,
            "grid_auto_rows": null,
            "grid_column": null,
            "grid_gap": null,
            "grid_row": null,
            "grid_template_areas": null,
            "grid_template_columns": null,
            "grid_template_rows": null,
            "height": "18px",
            "justify_content": null,
            "justify_items": null,
            "left": null,
            "margin": null,
            "max_height": null,
            "max_width": null,
            "min_height": null,
            "min_width": null,
            "object_fit": null,
            "object_position": null,
            "order": null,
            "overflow": null,
            "overflow_x": null,
            "overflow_y": null,
            "padding": null,
            "right": null,
            "top": null,
            "visibility": null,
            "width": "140px"
          }
        },
        "a6cdf6fa5f254baaba73247a68acf6a7": {
          "model_module": "@jupyter-widgets/controls",
          "model_name": "DescriptionStyleModel",
          "model_module_version": "1.5.0",
          "state": {
            "_model_module": "@jupyter-widgets/controls",
            "_model_module_version": "1.5.0",
            "_model_name": "DescriptionStyleModel",
            "_view_count": null,
            "_view_module": "@jupyter-widgets/base",
            "_view_module_version": "1.2.0",
            "_view_name": "StyleView",
            "description_width": ""
          }
        },
        "df7a78df87f940448b2bed0d33cc34a2": {
          "model_module": "@jupyter-widgets/base",
          "model_name": "LayoutModel",
          "model_module_version": "1.2.0",
          "state": {
            "_model_module": "@jupyter-widgets/base",
            "_model_module_version": "1.2.0",
            "_model_name": "LayoutModel",
            "_view_count": null,
            "_view_module": "@jupyter-widgets/base",
            "_view_module_version": "1.2.0",
            "_view_name": "LayoutView",
            "align_content": null,
            "align_items": null,
            "align_self": null,
            "border": null,
            "bottom": null,
            "display": null,
            "flex": null,
            "flex_flow": null,
            "grid_area": null,
            "grid_auto_columns": null,
            "grid_auto_flow": null,
            "grid_auto_rows": null,
            "grid_column": null,
            "grid_gap": null,
            "grid_row": null,
            "grid_template_areas": null,
            "grid_template_columns": null,
            "grid_template_rows": null,
            "height": null,
            "justify_content": null,
            "justify_items": null,
            "left": null,
            "margin": null,
            "max_height": null,
            "max_width": null,
            "min_height": null,
            "min_width": null,
            "object_fit": null,
            "object_position": null,
            "order": null,
            "overflow": null,
            "overflow_x": null,
            "overflow_y": null,
            "padding": "0px 3px 0px 0px",
            "right": null,
            "top": null,
            "visibility": null,
            "width": "70px"
          }
        },
        "e1bb8eeabcad4a14b0fd6212235039f0": {
          "model_module": "@jupyter-widgets/controls",
          "model_name": "SliderStyleModel",
          "model_module_version": "1.5.0",
          "state": {
            "_model_module": "@jupyter-widgets/controls",
            "_model_module_version": "1.5.0",
            "_model_name": "SliderStyleModel",
            "_view_count": null,
            "_view_module": "@jupyter-widgets/base",
            "_view_module_version": "1.2.0",
            "_view_name": "StyleView",
            "description_width": "",
            "handle_color": null
          }
        },
        "150bc655ada646d89c958f395ff9eb02": {
          "model_module": "@jupyter-widgets/base",
          "model_name": "LayoutModel",
          "model_module_version": "1.2.0",
          "state": {
            "_model_module": "@jupyter-widgets/base",
            "_model_module_version": "1.2.0",
            "_model_name": "LayoutModel",
            "_view_count": null,
            "_view_module": "@jupyter-widgets/base",
            "_view_module_version": "1.2.0",
            "_view_name": "LayoutView",
            "align_content": null,
            "align_items": null,
            "align_self": null,
            "border": null,
            "bottom": null,
            "display": null,
            "flex": null,
            "flex_flow": null,
            "grid_area": null,
            "grid_auto_columns": null,
            "grid_auto_flow": null,
            "grid_auto_rows": null,
            "grid_column": null,
            "grid_gap": null,
            "grid_row": null,
            "grid_template_areas": null,
            "grid_template_columns": null,
            "grid_template_rows": null,
            "height": "25px",
            "justify_content": null,
            "justify_items": null,
            "left": null,
            "margin": null,
            "max_height": null,
            "max_width": null,
            "min_height": null,
            "min_width": null,
            "object_fit": null,
            "object_position": null,
            "order": null,
            "overflow": null,
            "overflow_x": null,
            "overflow_y": null,
            "padding": "0px",
            "right": null,
            "top": null,
            "visibility": null,
            "width": "25px"
          }
        },
        "512b69b9e7d243eeaa5e647db09a7722": {
          "model_module": "@jupyter-widgets/controls",
          "model_name": "ButtonStyleModel",
          "model_module_version": "1.5.0",
          "state": {
            "_model_module": "@jupyter-widgets/controls",
            "_model_module_version": "1.5.0",
            "_model_name": "ButtonStyleModel",
            "_view_count": null,
            "_view_module": "@jupyter-widgets/base",
            "_view_module_version": "1.2.0",
            "_view_name": "StyleView",
            "button_color": null,
            "font_weight": ""
          }
        },
        "592bc4599a5345958fdeae3bede2ef4e": {
          "model_module": "@jupyter-widgets/base",
          "model_name": "LayoutModel",
          "model_module_version": "1.2.0",
          "state": {
            "_model_module": "@jupyter-widgets/base",
            "_model_module_version": "1.2.0",
            "_model_name": "LayoutModel",
            "_view_count": null,
            "_view_module": "@jupyter-widgets/base",
            "_view_module_version": "1.2.0",
            "_view_name": "LayoutView",
            "align_content": null,
            "align_items": null,
            "align_self": null,
            "border": null,
            "bottom": null,
            "display": null,
            "flex": null,
            "flex_flow": null,
            "grid_area": null,
            "grid_auto_columns": null,
            "grid_auto_flow": null,
            "grid_auto_rows": null,
            "grid_column": null,
            "grid_gap": null,
            "grid_row": null,
            "grid_template_areas": null,
            "grid_template_columns": null,
            "grid_template_rows": null,
            "height": "25px",
            "justify_content": null,
            "justify_items": null,
            "left": null,
            "margin": null,
            "max_height": null,
            "max_width": null,
            "min_height": null,
            "min_width": null,
            "object_fit": null,
            "object_position": null,
            "order": null,
            "overflow": null,
            "overflow_x": null,
            "overflow_y": null,
            "padding": "0px",
            "right": null,
            "top": null,
            "visibility": null,
            "width": "25px"
          }
        },
        "feabd68f5f0041af84c8e6fbb3e9f3d9": {
          "model_module": "@jupyter-widgets/controls",
          "model_name": "ButtonStyleModel",
          "model_module_version": "1.5.0",
          "state": {
            "_model_module": "@jupyter-widgets/controls",
            "_model_module_version": "1.5.0",
            "_model_name": "ButtonStyleModel",
            "_view_count": null,
            "_view_module": "@jupyter-widgets/base",
            "_view_module_version": "1.2.0",
            "_view_name": "StyleView",
            "button_color": null,
            "font_weight": ""
          }
        },
        "5100794061b64f7eb8102d1f7b0344ad": {
          "model_module": "@jupyter-widgets/base",
          "model_name": "LayoutModel",
          "model_module_version": "1.2.0",
          "state": {
            "_model_module": "@jupyter-widgets/base",
            "_model_module_version": "1.2.0",
            "_model_name": "LayoutModel",
            "_view_count": null,
            "_view_module": "@jupyter-widgets/base",
            "_view_module_version": "1.2.0",
            "_view_name": "LayoutView",
            "align_content": null,
            "align_items": null,
            "align_self": null,
            "border": null,
            "bottom": null,
            "display": null,
            "flex": null,
            "flex_flow": null,
            "grid_area": null,
            "grid_auto_columns": null,
            "grid_auto_flow": null,
            "grid_auto_rows": null,
            "grid_column": null,
            "grid_gap": null,
            "grid_row": null,
            "grid_template_areas": null,
            "grid_template_columns": null,
            "grid_template_rows": null,
            "height": "18px",
            "justify_content": null,
            "justify_items": null,
            "left": null,
            "margin": null,
            "max_height": null,
            "max_width": null,
            "min_height": null,
            "min_width": null,
            "object_fit": null,
            "object_position": null,
            "order": null,
            "overflow": null,
            "overflow_x": null,
            "overflow_y": null,
            "padding": null,
            "right": null,
            "top": null,
            "visibility": null,
            "width": "140px"
          }
        },
        "38ae0ca48d064b3c8acd135dbb8742a2": {
          "model_module": "@jupyter-widgets/controls",
          "model_name": "DescriptionStyleModel",
          "model_module_version": "1.5.0",
          "state": {
            "_model_module": "@jupyter-widgets/controls",
            "_model_module_version": "1.5.0",
            "_model_name": "DescriptionStyleModel",
            "_view_count": null,
            "_view_module": "@jupyter-widgets/base",
            "_view_module_version": "1.2.0",
            "_view_name": "StyleView",
            "description_width": ""
          }
        },
        "e552271800e34b82834d67744c7751b0": {
          "model_module": "@jupyter-widgets/base",
          "model_name": "LayoutModel",
          "model_module_version": "1.2.0",
          "state": {
            "_model_module": "@jupyter-widgets/base",
            "_model_module_version": "1.2.0",
            "_model_name": "LayoutModel",
            "_view_count": null,
            "_view_module": "@jupyter-widgets/base",
            "_view_module_version": "1.2.0",
            "_view_name": "LayoutView",
            "align_content": null,
            "align_items": null,
            "align_self": null,
            "border": null,
            "bottom": null,
            "display": null,
            "flex": null,
            "flex_flow": null,
            "grid_area": null,
            "grid_auto_columns": null,
            "grid_auto_flow": null,
            "grid_auto_rows": null,
            "grid_column": null,
            "grid_gap": null,
            "grid_row": null,
            "grid_template_areas": null,
            "grid_template_columns": null,
            "grid_template_rows": null,
            "height": null,
            "justify_content": null,
            "justify_items": null,
            "left": null,
            "margin": null,
            "max_height": null,
            "max_width": null,
            "min_height": null,
            "min_width": null,
            "object_fit": null,
            "object_position": null,
            "order": null,
            "overflow": null,
            "overflow_x": null,
            "overflow_y": null,
            "padding": "0px 3px 0px 0px",
            "right": null,
            "top": null,
            "visibility": null,
            "width": "70px"
          }
        },
        "1e7666f075274ea485ec2ba1da05850d": {
          "model_module": "@jupyter-widgets/controls",
          "model_name": "SliderStyleModel",
          "model_module_version": "1.5.0",
          "state": {
            "_model_module": "@jupyter-widgets/controls",
            "_model_module_version": "1.5.0",
            "_model_name": "SliderStyleModel",
            "_view_count": null,
            "_view_module": "@jupyter-widgets/base",
            "_view_module_version": "1.2.0",
            "_view_name": "StyleView",
            "description_width": "",
            "handle_color": null
          }
        },
        "38b6893996d0470397cd4a8064ad3758": {
          "model_module": "@jupyter-widgets/base",
          "model_name": "LayoutModel",
          "model_module_version": "1.2.0",
          "state": {
            "_model_module": "@jupyter-widgets/base",
            "_model_module_version": "1.2.0",
            "_model_name": "LayoutModel",
            "_view_count": null,
            "_view_module": "@jupyter-widgets/base",
            "_view_module_version": "1.2.0",
            "_view_name": "LayoutView",
            "align_content": null,
            "align_items": null,
            "align_self": null,
            "border": null,
            "bottom": null,
            "display": null,
            "flex": null,
            "flex_flow": null,
            "grid_area": null,
            "grid_auto_columns": null,
            "grid_auto_flow": null,
            "grid_auto_rows": null,
            "grid_column": null,
            "grid_gap": null,
            "grid_row": null,
            "grid_template_areas": null,
            "grid_template_columns": null,
            "grid_template_rows": null,
            "height": "25px",
            "justify_content": null,
            "justify_items": null,
            "left": null,
            "margin": null,
            "max_height": null,
            "max_width": null,
            "min_height": null,
            "min_width": null,
            "object_fit": null,
            "object_position": null,
            "order": null,
            "overflow": null,
            "overflow_x": null,
            "overflow_y": null,
            "padding": "0px",
            "right": null,
            "top": null,
            "visibility": null,
            "width": "25px"
          }
        },
        "e8b40c8e01624508aba8f79e1cf568f9": {
          "model_module": "@jupyter-widgets/controls",
          "model_name": "ButtonStyleModel",
          "model_module_version": "1.5.0",
          "state": {
            "_model_module": "@jupyter-widgets/controls",
            "_model_module_version": "1.5.0",
            "_model_name": "ButtonStyleModel",
            "_view_count": null,
            "_view_module": "@jupyter-widgets/base",
            "_view_module_version": "1.2.0",
            "_view_name": "StyleView",
            "button_color": null,
            "font_weight": ""
          }
        },
        "6bf03e6eb7ea4f68954e56766e413e1a": {
          "model_module": "@jupyter-widgets/base",
          "model_name": "LayoutModel",
          "model_module_version": "1.2.0",
          "state": {
            "_model_module": "@jupyter-widgets/base",
            "_model_module_version": "1.2.0",
            "_model_name": "LayoutModel",
            "_view_count": null,
            "_view_module": "@jupyter-widgets/base",
            "_view_module_version": "1.2.0",
            "_view_name": "LayoutView",
            "align_content": null,
            "align_items": null,
            "align_self": null,
            "border": null,
            "bottom": null,
            "display": null,
            "flex": null,
            "flex_flow": null,
            "grid_area": null,
            "grid_auto_columns": null,
            "grid_auto_flow": null,
            "grid_auto_rows": null,
            "grid_column": null,
            "grid_gap": null,
            "grid_row": null,
            "grid_template_areas": null,
            "grid_template_columns": null,
            "grid_template_rows": null,
            "height": "25px",
            "justify_content": null,
            "justify_items": null,
            "left": null,
            "margin": null,
            "max_height": null,
            "max_width": null,
            "min_height": null,
            "min_width": null,
            "object_fit": null,
            "object_position": null,
            "order": null,
            "overflow": null,
            "overflow_x": null,
            "overflow_y": null,
            "padding": "0px",
            "right": null,
            "top": null,
            "visibility": null,
            "width": "25px"
          }
        },
        "582157bfa2cc449c8ab0c7d2abad4287": {
          "model_module": "@jupyter-widgets/controls",
          "model_name": "ButtonStyleModel",
          "model_module_version": "1.5.0",
          "state": {
            "_model_module": "@jupyter-widgets/controls",
            "_model_module_version": "1.5.0",
            "_model_name": "ButtonStyleModel",
            "_view_count": null,
            "_view_module": "@jupyter-widgets/base",
            "_view_module_version": "1.2.0",
            "_view_name": "StyleView",
            "button_color": null,
            "font_weight": ""
          }
        },
        "d6cb0d7febeb40fc810b4f7b1884a298": {
          "model_module": "@jupyter-widgets/base",
          "model_name": "LayoutModel",
          "model_module_version": "1.2.0",
          "state": {
            "_model_module": "@jupyter-widgets/base",
            "_model_module_version": "1.2.0",
            "_model_name": "LayoutModel",
            "_view_count": null,
            "_view_module": "@jupyter-widgets/base",
            "_view_module_version": "1.2.0",
            "_view_name": "LayoutView",
            "align_content": null,
            "align_items": null,
            "align_self": null,
            "border": null,
            "bottom": null,
            "display": null,
            "flex": null,
            "flex_flow": null,
            "grid_area": null,
            "grid_auto_columns": null,
            "grid_auto_flow": null,
            "grid_auto_rows": null,
            "grid_column": null,
            "grid_gap": null,
            "grid_row": null,
            "grid_template_areas": null,
            "grid_template_columns": null,
            "grid_template_rows": null,
            "height": "18px",
            "justify_content": null,
            "justify_items": null,
            "left": null,
            "margin": null,
            "max_height": null,
            "max_width": null,
            "min_height": null,
            "min_width": null,
            "object_fit": null,
            "object_position": null,
            "order": null,
            "overflow": null,
            "overflow_x": null,
            "overflow_y": null,
            "padding": null,
            "right": null,
            "top": null,
            "visibility": null,
            "width": "140px"
          }
        },
        "c5399ed9dddc4a8c8bf5523d0d6eb154": {
          "model_module": "@jupyter-widgets/controls",
          "model_name": "DescriptionStyleModel",
          "model_module_version": "1.5.0",
          "state": {
            "_model_module": "@jupyter-widgets/controls",
            "_model_module_version": "1.5.0",
            "_model_name": "DescriptionStyleModel",
            "_view_count": null,
            "_view_module": "@jupyter-widgets/base",
            "_view_module_version": "1.2.0",
            "_view_name": "StyleView",
            "description_width": ""
          }
        },
        "cbafd3545b794fd5966a0b4fc829f8dc": {
          "model_module": "@jupyter-widgets/base",
          "model_name": "LayoutModel",
          "model_module_version": "1.2.0",
          "state": {
            "_model_module": "@jupyter-widgets/base",
            "_model_module_version": "1.2.0",
            "_model_name": "LayoutModel",
            "_view_count": null,
            "_view_module": "@jupyter-widgets/base",
            "_view_module_version": "1.2.0",
            "_view_name": "LayoutView",
            "align_content": null,
            "align_items": null,
            "align_self": null,
            "border": null,
            "bottom": null,
            "display": null,
            "flex": null,
            "flex_flow": null,
            "grid_area": null,
            "grid_auto_columns": null,
            "grid_auto_flow": null,
            "grid_auto_rows": null,
            "grid_column": null,
            "grid_gap": null,
            "grid_row": null,
            "grid_template_areas": null,
            "grid_template_columns": null,
            "grid_template_rows": null,
            "height": null,
            "justify_content": null,
            "justify_items": null,
            "left": null,
            "margin": null,
            "max_height": null,
            "max_width": null,
            "min_height": null,
            "min_width": null,
            "object_fit": null,
            "object_position": null,
            "order": null,
            "overflow": null,
            "overflow_x": null,
            "overflow_y": null,
            "padding": "0px 3px 0px 0px",
            "right": null,
            "top": null,
            "visibility": null,
            "width": "70px"
          }
        },
        "9fa277edc9464cf9981a0ed540f4b21c": {
          "model_module": "@jupyter-widgets/controls",
          "model_name": "SliderStyleModel",
          "model_module_version": "1.5.0",
          "state": {
            "_model_module": "@jupyter-widgets/controls",
            "_model_module_version": "1.5.0",
            "_model_name": "SliderStyleModel",
            "_view_count": null,
            "_view_module": "@jupyter-widgets/base",
            "_view_module_version": "1.2.0",
            "_view_name": "StyleView",
            "description_width": "",
            "handle_color": null
          }
        },
        "ffb203bf317c494ba0e74f7a402be7c6": {
          "model_module": "@jupyter-widgets/base",
          "model_name": "LayoutModel",
          "model_module_version": "1.2.0",
          "state": {
            "_model_module": "@jupyter-widgets/base",
            "_model_module_version": "1.2.0",
            "_model_name": "LayoutModel",
            "_view_count": null,
            "_view_module": "@jupyter-widgets/base",
            "_view_module_version": "1.2.0",
            "_view_name": "LayoutView",
            "align_content": null,
            "align_items": null,
            "align_self": null,
            "border": null,
            "bottom": null,
            "display": null,
            "flex": null,
            "flex_flow": null,
            "grid_area": null,
            "grid_auto_columns": null,
            "grid_auto_flow": null,
            "grid_auto_rows": null,
            "grid_column": null,
            "grid_gap": null,
            "grid_row": null,
            "grid_template_areas": null,
            "grid_template_columns": null,
            "grid_template_rows": null,
            "height": "25px",
            "justify_content": null,
            "justify_items": null,
            "left": null,
            "margin": null,
            "max_height": null,
            "max_width": null,
            "min_height": null,
            "min_width": null,
            "object_fit": null,
            "object_position": null,
            "order": null,
            "overflow": null,
            "overflow_x": null,
            "overflow_y": null,
            "padding": "0px",
            "right": null,
            "top": null,
            "visibility": null,
            "width": "25px"
          }
        },
        "b19a8fe357f546aaac6dcfdfdb4fb477": {
          "model_module": "@jupyter-widgets/controls",
          "model_name": "ButtonStyleModel",
          "model_module_version": "1.5.0",
          "state": {
            "_model_module": "@jupyter-widgets/controls",
            "_model_module_version": "1.5.0",
            "_model_name": "ButtonStyleModel",
            "_view_count": null,
            "_view_module": "@jupyter-widgets/base",
            "_view_module_version": "1.2.0",
            "_view_name": "StyleView",
            "button_color": null,
            "font_weight": ""
          }
        },
        "6b413a268d9a4182a0790b47b9788e8d": {
          "model_module": "@jupyter-widgets/base",
          "model_name": "LayoutModel",
          "model_module_version": "1.2.0",
          "state": {
            "_model_module": "@jupyter-widgets/base",
            "_model_module_version": "1.2.0",
            "_model_name": "LayoutModel",
            "_view_count": null,
            "_view_module": "@jupyter-widgets/base",
            "_view_module_version": "1.2.0",
            "_view_name": "LayoutView",
            "align_content": null,
            "align_items": null,
            "align_self": null,
            "border": null,
            "bottom": null,
            "display": null,
            "flex": null,
            "flex_flow": null,
            "grid_area": null,
            "grid_auto_columns": null,
            "grid_auto_flow": null,
            "grid_auto_rows": null,
            "grid_column": null,
            "grid_gap": null,
            "grid_row": null,
            "grid_template_areas": null,
            "grid_template_columns": null,
            "grid_template_rows": null,
            "height": "25px",
            "justify_content": null,
            "justify_items": null,
            "left": null,
            "margin": null,
            "max_height": null,
            "max_width": null,
            "min_height": null,
            "min_width": null,
            "object_fit": null,
            "object_position": null,
            "order": null,
            "overflow": null,
            "overflow_x": null,
            "overflow_y": null,
            "padding": "0px",
            "right": null,
            "top": null,
            "visibility": null,
            "width": "25px"
          }
        },
        "d6ec7407d5a94d34b263eadc394851a4": {
          "model_module": "@jupyter-widgets/controls",
          "model_name": "ButtonStyleModel",
          "model_module_version": "1.5.0",
          "state": {
            "_model_module": "@jupyter-widgets/controls",
            "_model_module_version": "1.5.0",
            "_model_name": "ButtonStyleModel",
            "_view_count": null,
            "_view_module": "@jupyter-widgets/base",
            "_view_module_version": "1.2.0",
            "_view_name": "StyleView",
            "button_color": null,
            "font_weight": ""
          }
        },
        "45db74a7d0c34c3ebd20f45bd1af8d2c": {
          "model_module": "@jupyter-widgets/base",
          "model_name": "LayoutModel",
          "model_module_version": "1.2.0",
          "state": {
            "_model_module": "@jupyter-widgets/base",
            "_model_module_version": "1.2.0",
            "_model_name": "LayoutModel",
            "_view_count": null,
            "_view_module": "@jupyter-widgets/base",
            "_view_module_version": "1.2.0",
            "_view_name": "LayoutView",
            "align_content": null,
            "align_items": null,
            "align_self": null,
            "border": null,
            "bottom": null,
            "display": null,
            "flex": null,
            "flex_flow": null,
            "grid_area": null,
            "grid_auto_columns": null,
            "grid_auto_flow": null,
            "grid_auto_rows": null,
            "grid_column": null,
            "grid_gap": null,
            "grid_row": null,
            "grid_template_areas": null,
            "grid_template_columns": null,
            "grid_template_rows": null,
            "height": "18px",
            "justify_content": null,
            "justify_items": null,
            "left": null,
            "margin": null,
            "max_height": null,
            "max_width": null,
            "min_height": null,
            "min_width": null,
            "object_fit": null,
            "object_position": null,
            "order": null,
            "overflow": null,
            "overflow_x": null,
            "overflow_y": null,
            "padding": null,
            "right": null,
            "top": null,
            "visibility": null,
            "width": "140px"
          }
        },
        "83b01c66bfe4435a829a055af76d56d3": {
          "model_module": "@jupyter-widgets/controls",
          "model_name": "DescriptionStyleModel",
          "model_module_version": "1.5.0",
          "state": {
            "_model_module": "@jupyter-widgets/controls",
            "_model_module_version": "1.5.0",
            "_model_name": "DescriptionStyleModel",
            "_view_count": null,
            "_view_module": "@jupyter-widgets/base",
            "_view_module_version": "1.2.0",
            "_view_name": "StyleView",
            "description_width": ""
          }
        },
        "03d56f9979d64a9d9b261b4e0db301af": {
          "model_module": "@jupyter-widgets/base",
          "model_name": "LayoutModel",
          "model_module_version": "1.2.0",
          "state": {
            "_model_module": "@jupyter-widgets/base",
            "_model_module_version": "1.2.0",
            "_model_name": "LayoutModel",
            "_view_count": null,
            "_view_module": "@jupyter-widgets/base",
            "_view_module_version": "1.2.0",
            "_view_name": "LayoutView",
            "align_content": null,
            "align_items": null,
            "align_self": null,
            "border": null,
            "bottom": null,
            "display": null,
            "flex": null,
            "flex_flow": null,
            "grid_area": null,
            "grid_auto_columns": null,
            "grid_auto_flow": null,
            "grid_auto_rows": null,
            "grid_column": null,
            "grid_gap": null,
            "grid_row": null,
            "grid_template_areas": null,
            "grid_template_columns": null,
            "grid_template_rows": null,
            "height": null,
            "justify_content": null,
            "justify_items": null,
            "left": null,
            "margin": null,
            "max_height": null,
            "max_width": null,
            "min_height": null,
            "min_width": null,
            "object_fit": null,
            "object_position": null,
            "order": null,
            "overflow": null,
            "overflow_x": null,
            "overflow_y": null,
            "padding": "0px 3px 0px 0px",
            "right": null,
            "top": null,
            "visibility": null,
            "width": "70px"
          }
        },
        "2e881fc48d254862ad31442f8fe7293b": {
          "model_module": "@jupyter-widgets/controls",
          "model_name": "SliderStyleModel",
          "model_module_version": "1.5.0",
          "state": {
            "_model_module": "@jupyter-widgets/controls",
            "_model_module_version": "1.5.0",
            "_model_name": "SliderStyleModel",
            "_view_count": null,
            "_view_module": "@jupyter-widgets/base",
            "_view_module_version": "1.2.0",
            "_view_name": "StyleView",
            "description_width": "",
            "handle_color": null
          }
        },
        "ac31029e608940ff87e56971c980289d": {
          "model_module": "@jupyter-widgets/base",
          "model_name": "LayoutModel",
          "model_module_version": "1.2.0",
          "state": {
            "_model_module": "@jupyter-widgets/base",
            "_model_module_version": "1.2.0",
            "_model_name": "LayoutModel",
            "_view_count": null,
            "_view_module": "@jupyter-widgets/base",
            "_view_module_version": "1.2.0",
            "_view_name": "LayoutView",
            "align_content": null,
            "align_items": null,
            "align_self": null,
            "border": null,
            "bottom": null,
            "display": null,
            "flex": null,
            "flex_flow": null,
            "grid_area": null,
            "grid_auto_columns": null,
            "grid_auto_flow": null,
            "grid_auto_rows": null,
            "grid_column": null,
            "grid_gap": null,
            "grid_row": null,
            "grid_template_areas": null,
            "grid_template_columns": null,
            "grid_template_rows": null,
            "height": "25px",
            "justify_content": null,
            "justify_items": null,
            "left": null,
            "margin": null,
            "max_height": null,
            "max_width": null,
            "min_height": null,
            "min_width": null,
            "object_fit": null,
            "object_position": null,
            "order": null,
            "overflow": null,
            "overflow_x": null,
            "overflow_y": null,
            "padding": "0px",
            "right": null,
            "top": null,
            "visibility": null,
            "width": "25px"
          }
        },
        "91cef24cd854401d9e88dc9379b0b606": {
          "model_module": "@jupyter-widgets/controls",
          "model_name": "ButtonStyleModel",
          "model_module_version": "1.5.0",
          "state": {
            "_model_module": "@jupyter-widgets/controls",
            "_model_module_version": "1.5.0",
            "_model_name": "ButtonStyleModel",
            "_view_count": null,
            "_view_module": "@jupyter-widgets/base",
            "_view_module_version": "1.2.0",
            "_view_name": "StyleView",
            "button_color": null,
            "font_weight": ""
          }
        },
        "e6322c51181645c198d0f7800dd95e32": {
          "model_module": "@jupyter-widgets/base",
          "model_name": "LayoutModel",
          "model_module_version": "1.2.0",
          "state": {
            "_model_module": "@jupyter-widgets/base",
            "_model_module_version": "1.2.0",
            "_model_name": "LayoutModel",
            "_view_count": null,
            "_view_module": "@jupyter-widgets/base",
            "_view_module_version": "1.2.0",
            "_view_name": "LayoutView",
            "align_content": null,
            "align_items": null,
            "align_self": null,
            "border": null,
            "bottom": null,
            "display": null,
            "flex": null,
            "flex_flow": null,
            "grid_area": null,
            "grid_auto_columns": null,
            "grid_auto_flow": null,
            "grid_auto_rows": null,
            "grid_column": null,
            "grid_gap": null,
            "grid_row": null,
            "grid_template_areas": null,
            "grid_template_columns": null,
            "grid_template_rows": null,
            "height": "25px",
            "justify_content": null,
            "justify_items": null,
            "left": null,
            "margin": null,
            "max_height": null,
            "max_width": null,
            "min_height": null,
            "min_width": null,
            "object_fit": null,
            "object_position": null,
            "order": null,
            "overflow": null,
            "overflow_x": null,
            "overflow_y": null,
            "padding": "0px",
            "right": null,
            "top": null,
            "visibility": null,
            "width": "25px"
          }
        },
        "b120db37d61c4061ac0ff0268a153e9b": {
          "model_module": "@jupyter-widgets/controls",
          "model_name": "ButtonStyleModel",
          "model_module_version": "1.5.0",
          "state": {
            "_model_module": "@jupyter-widgets/controls",
            "_model_module_version": "1.5.0",
            "_model_name": "ButtonStyleModel",
            "_view_count": null,
            "_view_module": "@jupyter-widgets/base",
            "_view_module_version": "1.2.0",
            "_view_name": "StyleView",
            "button_color": null,
            "font_weight": ""
          }
        },
        "84198d355337454585a6a1b489655368": {
          "model_module": "jupyter-leaflet",
          "model_name": "LeafletMapModel",
          "model_module_version": "^0.18",
          "state": {
            "_dom_classes": [],
            "_model_module": "jupyter-leaflet",
            "_model_module_version": "^0.18",
            "_model_name": "LeafletMapModel",
            "_view_count": null,
            "_view_module": "jupyter-leaflet",
            "_view_module_version": "^0.18",
            "_view_name": "LeafletMapView",
            "bottom": 128922,
            "bounce_at_zoom_limits": true,
            "box_zoom": true,
            "center": [
              3.5,
              101.15587962782114
            ],
            "close_popup_on_click": true,
            "controls": [
              "IPY_MODEL_529a9af5c88243b181c6aed77df7f38c",
              "IPY_MODEL_4a14bd402c424eb88319b5804a9f7ae2",
              "IPY_MODEL_44607f06ab6c4fc7b20820ec1773f952",
              "IPY_MODEL_1dba922ca9384652bd8d739780b5ba22",
              "IPY_MODEL_745da242f25c4f51a558700c40188d42",
              "IPY_MODEL_48ba97cbcf0649deb10a6a776440cee3",
              "IPY_MODEL_f4ead851975f4c6f8d4cbf08f7c56ae4"
            ],
            "crs": {
              "name": "EPSG3857",
              "custom": false
            },
            "default_style": "IPY_MODEL_faaa438177c942f6aba3f5bf37c484b6",
            "double_click_zoom": true,
            "dragging": true,
            "dragging_style": "IPY_MODEL_f16d6b560cf94d15b8ea9798a6ce06b1",
            "east": 101.94625854492189,
            "fullscreen": false,
            "inertia": true,
            "inertia_deceleration": 3000,
            "inertia_max_speed": 1500,
            "interpolation": "bilinear",
            "keyboard": true,
            "keyboard_pan_offset": 80,
            "keyboard_zoom_offset": 1,
            "layers": [
              "IPY_MODEL_3283b58feb7540649aafe97f887ce000",
              "IPY_MODEL_5fcb480964a14ab5bc909444316d5065",
              "IPY_MODEL_e7cea40748ea41e59588d4d922754560"
            ],
            "layout": "IPY_MODEL_fcd88147b66742d7a962f20c0ec1d634",
            "left": 204155,
            "max_zoom": 24,
            "min_zoom": null,
            "modisdate": "2024-08-13",
            "north": 4.047837060192175,
            "options": [
              "bounce_at_zoom_limits",
              "box_zoom",
              "center",
              "close_popup_on_click",
              "double_click_zoom",
              "dragging",
              "fullscreen",
              "inertia",
              "inertia_deceleration",
              "inertia_max_speed",
              "interpolation",
              "keyboard",
              "keyboard_pan_offset",
              "keyboard_zoom_offset",
              "max_zoom",
              "min_zoom",
              "prefer_canvas",
              "scroll_wheel_zoom",
              "tap",
              "tap_tolerance",
              "touch_zoom",
              "world_copy_jump",
              "zoom",
              "zoom_animation_threshold",
              "zoom_delta",
              "zoom_snap"
            ],
            "panes": {},
            "prefer_canvas": false,
            "right": 205307,
            "scroll_wheel_zoom": true,
            "south": 2.951269758090068,
            "style": "IPY_MODEL_7ea5c38e611d4f469e923caf07524121",
            "tap": true,
            "tap_tolerance": 15,
            "top": 128122,
            "touch_zoom": true,
            "west": 100.36422729492189,
            "window_url": "https://uqn7px6tki-496ff2e9c6d22116-0-colab.googleusercontent.com/outputframe.html?vrz=colab_20240812-060141_RC00_662037299",
            "world_copy_jump": false,
            "zoom": 10,
            "zoom_animation_threshold": 4,
            "zoom_delta": 1,
            "zoom_snap": 1
          }
        },
        "529a9af5c88243b181c6aed77df7f38c": {
          "model_module": "jupyter-leaflet",
          "model_name": "LeafletZoomControlModel",
          "model_module_version": "^0.18",
          "state": {
            "_model_module": "jupyter-leaflet",
            "_model_module_version": "^0.18",
            "_model_name": "LeafletZoomControlModel",
            "_view_count": null,
            "_view_module": "jupyter-leaflet",
            "_view_module_version": "^0.18",
            "_view_name": "LeafletZoomControlView",
            "options": [
              "position",
              "zoom_in_text",
              "zoom_in_title",
              "zoom_out_text",
              "zoom_out_title"
            ],
            "position": "topleft",
            "zoom_in_text": "+",
            "zoom_in_title": "Zoom in",
            "zoom_out_text": "-",
            "zoom_out_title": "Zoom out"
          }
        },
        "4a14bd402c424eb88319b5804a9f7ae2": {
          "model_module": "jupyter-leaflet",
          "model_name": "LeafletAttributionControlModel",
          "model_module_version": "^0.18",
          "state": {
            "_model_module": "jupyter-leaflet",
            "_model_module_version": "^0.18",
            "_model_name": "LeafletAttributionControlModel",
            "_view_count": null,
            "_view_module": "jupyter-leaflet",
            "_view_module_version": "^0.18",
            "_view_name": "LeafletAttributionControlView",
            "options": [
              "position",
              "prefix"
            ],
            "position": "bottomright",
            "prefix": "ipyleaflet"
          }
        },
        "44607f06ab6c4fc7b20820ec1773f952": {
          "model_module": "jupyter-leaflet",
          "model_name": "LeafletFullScreenControlModel",
          "model_module_version": "^0.18",
          "state": {
            "_model_module": "jupyter-leaflet",
            "_model_module_version": "^0.18",
            "_model_name": "LeafletFullScreenControlModel",
            "_view_count": null,
            "_view_module": "jupyter-leaflet",
            "_view_module_version": "^0.18",
            "_view_name": "LeafletFullScreenControlView",
            "options": [
              "position"
            ],
            "position": "topleft"
          }
        },
        "1dba922ca9384652bd8d739780b5ba22": {
          "model_module": "jupyter-leaflet",
          "model_name": "LeafletDrawControlModel",
          "model_module_version": "^0.18",
          "state": {
            "_model_module": "jupyter-leaflet",
            "_model_module_version": "^0.18",
            "_model_name": "LeafletDrawControlModel",
            "_view_count": null,
            "_view_module": "jupyter-leaflet",
            "_view_module_version": "^0.18",
            "_view_name": "LeafletDrawControlView",
            "circle": {
              "shapeOptions": {
                "color": "#3388ff"
              },
              "repeatMode": false
            },
            "circlemarker": {},
            "data": [],
            "edit": true,
            "marker": {
              "shapeOptions": {
                "color": "#3388ff"
              },
              "repeatMode": false
            },
            "options": [
              "position"
            ],
            "polygon": {
              "repeatMode": false
            },
            "polyline": {
              "repeatMode": false
            },
            "position": "topleft",
            "rectangle": {
              "shapeOptions": {
                "color": "#3388ff"
              },
              "repeatMode": false
            },
            "remove": true
          }
        },
        "745da242f25c4f51a558700c40188d42": {
          "model_module": "jupyter-leaflet",
          "model_name": "LeafletScaleControlModel",
          "model_module_version": "^0.18",
          "state": {
            "_model_module": "jupyter-leaflet",
            "_model_module_version": "^0.18",
            "_model_name": "LeafletScaleControlModel",
            "_view_count": null,
            "_view_module": "jupyter-leaflet",
            "_view_module_version": "^0.18",
            "_view_name": "LeafletScaleControlView",
            "imperial": true,
            "max_width": 100,
            "metric": true,
            "options": [
              "imperial",
              "max_width",
              "metric",
              "position",
              "update_when_idle"
            ],
            "position": "bottomleft",
            "update_when_idle": false
          }
        },
        "48ba97cbcf0649deb10a6a776440cee3": {
          "model_module": "jupyter-leaflet",
          "model_name": "LeafletWidgetControlModel",
          "model_module_version": "^0.18",
          "state": {
            "_model_module": "jupyter-leaflet",
            "_model_module_version": "^0.18",
            "_model_name": "LeafletWidgetControlModel",
            "_view_count": null,
            "_view_module": "jupyter-leaflet",
            "_view_module_version": "^0.18",
            "_view_name": "LeafletWidgetControlView",
            "max_height": null,
            "max_width": null,
            "min_height": null,
            "min_width": null,
            "options": [
              "position",
              "transparent_bg"
            ],
            "position": "topright",
            "transparent_bg": false,
            "widget": "IPY_MODEL_afa947fc696244878c10230735572d1e"
          }
        },
        "f4ead851975f4c6f8d4cbf08f7c56ae4": {
          "model_module": "jupyter-leaflet",
          "model_name": "LeafletWidgetControlModel",
          "model_module_version": "^0.18",
          "state": {
            "_model_module": "jupyter-leaflet",
            "_model_module_version": "^0.18",
            "_model_name": "LeafletWidgetControlModel",
            "_view_count": null,
            "_view_module": "jupyter-leaflet",
            "_view_module_version": "^0.18",
            "_view_name": "LeafletWidgetControlView",
            "max_height": null,
            "max_width": null,
            "min_height": null,
            "min_width": null,
            "options": [
              "position",
              "transparent_bg"
            ],
            "position": "bottomright",
            "transparent_bg": false,
            "widget": "IPY_MODEL_282f6add5246407b97a3c5bec6c9f578"
          }
        },
        "faaa438177c942f6aba3f5bf37c484b6": {
          "model_module": "jupyter-leaflet",
          "model_name": "LeafletMapStyleModel",
          "model_module_version": "^0.18",
          "state": {
            "_model_module": "jupyter-leaflet",
            "_model_module_version": "^0.18",
            "_model_name": "LeafletMapStyleModel",
            "_view_count": null,
            "_view_module": "@jupyter-widgets/base",
            "_view_module_version": "1.2.0",
            "_view_name": "StyleView",
            "cursor": "grab"
          }
        },
        "f16d6b560cf94d15b8ea9798a6ce06b1": {
          "model_module": "jupyter-leaflet",
          "model_name": "LeafletMapStyleModel",
          "model_module_version": "^0.18",
          "state": {
            "_model_module": "jupyter-leaflet",
            "_model_module_version": "^0.18",
            "_model_name": "LeafletMapStyleModel",
            "_view_count": null,
            "_view_module": "@jupyter-widgets/base",
            "_view_module_version": "1.2.0",
            "_view_name": "StyleView",
            "cursor": "move"
          }
        },
        "3283b58feb7540649aafe97f887ce000": {
          "model_module": "jupyter-leaflet",
          "model_name": "LeafletTileLayerModel",
          "model_module_version": "^0.18",
          "state": {
            "_model_module": "jupyter-leaflet",
            "_model_module_version": "^0.18",
            "_model_name": "LeafletTileLayerModel",
            "_view_count": null,
            "_view_module": "jupyter-leaflet",
            "_view_module_version": "^0.18",
            "_view_name": "LeafletTileLayerView",
            "attribution": "&copy; <a href=\"https://www.openstreetmap.org/copyright\">OpenStreetMap</a> contributors",
            "base": true,
            "bottom": true,
            "bounds": null,
            "detect_retina": false,
            "loading": false,
            "max_native_zoom": null,
            "max_zoom": 19,
            "min_native_zoom": null,
            "min_zoom": 1,
            "name": "OpenStreetMap",
            "no_wrap": false,
            "opacity": 1,
            "options": [
              "attribution",
              "bounds",
              "detect_retina",
              "max_native_zoom",
              "max_zoom",
              "min_native_zoom",
              "min_zoom",
              "no_wrap",
              "tile_size",
              "tms",
              "zoom_offset"
            ],
            "pane": "",
            "popup": null,
            "popup_max_height": null,
            "popup_max_width": 300,
            "popup_min_width": 50,
            "show_loading": false,
            "subitems": [],
            "tile_size": 256,
            "tms": false,
            "url": "https://tile.openstreetmap.org/{z}/{x}/{y}.png",
            "visible": true,
            "zoom_offset": 0
          }
        },
        "5fcb480964a14ab5bc909444316d5065": {
          "model_module": "jupyter-leaflet",
          "model_name": "LeafletGeoJSONModel",
          "model_module_version": "^0.18",
          "state": {
            "_model_module": "jupyter-leaflet",
            "_model_module_version": "^0.18",
            "_model_name": "LeafletGeoJSONModel",
            "_view_count": null,
            "_view_module": "jupyter-leaflet",
            "_view_module_version": "^0.18",
            "_view_name": "LeafletGeoJSONView",
            "base": false,
            "bottom": false,
            "data": {
              "type": "Polygon",
              "coordinates": [
                [
                  [
                    101.24736754365544,
                    3.719215818096568
                  ],
                  [
                    101.24598517415421,
                    3.7194789046999905
                  ],
                  [
                    101.24535198013426,
                    3.7198712795157975
                  ],
                  [
                    101.24395632136378,
                    3.7208790403336436
                  ],
                  [
                    101.24305108645936,
                    3.720348428605216
                  ],
                  [
                    101.24215035654952,
                    3.7196394174053844
                  ],
                  [
                    101.24123182111202,
                    3.719684029224686
                  ],
                  [
                    101.24005015537253,
                    3.718511249579564
                  ],
                  [
                    101.23909142970292,
                    3.7179181843411175
                  ],
                  [
                    101.2352833389689,
                    3.716357536914575
                  ],
                  [
                    101.23369595002329,
                    3.715412157335179
                  ],
                  [
                    101.23011970580201,
                    3.714025414648594
                  ],
                  [
                    101.22759142421768,
                    3.7141547099145096
                  ],
                  [
                    101.2263428275132,
                    3.7139585435717857
                  ],
                  [
                    101.22154044687912,
                    3.7131290892642688
                  ],
                  [
                    101.22019371264513,
                    3.711840455904176
                  ],
                  [
                    101.21942235526666,
                    3.7101014053578028
                  ],
                  [
                    101.21744695743948,
                    3.7088573131483833
                  ],
                  [
                    101.21430770467859,
                    3.707996698717643
                  ],
                  [
                    101.2137235581017,
                    3.7087948910971393
                  ],
                  [
                    101.21417396532411,
                    3.709374527384416
                  ],
                  [
                    101.21397331340721,
                    3.7109798130304568
                  ],
                  [
                    101.21298337319627,
                    3.7117691055421753
                  ],
                  [
                    101.21296106918234,
                    3.713146987721499
                  ],
                  [
                    101.21375926209244,
                    3.7132183211083194
                  ],
                  [
                    101.21444153066538,
                    3.7136909503357303
                  ],
                  [
                    101.2141338521982,
                    3.714890467785217
                  ],
                  [
                    101.21302798123926,
                    3.7156217455244835
                  ],
                  [
                    101.21153863679324,
                    3.7157644776079266
                  ],
                  [
                    101.21086978771878,
                    3.7146630381839922
                  ],
                  [
                    101.20934918224329,
                    3.7133699182833984
                  ],
                  [
                    101.20814524934046,
                    3.7136954544605145
                  ],
                  [
                    101.20715977632852,
                    3.7175302356261644
                  ],
                  [
                    101.20719997306124,
                    3.71850680194762
                  ],
                  [
                    101.20678080406768,
                    3.719706297117181
                  ],
                  [
                    101.20591126533118,
                    3.7200362834661065
                  ],
                  [
                    101.20470287942621,
                    3.7203573025523697
                  ],
                  [
                    101.20423021344477,
                    3.721097535723294
                  ],
                  [
                    101.20371294588423,
                    3.7215478909644086
                  ],
                  [
                    101.20251340387519,
                    3.7212981570810975
                  ],
                  [
                    101.20210315815557,
                    3.721980459061188
                  ],
                  [
                    101.20179551820726,
                    3.72289454776248
                  ],
                  [
                    101.2007431185143,
                    3.723969198178228
                  ],
                  [
                    101.2012425639643,
                    3.725182097996221
                  ],
                  [
                    101.20242419732806,
                    3.7261229395739903
                  ],
                  [
                    101.20206304994262,
                    3.72738042438753
                  ],
                  [
                    101.20096613122672,
                    3.7279377681424175
                  ],
                  [
                    101.19959270940947,
                    3.7279690360710593
                  ],
                  [
                    101.1976529749751,
                    3.727474059454135
                  ],
                  [
                    101.19602098614068,
                    3.7258955576941033
                  ],
                  [
                    101.19616809826633,
                    3.7242323147532543
                  ],
                  [
                    101.19852252723872,
                    3.7200763888560053
                  ],
                  [
                    101.1978224765582,
                    3.7179359952070117
                  ],
                  [
                    101.19627510475672,
                    3.7181411793706594
                  ],
                  [
                    101.19477685161092,
                    3.7185737133390524
                  ],
                  [
                    101.19350602513849,
                    3.7191266144519606
                  ],
                  [
                    101.1932518272406,
                    3.7206159682246382
                  ],
                  [
                    101.19322961412671,
                    3.721935811646489
                  ],
                  [
                    101.19247601343977,
                    3.722381756312099
                  ],
                  [
                    101.19144592609382,
                    3.722305921969418
                  ],
                  [
                    101.1904292461646,
                    3.7215434094353643
                  ],
                  [
                    101.18959096633344,
                    3.7205490262340364
                  ],
                  [
                    101.18851631223963,
                    3.719955980079874
                  ],
                  [
                    101.18766015823061,
                    3.71976870747879
                  ],
                  [
                    101.18640264692975,
                    3.719518996906926
                  ],
                  [
                    101.18330362004673,
                    3.7168212352484633
                  ],
                  [
                    101.18033389019256,
                    3.713204935562383
                  ],
                  [
                    101.17666849808477,
                    3.7102084347321145
                  ],
                  [
                    101.17493384930613,
                    3.7109797958208897
                  ],
                  [
                    101.17417140166079,
                    3.712402269541288
                  ],
                  [
                    101.1728203033232,
                    3.7140477241553653
                  ],
                  [
                    101.17132646907017,
                    3.7178156005102583
                  ],
                  [
                    101.17180805033755,
                    3.7196617301708153
                  ],
                  [
                    101.17294508578661,
                    3.719969406870855
                  ],
                  [
                    101.17410451602264,
                    3.719358478464784
                  ],
                  [
                    101.17429177864112,
                    3.7182125310912073
                  ],
                  [
                    101.17524157806736,
                    3.716330753796972
                  ],
                  [
                    101.17657482125591,
                    3.7156663759506583
                  ],
                  [
                    101.17764943120406,
                    3.716201439630188
                  ],
                  [
                    101.17843428845602,
                    3.7170754109505597
                  ],
                  [
                    101.1794955236043,
                    3.718301690538092
                  ],
                  [
                    101.18095370359211,
                    3.720339464915587
                  ],
                  [
                    101.18263029595897,
                    3.722439724668245
                  ],
                  [
                    101.1846457879708,
                    3.7251775872391324
                  ],
                  [
                    101.1873479827905,
                    3.7277549845963165
                  ],
                  [
                    101.18967566693013,
                    3.7288875532933394
                  ],
                  [
                    101.19124523404356,
                    3.7305820645113954
                  ],
                  [
                    101.19065223550703,
                    3.7315496404271937
                  ],
                  [
                    101.1893991802519,
                    3.731469376587706
                  ],
                  [
                    101.18848511166486,
                    3.7310502286487695
                  ],
                  [
                    101.18654533692202,
                    3.73072919620385
                  ],
                  [
                    101.1832412222156,
                    3.729864093467
                  ],
                  [
                    101.18032939630042,
                    3.7294672978042156
                  ],
                  [
                    101.17698063960218,
                    3.7282588512564994
                  ],
                  [
                    101.17365861293275,
                    3.727857538034579
                  ],
                  [
                    101.17175896748047,
                    3.728740458723478
                  ],
                  [
                    101.17156280912418,
                    3.7299443982137577
                  ],
                  [
                    101.17182144443133,
                    3.731732464268341
                  ],
                  [
                    101.1715449215755,
                    3.734140405702933
                  ],
                  [
                    101.17031872492281,
                    3.735901779831841
                  ],
                  [
                    101.1691281449737,
                    3.7383542637686813
                  ],
                  [
                    101.16895869286869,
                    3.7411634716831856
                  ],
                  [
                    101.16889181078234,
                    3.745016168145518
                  ],
                  [
                    101.16906126277185,
                    3.7484095436020053
                  ],
                  [
                    101.16783051741982,
                    3.7499969355394818
                  ],
                  [
                    101.16611373855439,
                    3.7501396744722273
                  ],
                  [
                    101.16446836191972,
                    3.749421762068161
                  ],
                  [
                    101.16438368305813,
                    3.7475221323561865
                  ],
                  [
                    101.16493210959386,
                    3.7458634172366962
                  ],
                  [
                    101.16646602659357,
                    3.7430184700272626
                  ],
                  [
                    101.16643483302225,
                    3.741752090152653
                  ],
                  [
                    101.16638134600753,
                    3.7380153591269565
                  ],
                  [
                    101.16584181141867,
                    3.736338748416014
                  ],
                  [
                    101.16542705270146,
                    3.73385951702331
                  ],
                  [
                    101.16553411212745,
                    3.731161716568522
                  ],
                  [
                    101.16602905827243,
                    3.7288697467436367
                  ],
                  [
                    101.16613162511308,
                    3.726747242553808
                  ],
                  [
                    101.16471807858007,
                    3.725342629389304
                  ],
                  [
                    101.16334464481578,
                    3.7256636651132915
                  ],
                  [
                    101.1630414464587,
                    3.7266937121550803
                  ],
                  [
                    101.1631395170701,
                    3.727670235224369
                  ],
                  [
                    101.16339821658076,
                    3.729226489717207
                  ],
                  [
                    101.16261339314978,
                    3.7312241153840455
                  ],
                  [
                    101.16049976692018,
                    3.7341760515949534
                  ],
                  [
                    101.15904163158588,
                    3.735701095552853
                  ],
                  [
                    101.1581408921943,
                    3.7381000531890476
                  ],
                  [
                    101.15732492017297,
                    3.7423406791253124
                  ],
                  [
                    101.15676746415907,
                    3.7445122448545467
                  ],
                  [
                    101.15532718253537,
                    3.7451187405428605
                  ],
                  [
                    101.15344102450123,
                    3.7449135563404767
                  ],
                  [
                    101.15203189435711,
                    3.743910261738422
                  ],
                  [
                    101.15125156810159,
                    3.7426349936884815
                  ],
                  [
                    101.15093052336478,
                    3.7411902319996915
                  ],
                  [
                    101.15425705058094,
                    3.734412439353517
                  ],
                  [
                    101.15449334950245,
                    3.730564232381029
                  ],
                  [
                    101.1521746207796,
                    3.7290838044155614
                  ],
                  [
                    101.14720273192562,
                    3.732160564018614
                  ],
                  [
                    101.14322075492986,
                    3.7339263303375243
                  ],
                  [
                    101.14086186439293,
                    3.7348047818594843
                  ],
                  [
                    101.13810169085497,
                    3.7353310182527943
                  ],
                  [
                    101.13649194232907,
                    3.735763508379109
                  ],
                  [
                    101.13630026006021,
                    3.736909521662041
                  ],
                  [
                    101.13724554494087,
                    3.738653004280975
                  ],
                  [
                    101.1380214403546,
                    3.7395849886469614
                  ],
                  [
                    101.13987646175268,
                    3.7416272395591577
                  ],
                  [
                    101.14354626659245,
                    3.7444498241922375
                  ],
                  [
                    101.14508019440208,
                    3.745341685165277
                  ],
                  [
                    101.14561529517228,
                    3.7473036412655105
                  ],
                  [
                    101.14374694749081,
                    3.7492835411799277
                  ],
                  [
                    101.1392432591929,
                    3.7516201021026667
                  ],
                  [
                    101.13703148803769,
                    3.7536489667018635
                  ],
                  [
                    101.13649194232907,
                    3.7550758936326067
                  ],
                  [
                    101.13617094600633,
                    3.757140466394339
                  ],
                  [
                    101.13519880695097,
                    3.7633876299082627
                  ],
                  [
                    101.13342412094205,
                    3.7635838110382913
                  ],
                  [
                    101.13285781759944,
                    3.7629461897321095
                  ],
                  [
                    101.1322558431621,
                    3.7613810609825435
                  ],
                  [
                    101.13185003726056,
                    3.758384545775562
                  ],
                  [
                    101.13019573485147,
                    3.7550223600500203
                  ],
                  [
                    101.12831843958772,
                    3.7512544712508857
                  ],
                  [
                    101.12628061223096,
                    3.749778460882231
                  ],
                  [
                    101.12489381180224,
                    3.7476291985514165
                  ],
                  [
                    101.12434984177399,
                    3.7456047569579263
                  ],
                  [
                    101.12463521404993,
                    3.7428535070602367
                  ],
                  [
                    101.12519257338455,
                    3.7406774794485584
                  ],
                  [
                    101.12420715594871,
                    3.737961880662915
                  ],
                  [
                    101.12222287722504,
                    3.7367757086987505
                  ],
                  [
                    101.12113928839473,
                    3.7366999452937226
                  ],
                  [
                    101.12004232457832,
                    3.7373108353627296
                  ],
                  [
                    101.11949829521032,
                    3.738626296554346
                  ],
                  [
                    101.11883395991944,
                    3.7404500103659677
                  ],
                  [
                    101.11714835464319,
                    3.7419170883645334
                  ],
                  [
                    101.11342055590292,
                    3.745818803502772
                  ],
                  [
                    101.11209179987911,
                    3.746599136858342
                  ],
                  [
                    101.11043740043358,
                    3.746452014697202
                  ],
                  [
                    101.1095277820027,
                    3.7459793007877145
                  ],
                  [
                    101.10817671247086,
                    3.7445746830670177
                  ],
                  [
                    101.1071867172547,
                    3.7423718865370774
                  ],
                  [
                    101.10727151931236,
                    3.74070866056103
                  ],
                  [
                    101.10788681140022,
                    3.7380733342985697
                  ],
                  [
                    101.10804734930095,
                    3.7358928162135485
                  ],
                  [
                    101.1071689278304,
                    3.733462591696346
                  ],
                  [
                    101.10599621468927,
                    3.7321203965166436
                  ],
                  [
                    101.10416351164935,
                    3.732147188603291
                  ],
                  [
                    101.102433343112,
                    3.7329766130381787
                  ],
                  [
                    101.10153260721839,
                    3.735148131113663
                  ],
                  [
                    101.10085932747242,
                    3.737721035827317
                  ],
                  [
                    101.10088160598906,
                    3.7428356158943217
                  ],
                  [
                    101.09965534529388,
                    3.7441377066939774
                  ],
                  [
                    101.09833541176869,
                    3.7442269285230423
                  ],
                  [
                    101.09685506275447,
                    3.74391471891013
                  ],
                  [
                    101.09578039044241,
                    3.7433796671844033
                  ],
                  [
                    101.09384961937779,
                    3.7424788853834863
                  ],
                  [
                    101.09081292666754,
                    3.7424298547491377
                  ],
                  [
                    101.08937266775474,
                    3.7429203377940063
                  ],
                  [
                    101.08657233566646,
                    3.7428713230691586
                  ],
                  [
                    101.08464157462696,
                    3.741917113655233
                  ],
                  [
                    101.08409308075154,
                    3.74046786164285
                  ],
                  [
                    101.08331269317662,
                    3.733096977898427
                  ],
                  [
                    101.08147558246871,
                    3.7299622314992305
                  ],
                  [
                    101.07925493415676,
                    3.7296367185452866
                  ],
                  [
                    101.07666864471598,
                    3.72999341200441
                  ],
                  [
                    101.07527296794635,
                    3.731291014518345
                  ],
                  [
                    101.07489839094804,
                    3.732949853432375
                  ],
                  [
                    101.07509012515645,
                    3.7353666855914542
                  ],
                  [
                    101.07562967640042,
                    3.7368158827452858
                  ],
                  [
                    101.07713240715488,
                    3.7394288920399865
                  ],
                  [
                    101.07852811063326,
                    3.7412348090216274
                  ],
                  [
                    101.07964290940886,
                    3.7430942411760832
                  ],
                  [
                    101.08017799664317,
                    3.745056254454824
                  ],
                  [
                    101.07984803446706,
                    3.747464216795886
                  ],
                  [
                    101.07932184121589,
                    3.7482044252550275
                  ],
                  [
                    101.07737767035218,
                    3.7515041343057107
                  ],
                  [
                    101.07653043150587,
                    3.753671247294395
                  ],
                  [
                    101.07590618678324,
                    3.7567078805434844
                  ],
                  [
                    101.076338694455,
                    3.7582061853629325
                  ],
                  [
                    101.0781624994773,
                    3.758469280743013
                  ],
                  [
                    101.08058376014313,
                    3.7578227145411067
                  ],
                  [
                    101.08305411940738,
                    3.757060193529458
                  ],
                  [
                    101.08564040606505,
                    3.7565920052444706
                  ],
                  [
                    101.0898899359175,
                    3.755918620280717
                  ],
                  [
                    101.09300232336626,
                    3.754478338094975
                  ],
                  [
                    101.09561089275076,
                    3.7527437687752854
                  ],
                  [
                    101.09921833012648,
                    3.749073916060356
                  ],
                  [
                    101.10145679069542,
                    3.7490560760436993
                  ],
                  [
                    101.10229509329812,
                    3.7501039489246506
                  ],
                  [
                    101.1023084778749,
                    3.7524048504853273
                  ],
                  [
                    101.1016485772532,
                    3.7544605337173014
                  ],
                  [
                    101.0997713130939,
                    3.756899624263741
                  ],
                  [
                    101.09849593393396,
                    3.758023369741308
                  ],
                  [
                    101.09732764256276,
                    3.7589240901821515
                  ],
                  [
                    101.09652055396766,
                    3.759601861663492
                  ],
                  [
                    101.0948796297297,
                    3.761639704815209
                  ],
                  [
                    101.09313166655839,
                    3.7632181651039964
                  ],
                  [
                    101.08931913657126,
                    3.7653942551393595
                  ],
                  [
                    101.08842283898557,
                    3.767102049415591
                  ],
                  [
                    101.08840056331988,
                    3.768595840807395
                  ],
                  [
                    101.08892671935945,
                    3.7709057293018224
                  ],
                  [
                    101.09137035170112,
                    3.775373683718305
                  ],
                  [
                    101.09275710710533,
                    3.777754835969364
                  ],
                  [
                    101.0930157066659,
                    3.779538491269911
                  ],
                  [
                    101.09262776441093,
                    3.7817190176898303
                  ],
                  [
                    101.09187424733848,
                    3.7826822071617285
                  ],
                  [
                    101.09020205949919,
                    3.7829408229111023
                  ],
                  [
                    101.0886591513034,
                    3.7826821544238185
                  ],
                  [
                    101.08657233566646,
                    3.78132214740115
                  ],
                  [
                    101.08465495677653,
                    3.779507333504085
                  ],
                  [
                    101.08086468760963,
                    3.770647046122772
                  ],
                  [
                    101.07874212545227,
                    3.7679626718332484
                  ],
                  [
                    101.076628501571,
                    3.767351802867706
                  ],
                  [
                    101.07257076266252,
                    3.767454318918575
                  ],
                  [
                    101.07069345536823,
                    3.766731964207629
                  ],
                  [
                    101.06735363525831,
                    3.76448903712958
                  ],
                  [
                    101.06590889006189,
                    3.76221937114887
                  ],
                  [
                    101.06572157628298,
                    3.7600299209230785
                  ],
                  [
                    101.06564129905985,
                    3.7576755488037907
                  ],
                  [
                    101.06498579054201,
                    3.7559944723332213
                  ],
                  [
                    101.06198927355783,
                    3.7540458656715336
                  ],
                  [
                    101.05813662155998,
                    3.7551828754380083
                  ],
                  [
                    101.05771748711193,
                    3.7560970282401613
                  ],
                  [
                    101.05836405627015,
                    3.7582909323105516
                  ],
                  [
                    101.0588590630714,
                    3.762553818995187
                  ],
                  [
                    101.05940301242995,
                    3.764288382136208
                  ],
                  [
                    101.05967507456755,
                    3.7682034711910974
                  ],
                  [
                    101.05996042990115,
                    3.7714274056861345
                  ],
                  [
                    101.05906863253598,
                    3.7734205937885172
                  ],
                  [
                    101.0576104596602,
                    3.775008064402056
                  ],
                  [
                    101.05555926685167,
                    3.777959961509058
                  ],
                  [
                    101.05563504757706,
                    3.780086979661969
                  ],
                  [
                    101.05616568693564,
                    3.7822228725102294
                  ],
                  [
                    101.05648227666755,
                    3.7836632064688396
                  ],
                  [
                    101.05847997481152,
                    3.7869762587247124
                  ],
                  [
                    101.061668263731,
                    3.791114334895614
                  ],
                  [
                    101.06204278968497,
                    3.7929604221236435
                  ],
                  [
                    101.06091912984557,
                    3.7948956774165965
                  ],
                  [
                    101.05957693531381,
                    3.796019384686595
                  ],
                  [
                    101.05694602897803,
                    3.796260129849524
                  ],
                  [
                    101.05534970497186,
                    3.795716133841578
                  ],
                  [
                    101.0536507859288,
                    3.794824333029158
                  ],
                  [
                    101.04542374043066,
                    3.7876630310880173
                  ],
                  [
                    101.04314514716728,
                    3.786936163392386
                  ],
                  [
                    101.04057224721353,
                    3.7866597344620723
                  ],
                  [
                    101.0366973200522,
                    3.7856118320618117
                  ],
                  [
                    101.03482890518308,
                    3.784777970580215
                  ],
                  [
                    101.02942000793396,
                    3.783302009554645
                  ],
                  [
                    101.02715482063284,
                    3.7850990386484478
                  ],
                  [
                    101.02716819484975,
                    3.78734193923227
                  ],
                  [
                    101.02994618923799,
                    3.7922201702197387
                  ],
                  [
                    101.03135079153232,
                    3.7938522447153087
                  ],
                  [
                    101.03115016979338,
                    3.798333641176636
                  ],
                  [
                    101.03054822078578,
                    3.7999879348802676
                  ],
                  [
                    101.02976334565598,
                    3.802391398998237
                  ],
                  [
                    101.02858621748172,
                    3.803920866062599
                  ],
                  [
                    101.02697198233065,
                    3.805040146572402
                  ],
                  [
                    101.02374359291294,
                    3.806248550397415
                  ],
                  [
                    101.02121529814806,
                    3.8063778046157037
                  ],
                  [
                    101.01820538235283,
                    3.805575217796631
                  ],
                  [
                    101.01666258451208,
                    3.805089138200931
                  ],
                  [
                    101.00947003133126,
                    3.800995717747269
                  ],
                  [
                    101.00691045032448,
                    3.8000325616775457
                  ],
                  [
                    101.00491278207285,
                    3.799653521359046
                  ],
                  [
                    101.00256285531151,
                    3.799724841713791
                  ],
                  [
                    100.99980712783082,
                    3.8004828817245686
                  ],
                  [
                    100.99842032264216,
                    3.8012052632514495
                  ],
                  [
                    100.99658318369919,
                    3.801459438651213
                  ],
                  [
                    100.99430013582011,
                    3.801075941669172
                  ],
                  [
                    100.99022454513769,
                    3.7984718385116722
                  ],
                  [
                    100.98825810048166,
                    3.796367172844345
                  ],
                  [
                    100.98716117319653,
                    3.793990459105341
                  ],
                  [
                    100.98622028209209,
                    3.7919080202851108
                  ],
                  [
                    100.98555582479919,
                    3.7841937966435952
                  ],
                  [
                    100.98585458851792,
                    3.7804035835589813
                  ],
                  [
                    100.98566285869227,
                    3.7781606179215155
                  ],
                  [
                    100.98530613701027,
                    3.775855286072061
                  ],
                  [
                    100.9844188234368,
                    3.774343658104658
                  ],
                  [
                    100.98267526920404,
                    3.77247533048049
                  ],
                  [
                    100.98080246704284,
                    3.7715790496773907
                  ],
                  [
                    100.97783719248365,
                    3.7711241541747453
                  ],
                  [
                    100.97468452712013,
                    3.7712401300421763
                  ],
                  [
                    100.97135363036945,
                    3.7721586935295925
                  ],
                  [
                    100.96799594460914,
                    3.774111793072802
                  ],
                  [
                    100.96556120647338,
                    3.775966791991566
                  ],
                  [
                    100.96346100878532,
                    3.7779956409797126
                  ],
                  [
                    100.96108432956491,
                    3.779908641312284
                  ],
                  [
                    100.95984466503532,
                    3.781785896284221
                  ],
                  [
                    100.95933637013043,
                    3.784934011779979
                  ],
                  [
                    100.95955486331856,
                    3.788331873288287
                  ],
                  [
                    100.95972429504016,
                    3.7918991274997214
                  ],
                  [
                    100.96053136322485,
                    3.7947262343455077
                  ],
                  [
                    100.96118236868247,
                    3.7968666101054267
                  ],
                  [
                    100.96198953535568,
                    3.7994662160493995
                  ],
                  [
                    100.96401838966797,
                    3.8011695983295524
                  ],
                  [
                    100.9667964608024,
                    3.8028863640159987
                  ],
                  [
                    100.97049748998224,
                    3.80415720089854
                  ],
                  [
                    100.97373030502803,
                    3.8053076407343496
                  ],
                  [
                    100.97651728102055,
                    3.8066230734558997
                  ],
                  [
                    100.9789340996971,
                    3.8090800403171365
                  ],
                  [
                    100.97879136910146,
                    3.8139047931546544
                  ],
                  [
                    100.97788177915918,
                    3.8165891510852323
                  ],
                  [
                    100.97717270685871,
                    3.817900141208991
                  ],
                  [
                    100.97459984114333,
                    3.821012647516924
                  ],
                  [
                    100.97256653772254,
                    3.8229880054127543
                  ],
                  [
                    100.96967257385701,
                    3.8244327633912953
                  ],
                  [
                    100.9666983297204,
                    3.8275987287107034
                  ],
                  [
                    100.96395147619802,
                    3.827723542975486
                  ],
                  [
                    100.95666534405883,
                    3.828628719843404
                  ],
                  [
                    100.95208136827101,
                    3.8289498399442334
                  ],
                  [
                    100.94852304497637,
                    3.8294625732980743
                  ],
                  [
                    100.94519210782549,
                    3.8302652321957584
                  ],
                  [
                    100.94136170773986,
                    3.8329005630911395
                  ],
                  [
                    100.9394220393552,
                    3.835799008036373
                  ],
                  [
                    100.93838299671415,
                    3.8394019332319753
                  ],
                  [
                    100.93804860548397,
                    3.8423850441760994
                  ],
                  [
                    100.93819575817068,
                    3.843647039280306
                  ],
                  [
                    100.9387575611056,
                    3.847508613083127
                  ],
                  [
                    100.93939971184562,
                    3.8498763523864272
                  ],
                  [
                    100.94106291004132,
                    3.853127039265279
                  ],
                  [
                    100.944090672149,
                    3.862723029144557
                  ],
                  [
                    100.94400153020997,
                    3.8678375988771347
                  ],
                  [
                    100.94283320948547,
                    3.869425071600399
                  ],
                  [
                    100.94127696496263,
                    3.869969101307561
                  ],
                  [
                    100.93892704227606,
                    3.8700449091242763
                  ],
                  [
                    100.93738422297088,
                    3.869844231042731
                  ],
                  [
                    100.93534188120738,
                    3.8691174081236555
                  ],
                  [
                    100.93403539841655,
                    3.8682924829823504
                  ],
                  [
                    100.9318861540726,
                    3.8669324515965746
                  ],
                  [
                    100.92951387813443,
                    3.8653940768526867
                  ],
                  [
                    100.92690083096983,
                    3.863739692672804
                  ],
                  [
                    100.92395782287105,
                    3.8621344409898724
                  ],
                  [
                    100.92107282508486,
                    3.8603597344743807
                  ],
                  [
                    100.91863367704542,
                    3.858937237900181
                  ],
                  [
                    100.91453578997003,
                    3.8577154718468756
                  ],
                  [
                    100.91053597979827,
                    3.8574122507959663
                  ],
                  [
                    100.90183179455812,
                    3.8543890047213822
                  ],
                  [
                    100.89932127193191,
                    3.853711178851515
                  ],
                  [
                    100.89533933292053,
                    3.8525473741942027
                  ],
                  [
                    100.89282880893852,
                    3.852043494781472
                  ],
                  [
                    100.89015335044111,
                    3.851593128153683
                  ],
                  [
                    100.88677783569433,
                    3.851303290030107
                  ],
                  [
                    100.88398201405928,
                    3.8510268133477106
                  ],
                  [
                    100.88015165634123,
                    3.8507860250046577
                  ],
                  [
                    100.87735129106261,
                    3.8504471049846374
                  ],
                  [
                    100.87362793658806,
                    3.850380247825289
                  ],
                  [
                    100.86990464175508,
                    3.850487271403282
                  ],
                  [
                    100.8663016587532,
                    3.8505407987799867
                  ],
                  [
                    100.86109787829163,
                    3.8503312363092754
                  ],
                  [
                    100.8594524397387,
                    3.8493279036402823
                  ],
                  [
                    100.85683502549624,
                    3.8486501128556516
                  ],
                  [
                    100.85192993683475,
                    3.8477003118282607
                  ],
                  [
                    100.84976282109663,
                    3.8472009223620067
                  ],
                  [
                    100.84748870332344,
                    3.8464161210570547
                  ],
                  [
                    100.84468843969873,
                    3.8461351623463615
                  ],
                  [
                    100.84149125382633,
                    3.8457338745394187
                  ],
                  [
                    100.83879795064236,
                    3.845568901708309
                  ],
                  [
                    100.83548927543565,
                    3.8455109314827554
                  ],
                  [
                    100.83187743840111,
                    3.8454485032100143
                  ],
                  [
                    100.82918406416987,
                    3.845689270982073
                  ],
                  [
                    100.80861425723796,
                    3.850094901693741
                  ],
                  [
                    100.81629733086272,
                    3.8435890369017733
                  ],
                  [
                    100.8142327065594,
                    3.8399147131012
                  ],
                  [
                    100.8139384403571,
                    3.8381623015874005
                  ],
                  [
                    100.80890859294469,
                    3.807951868917742
                  ],
                  [
                    100.80889077265206,
                    3.795760702611098
                  ],
                  [
                    100.81025519695737,
                    3.788626186335663
                  ],
                  [
                    100.81345236074391,
                    3.7819463900893298
                  ],
                  [
                    100.81596285194871,
                    3.7794136336554933
                  ],
                  [
                    100.82031048135596,
                    3.778941000346846
                  ],
                  [
                    100.82878728467344,
                    3.78191518794496
                  ],
                  [
                    100.84298498286729,
                    3.7800468830495104
                  ],
                  [
                    100.86036658788917,
                    3.772417337297416
                  ],
                  [
                    100.87103278787912,
                    3.7658357274800847
                  ],
                  [
                    100.8798082507075,
                    3.7604133925766106
                  ],
                  [
                    100.8962623565799,
                    3.7431254658651665
                  ],
                  [
                    100.8990091631116,
                    3.7417431651053112
                  ],
                  [
                    100.91636842794045,
                    3.7200808471864883
                  ],
                  [
                    100.92344058200871,
                    3.704420466570026
                  ],
                  [
                    100.92458211847742,
                    3.6982089943089607
                  ],
                  [
                    100.92365459751018,
                    3.6943028167541963
                  ],
                  [
                    100.92661992079785,
                    3.68992393875832
                  ],
                  [
                    100.93257282433288,
                    3.688300853219933
                  ],
                  [
                    100.93599737058221,
                    3.6889831063676093
                  ],
                  [
                    100.94310071849985,
                    3.6882785480067626
                  ],
                  [
                    100.95086854732413,
                    3.6834270538657656
                  ],
                  [
                    100.957512566369,
                    3.6820358306451606
                  ],
                  [
                    100.96459810715962,
                    3.6778754527041304
                  ],
                  [
                    100.96940050658594,
                    3.6700452886399932
                  ],
                  [
                    100.97853721429951,
                    3.6642752077616536
                  ],
                  [
                    100.98722801657574,
                    3.6575821135645725
                  ],
                  [
                    100.99133927549602,
                    3.6515935275055194
                  ],
                  [
                    100.99751071970272,
                    3.6469783773558198
                  ],
                  [
                    101.00414140007064,
                    3.6435136213401513
                  ],
                  [
                    101.01329589905816,
                    3.6421134760721934
                  ],
                  [
                    101.0295314911722,
                    3.627813159698244
                  ],
                  [
                    101.03568950025188,
                    3.6215882562973336
                  ],
                  [
                    101.05532294875128,
                    3.5941692341928544
                  ],
                  [
                    101.06445518924697,
                    3.5768946368220065
                  ],
                  [
                    101.06852631423993,
                    3.562621087414161
                  ],
                  [
                    101.07240130542142,
                    3.5495024346404387
                  ],
                  [
                    101.08244321462931,
                    3.5283127653156443
                  ],
                  [
                    101.08674622086995,
                    3.513120614469727
                  ],
                  [
                    101.09790738273749,
                    3.485260138298143
                  ],
                  [
                    101.09931642306591,
                    3.483583526281621
                  ],
                  [
                    101.11197581741948,
                    3.4960511957995997
                  ],
                  [
                    101.11396014690409,
                    3.493959858103948
                  ],
                  [
                    101.18110528710721,
                    3.5385419370042257
                  ],
                  [
                    101.26592853378895,
                    3.5687233329986516
                  ],
                  [
                    101.35075176350918,
                    3.598904770301794
                  ],
                  [
                    101.34557918744834,
                    3.6484721226124845
                  ],
                  [
                    101.34874068416826,
                    3.6541619702557453
                  ],
                  [
                    101.3492133460771,
                    3.656583249191484
                  ],
                  [
                    101.34944967786869,
                    3.6596333188815597
                  ],
                  [
                    101.34941851320488,
                    3.6643465443655043
                  ],
                  [
                    101.34983767874562,
                    3.6666519039385626
                  ],
                  [
                    101.3505555968738,
                    3.6680476232074395
                  ],
                  [
                    101.3512111031278,
                    3.669666269201516
                  ],
                  [
                    101.35169260689067,
                    3.671458841434744
                  ],
                  [
                    101.3499357613117,
                    3.6738979846156425
                  ],
                  [
                    101.34849543757771,
                    3.677781800137664
                  ],
                  [
                    101.34901276748157,
                    3.680434965136569
                  ],
                  [
                    101.34904393201901,
                    3.6822141846284095
                  ],
                  [
                    101.34842860733674,
                    3.6845641474305473
                  ],
                  [
                    101.34841077440433,
                    3.6854246883623465
                  ],
                  [
                    101.34918218148688,
                    3.6871637713251535
                  ],
                  [
                    101.34482564043556,
                    3.6938658206636674
                  ],
                  [
                    101.34043786757474,
                    3.6962023472500882
                  ],
                  [
                    101.33713363962609,
                    3.6919484005265777
                  ],
                  [
                    101.33533662797312,
                    3.6901379858940184
                  ],
                  [
                    101.33163563538136,
                    3.692367545216367
                  ],
                  [
                    101.33089543600684,
                    3.6922426716422336
                  ],
                  [
                    101.3288977386755,
                    3.6917477231078712
                  ],
                  [
                    101.32702047103692,
                    3.691252738931451
                  ],
                  [
                    101.32496477796933,
                    3.69092729034712
                  ],
                  [
                    101.323698425645,
                    3.6910788996703845
                  ],
                  [
                    101.32171411364408,
                    3.6902405205859137
                  ],
                  [
                    101.31980115238106,
                    3.688537190853147
                  ],
                  [
                    101.31672884235844,
                    3.6872797228553345
                  ],
                  [
                    101.3153687862669,
                    3.6867357272265915
                  ],
                  [
                    101.31359856033984,
                    3.686303190509902
                  ],
                  [
                    101.31131546877245,
                    3.685687797863754
                  ],
                  [
                    101.31077592155077,
                    3.684243060684407
                  ],
                  [
                    101.31080716069276,
                    3.6824014836410357
                  ],
                  [
                    101.31048611623778,
                    3.681130603099745
                  ],
                  [
                    101.31000455149466,
                    3.6791686254406155
                  ],
                  [
                    101.3085196333547,
                    3.6759803355248826
                  ],
                  [
                    101.30738700874988,
                    3.675329355915058
                  ],
                  [
                    101.30525998683113,
                    3.6725334812833137
                  ],
                  [
                    101.3003594687102,
                    3.674401853262818
                  ],
                  [
                    101.29947656177143,
                    3.6757083736773093
                  ],
                  [
                    101.29842424799261,
                    3.677179830058633
                  ],
                  [
                    101.29714888837212,
                    3.678138551028589
                  ],
                  [
                    101.29577551565676,
                    3.6778843851097864
                  ],
                  [
                    101.29252035282086,
                    3.6777684356096922
                  ],
                  [
                    101.29030418976471,
                    3.676577893888857
                  ],
                  [
                    101.28910913471032,
                    3.676386116635779
                  ],
                  [
                    101.28819950784819,
                    3.676082913519146
                  ],
                  [
                    101.2868974599134,
                    3.67525351147762
                  ],
                  [
                    101.28524756041655,
                    3.6745355692220816
                  ],
                  [
                    101.28308934878004,
                    3.6737507670641634
                  ],
                  [
                    101.28197457517639,
                    3.671833360314381
                  ],
                  [
                    101.28155543530269,
                    3.669929340466618
                  ],
                  [
                    101.28077062335394,
                    3.6690553999088795
                  ],
                  [
                    101.27911182882096,
                    3.6689081928821556
                  ],
                  [
                    101.2744387189117,
                    3.6708969810120435
                  ],
                  [
                    101.27346659851392,
                    3.6709371039811716
                  ],
                  [
                    101.27268185049877,
                    3.669947214989822
                  ],
                  [
                    101.27184356447279,
                    3.6690107655392645
                  ],
                  [
                    101.27080451829657,
                    3.66910888255497
                  ],
                  [
                    101.26953816304359,
                    3.669661795765251
                  ],
                  [
                    101.26752266743705,
                    3.670370786578397
                  ],
                  [
                    101.26569438945856,
                    3.67045554175106
                  ],
                  [
                    101.26363434106337,
                    3.670361896817177
                  ],
                  [
                    101.26218955623817,
                    3.6708524205654456
                  ],
                  [
                    101.26086518864653,
                    3.6716327522428247
                  ],
                  [
                    101.25980394290532,
                    3.6731086529473966
                  ],
                  [
                    101.2587516169685,
                    3.6743572178043156
                  ],
                  [
                    101.25778847219516,
                    3.673822122000397
                  ],
                  [
                    101.25677621159399,
                    3.672997218012559
                  ],
                  [
                    101.25482756986659,
                    3.67301950286501
                  ],
                  [
                    101.25332488200759,
                    3.6736259578600614
                  ],
                  [
                    101.25228144626855,
                    3.67470059860168
                  ],
                  [
                    101.25149660649095,
                    3.6767562343635607
                  ],
                  [
                    101.25000728741755,
                    3.6802923351873122
                  ],
                  [
                    101.24912889284474,
                    3.6812554951295295
                  ],
                  [
                    101.24785805813796,
                    3.682209691473788
                  ],
                  [
                    101.24692606540388,
                    3.682941012934451
                  ],
                  [
                    101.2465604312342,
                    3.684024592946211
                  ],
                  [
                    101.24768855708986,
                    3.6884123272713643
                  ],
                  [
                    101.24813894622821,
                    3.6918146083540218
                  ],
                  [
                    101.24754145462981,
                    3.693067657836403
                  ],
                  [
                    101.24684131564163,
                    3.694146696422304
                  ],
                  [
                    101.24717581818655,
                    3.694556940289666
                  ],
                  [
                    101.24800965804579,
                    3.6960641586383094
                  ],
                  [
                    101.2470019078547,
                    3.6978299787460744
                  ],
                  [
                    101.24582467006952,
                    3.6995333204348557
                  ],
                  [
                    101.24561954346098,
                    3.7015399133151132
                  ],
                  [
                    101.24649799336771,
                    3.7035643422035127
                  ],
                  [
                    101.24709997560245,
                    3.704955599072372
                  ],
                  [
                    101.24742998207054,
                    3.706052515525019
                  ],
                  [
                    101.24789368798704,
                    3.7088216376216447
                  ],
                  [
                    101.24813003874267,
                    3.711586295350426
                  ],
                  [
                    101.24972639402553,
                    3.715291787952236
                  ],
                  [
                    101.24988690443766,
                    3.7160409063571693
                  ],
                  [
                    101.24990921678926,
                    3.7177666177821727
                  ],
                  [
                    101.24868740673672,
                    3.7188947260524223
                  ],
                  [
                    101.24736754365544,
                    3.719215818096568
                  ]
                ]
              ]
            },
            "hover_style": {
              "weight": 4,
              "fillOpacity": 0
            },
            "layers": [],
            "name": "Boundary",
            "options": [],
            "pane": "",
            "point_style": {},
            "popup": null,
            "popup_max_height": null,
            "popup_max_width": 300,
            "popup_min_width": 50,
            "style": {},
            "subitems": [],
            "visible": true
          }
        },
        "e7cea40748ea41e59588d4d922754560": {
          "model_module": "jupyter-leaflet",
          "model_name": "LeafletTileLayerModel",
          "model_module_version": "^0.18",
          "state": {
            "_model_module": "jupyter-leaflet",
            "_model_module_version": "^0.18",
            "_model_name": "LeafletTileLayerModel",
            "_view_count": null,
            "_view_module": "jupyter-leaflet",
            "_view_module_version": "^0.18",
            "_view_name": "LeafletTileLayerView",
            "attribution": "Google",
            "base": false,
            "bottom": true,
            "bounds": null,
            "detect_retina": false,
            "loading": false,
            "max_native_zoom": null,
            "max_zoom": 24,
            "min_native_zoom": null,
            "min_zoom": 0,
            "name": "Google Satellite",
            "no_wrap": false,
            "opacity": 1,
            "options": [
              "attribution",
              "bounds",
              "detect_retina",
              "max_native_zoom",
              "max_zoom",
              "min_native_zoom",
              "min_zoom",
              "no_wrap",
              "tile_size",
              "tms",
              "zoom_offset"
            ],
            "pane": "",
            "popup": null,
            "popup_max_height": null,
            "popup_max_width": 300,
            "popup_min_width": 50,
            "show_loading": false,
            "subitems": [],
            "tile_size": 256,
            "tms": false,
            "url": "https://mt1.google.com/vt/lyrs=s&x={x}&y={y}&z={z}&key=YOUR-API-KEY",
            "visible": true,
            "zoom_offset": 0
          }
        },
        "fcd88147b66742d7a962f20c0ec1d634": {
          "model_module": "@jupyter-widgets/base",
          "model_name": "LayoutModel",
          "model_module_version": "1.2.0",
          "state": {
            "_model_module": "@jupyter-widgets/base",
            "_model_module_version": "1.2.0",
            "_model_name": "LayoutModel",
            "_view_count": null,
            "_view_module": "@jupyter-widgets/base",
            "_view_module_version": "1.2.0",
            "_view_name": "LayoutView",
            "align_content": null,
            "align_items": null,
            "align_self": null,
            "border": null,
            "bottom": null,
            "display": null,
            "flex": null,
            "flex_flow": null,
            "grid_area": null,
            "grid_auto_columns": null,
            "grid_auto_flow": null,
            "grid_auto_rows": null,
            "grid_column": null,
            "grid_gap": null,
            "grid_row": null,
            "grid_template_areas": null,
            "grid_template_columns": null,
            "grid_template_rows": null,
            "height": "800px",
            "justify_content": null,
            "justify_items": null,
            "left": null,
            "margin": null,
            "max_height": null,
            "max_width": null,
            "min_height": null,
            "min_width": null,
            "object_fit": null,
            "object_position": null,
            "order": null,
            "overflow": null,
            "overflow_x": null,
            "overflow_y": null,
            "padding": null,
            "right": null,
            "top": null,
            "visibility": null,
            "width": null
          }
        },
        "7ea5c38e611d4f469e923caf07524121": {
          "model_module": "jupyter-leaflet",
          "model_name": "LeafletMapStyleModel",
          "model_module_version": "^0.18",
          "state": {
            "_model_module": "jupyter-leaflet",
            "_model_module_version": "^0.18",
            "_model_name": "LeafletMapStyleModel",
            "_view_count": null,
            "_view_module": "@jupyter-widgets/base",
            "_view_module_version": "1.2.0",
            "_view_name": "StyleView",
            "cursor": "grab"
          }
        },
        "afa947fc696244878c10230735572d1e": {
          "model_module": "@jupyter-widgets/controls",
          "model_name": "VBoxModel",
          "model_module_version": "1.5.0",
          "state": {
            "_dom_classes": [],
            "_model_module": "@jupyter-widgets/controls",
            "_model_module_version": "1.5.0",
            "_model_name": "VBoxModel",
            "_view_count": null,
            "_view_module": "@jupyter-widgets/controls",
            "_view_module_version": "1.5.0",
            "_view_name": "VBoxView",
            "box_style": "",
            "children": [
              "IPY_MODEL_438bbb90677646b8b26b61447a5cc5e7"
            ],
            "layout": "IPY_MODEL_2db90f13e86c457789d92d0d8169c657"
          }
        },
        "282f6add5246407b97a3c5bec6c9f578": {
          "model_module": "@jupyter-widgets/controls",
          "model_name": "VBoxModel",
          "model_module_version": "1.5.0",
          "state": {
            "_dom_classes": [],
            "_model_module": "@jupyter-widgets/controls",
            "_model_module_version": "1.5.0",
            "_model_name": "VBoxModel",
            "_view_count": null,
            "_view_module": "@jupyter-widgets/controls",
            "_view_module_version": "1.5.0",
            "_view_name": "VBoxView",
            "box_style": "",
            "children": [
              "IPY_MODEL_2b0eccaaea904b558711a23c7d7aad9c",
              "IPY_MODEL_52ea11b8e51341e8b82a5d5c6f0e4a7f"
            ],
            "layout": "IPY_MODEL_239beff2580e423aae90312b3e12b71c"
          }
        },
        "438bbb90677646b8b26b61447a5cc5e7": {
          "model_module": "@jupyter-widgets/controls",
          "model_name": "ToggleButtonModel",
          "model_module_version": "1.5.0",
          "state": {
            "_dom_classes": [],
            "_model_module": "@jupyter-widgets/controls",
            "_model_module_version": "1.5.0",
            "_model_name": "ToggleButtonModel",
            "_view_count": null,
            "_view_module": "@jupyter-widgets/controls",
            "_view_module_version": "1.5.0",
            "_view_name": "ToggleButtonView",
            "button_style": "",
            "description": "",
            "description_tooltip": null,
            "disabled": false,
            "icon": "wrench",
            "layout": "IPY_MODEL_855b784fe8c548928abc885088227c36",
            "style": "IPY_MODEL_1d365e1db32e4a2e965ef6348b8d709f",
            "tooltip": "Toolbar",
            "value": false
          }
        },
        "2db90f13e86c457789d92d0d8169c657": {
          "model_module": "@jupyter-widgets/base",
          "model_name": "LayoutModel",
          "model_module_version": "1.2.0",
          "state": {
            "_model_module": "@jupyter-widgets/base",
            "_model_module_version": "1.2.0",
            "_model_name": "LayoutModel",
            "_view_count": null,
            "_view_module": "@jupyter-widgets/base",
            "_view_module_version": "1.2.0",
            "_view_name": "LayoutView",
            "align_content": null,
            "align_items": null,
            "align_self": null,
            "border": null,
            "bottom": null,
            "display": null,
            "flex": null,
            "flex_flow": null,
            "grid_area": null,
            "grid_auto_columns": null,
            "grid_auto_flow": null,
            "grid_auto_rows": null,
            "grid_column": null,
            "grid_gap": null,
            "grid_row": null,
            "grid_template_areas": null,
            "grid_template_columns": null,
            "grid_template_rows": null,
            "height": null,
            "justify_content": null,
            "justify_items": null,
            "left": null,
            "margin": null,
            "max_height": null,
            "max_width": null,
            "min_height": null,
            "min_width": null,
            "object_fit": null,
            "object_position": null,
            "order": null,
            "overflow": null,
            "overflow_x": null,
            "overflow_y": null,
            "padding": null,
            "right": null,
            "top": null,
            "visibility": null,
            "width": null
          }
        },
        "2b0eccaaea904b558711a23c7d7aad9c": {
          "model_module": "@jupyter-widgets/controls",
          "model_name": "HBoxModel",
          "model_module_version": "1.5.0",
          "state": {
            "_dom_classes": [],
            "_model_module": "@jupyter-widgets/controls",
            "_model_module_version": "1.5.0",
            "_model_name": "HBoxModel",
            "_view_count": null,
            "_view_module": "@jupyter-widgets/controls",
            "_view_module_version": "1.5.0",
            "_view_name": "HBoxView",
            "box_style": "",
            "children": [
              "IPY_MODEL_ecfea9e1b5204ff0b0d9120c5e1bd7d4",
              "IPY_MODEL_5fde8ca6ede94b22866ed59d5cc3a9b9"
            ],
            "layout": "IPY_MODEL_94d857a7fedd4928923832628c6f49f0"
          }
        },
        "52ea11b8e51341e8b82a5d5c6f0e4a7f": {
          "model_module": "@jupyter-widgets/controls",
          "model_name": "HTMLModel",
          "model_module_version": "1.5.0",
          "state": {
            "_dom_classes": [],
            "_model_module": "@jupyter-widgets/controls",
            "_model_module_version": "1.5.0",
            "_model_name": "HTMLModel",
            "_view_count": null,
            "_view_module": "@jupyter-widgets/controls",
            "_view_module_version": "1.5.0",
            "_view_name": "HTMLView",
            "description": "",
            "description_tooltip": null,
            "layout": "IPY_MODEL_e7d1ba1fbccf475b880e2b08d493bad0",
            "placeholder": "​",
            "style": "IPY_MODEL_348c6950929547c9bb5b0d5a536cba91",
            "value": ""
          }
        },
        "239beff2580e423aae90312b3e12b71c": {
          "model_module": "@jupyter-widgets/base",
          "model_name": "LayoutModel",
          "model_module_version": "1.2.0",
          "state": {
            "_model_module": "@jupyter-widgets/base",
            "_model_module_version": "1.2.0",
            "_model_name": "LayoutModel",
            "_view_count": null,
            "_view_module": "@jupyter-widgets/base",
            "_view_module_version": "1.2.0",
            "_view_name": "LayoutView",
            "align_content": null,
            "align_items": null,
            "align_self": null,
            "border": null,
            "bottom": null,
            "display": null,
            "flex": null,
            "flex_flow": null,
            "grid_area": null,
            "grid_auto_columns": null,
            "grid_auto_flow": null,
            "grid_auto_rows": null,
            "grid_column": null,
            "grid_gap": null,
            "grid_row": null,
            "grid_template_areas": null,
            "grid_template_columns": null,
            "grid_template_rows": null,
            "height": null,
            "justify_content": null,
            "justify_items": null,
            "left": null,
            "margin": null,
            "max_height": null,
            "max_width": null,
            "min_height": null,
            "min_width": null,
            "object_fit": null,
            "object_position": null,
            "order": null,
            "overflow": null,
            "overflow_x": null,
            "overflow_y": null,
            "padding": null,
            "right": null,
            "top": null,
            "visibility": null,
            "width": null
          }
        },
        "855b784fe8c548928abc885088227c36": {
          "model_module": "@jupyter-widgets/base",
          "model_name": "LayoutModel",
          "model_module_version": "1.2.0",
          "state": {
            "_model_module": "@jupyter-widgets/base",
            "_model_module_version": "1.2.0",
            "_model_name": "LayoutModel",
            "_view_count": null,
            "_view_module": "@jupyter-widgets/base",
            "_view_module_version": "1.2.0",
            "_view_name": "LayoutView",
            "align_content": null,
            "align_items": null,
            "align_self": null,
            "border": null,
            "bottom": null,
            "display": null,
            "flex": null,
            "flex_flow": null,
            "grid_area": null,
            "grid_auto_columns": null,
            "grid_auto_flow": null,
            "grid_auto_rows": null,
            "grid_column": null,
            "grid_gap": null,
            "grid_row": null,
            "grid_template_areas": null,
            "grid_template_columns": null,
            "grid_template_rows": null,
            "height": "28px",
            "justify_content": null,
            "justify_items": null,
            "left": null,
            "margin": null,
            "max_height": null,
            "max_width": null,
            "min_height": null,
            "min_width": null,
            "object_fit": null,
            "object_position": null,
            "order": null,
            "overflow": null,
            "overflow_x": null,
            "overflow_y": null,
            "padding": "0px 0px 0px 4px",
            "right": null,
            "top": null,
            "visibility": null,
            "width": "28px"
          }
        },
        "1d365e1db32e4a2e965ef6348b8d709f": {
          "model_module": "@jupyter-widgets/controls",
          "model_name": "DescriptionStyleModel",
          "model_module_version": "1.5.0",
          "state": {
            "_model_module": "@jupyter-widgets/controls",
            "_model_module_version": "1.5.0",
            "_model_name": "DescriptionStyleModel",
            "_view_count": null,
            "_view_module": "@jupyter-widgets/base",
            "_view_module_version": "1.2.0",
            "_view_name": "StyleView",
            "description_width": ""
          }
        },
        "ecfea9e1b5204ff0b0d9120c5e1bd7d4": {
          "model_module": "@jupyter-widgets/controls",
          "model_name": "ToggleButtonModel",
          "model_module_version": "1.5.0",
          "state": {
            "_dom_classes": [],
            "_model_module": "@jupyter-widgets/controls",
            "_model_module_version": "1.5.0",
            "_model_name": "ToggleButtonModel",
            "_view_count": null,
            "_view_module": "@jupyter-widgets/controls",
            "_view_module_version": "1.5.0",
            "_view_name": "ToggleButtonView",
            "button_style": "",
            "description": "",
            "description_tooltip": null,
            "disabled": false,
            "icon": "info",
            "layout": "IPY_MODEL_a024ccc6a7f948bfa29766be755c860b",
            "style": "IPY_MODEL_d9ac820862814ab2aed408c80f21e49e",
            "tooltip": "Toolbar",
            "value": true
          }
        },
        "5fde8ca6ede94b22866ed59d5cc3a9b9": {
          "model_module": "@jupyter-widgets/controls",
          "model_name": "ToggleButtonModel",
          "model_module_version": "1.5.0",
          "state": {
            "_dom_classes": [],
            "_model_module": "@jupyter-widgets/controls",
            "_model_module_version": "1.5.0",
            "_model_name": "ToggleButtonModel",
            "_view_count": null,
            "_view_module": "@jupyter-widgets/controls",
            "_view_module_version": "1.5.0",
            "_view_name": "ToggleButtonView",
            "button_style": "",
            "description": "",
            "description_tooltip": null,
            "disabled": false,
            "icon": "times",
            "layout": "IPY_MODEL_2a1aeb52e12c49e580c22ad56fe45186",
            "style": "IPY_MODEL_93ca7867700f4064b87d1b7560eeb111",
            "tooltip": "Close the tool",
            "value": false
          }
        },
        "94d857a7fedd4928923832628c6f49f0": {
          "model_module": "@jupyter-widgets/base",
          "model_name": "LayoutModel",
          "model_module_version": "1.2.0",
          "state": {
            "_model_module": "@jupyter-widgets/base",
            "_model_module_version": "1.2.0",
            "_model_name": "LayoutModel",
            "_view_count": null,
            "_view_module": "@jupyter-widgets/base",
            "_view_module_version": "1.2.0",
            "_view_name": "LayoutView",
            "align_content": null,
            "align_items": null,
            "align_self": null,
            "border": null,
            "bottom": null,
            "display": null,
            "flex": null,
            "flex_flow": null,
            "grid_area": null,
            "grid_auto_columns": null,
            "grid_auto_flow": null,
            "grid_auto_rows": null,
            "grid_column": null,
            "grid_gap": null,
            "grid_row": null,
            "grid_template_areas": null,
            "grid_template_columns": null,
            "grid_template_rows": null,
            "height": null,
            "justify_content": null,
            "justify_items": null,
            "left": null,
            "margin": null,
            "max_height": null,
            "max_width": null,
            "min_height": null,
            "min_width": null,
            "object_fit": null,
            "object_position": null,
            "order": null,
            "overflow": null,
            "overflow_x": null,
            "overflow_y": null,
            "padding": null,
            "right": null,
            "top": null,
            "visibility": null,
            "width": null
          }
        },
        "e7d1ba1fbccf475b880e2b08d493bad0": {
          "model_module": "@jupyter-widgets/base",
          "model_name": "LayoutModel",
          "model_module_version": "1.2.0",
          "state": {
            "_model_module": "@jupyter-widgets/base",
            "_model_module_version": "1.2.0",
            "_model_name": "LayoutModel",
            "_view_count": null,
            "_view_module": "@jupyter-widgets/base",
            "_view_module_version": "1.2.0",
            "_view_name": "LayoutView",
            "align_content": null,
            "align_items": null,
            "align_self": null,
            "border": null,
            "bottom": null,
            "display": null,
            "flex": null,
            "flex_flow": null,
            "grid_area": null,
            "grid_auto_columns": null,
            "grid_auto_flow": null,
            "grid_auto_rows": null,
            "grid_column": null,
            "grid_gap": null,
            "grid_row": null,
            "grid_template_areas": null,
            "grid_template_columns": null,
            "grid_template_rows": null,
            "height": null,
            "justify_content": null,
            "justify_items": null,
            "left": null,
            "margin": "0px 10px 0px 10px",
            "max_height": "250px",
            "max_width": "250px",
            "min_height": null,
            "min_width": null,
            "object_fit": null,
            "object_position": null,
            "order": null,
            "overflow": null,
            "overflow_x": null,
            "overflow_y": null,
            "padding": null,
            "right": null,
            "top": null,
            "visibility": null,
            "width": null
          }
        },
        "348c6950929547c9bb5b0d5a536cba91": {
          "model_module": "@jupyter-widgets/controls",
          "model_name": "DescriptionStyleModel",
          "model_module_version": "1.5.0",
          "state": {
            "_model_module": "@jupyter-widgets/controls",
            "_model_module_version": "1.5.0",
            "_model_name": "DescriptionStyleModel",
            "_view_count": null,
            "_view_module": "@jupyter-widgets/base",
            "_view_module_version": "1.2.0",
            "_view_name": "StyleView",
            "description_width": ""
          }
        },
        "a024ccc6a7f948bfa29766be755c860b": {
          "model_module": "@jupyter-widgets/base",
          "model_name": "LayoutModel",
          "model_module_version": "1.2.0",
          "state": {
            "_model_module": "@jupyter-widgets/base",
            "_model_module_version": "1.2.0",
            "_model_name": "LayoutModel",
            "_view_count": null,
            "_view_module": "@jupyter-widgets/base",
            "_view_module_version": "1.2.0",
            "_view_name": "LayoutView",
            "align_content": null,
            "align_items": null,
            "align_self": null,
            "border": null,
            "bottom": null,
            "display": null,
            "flex": null,
            "flex_flow": null,
            "grid_area": null,
            "grid_auto_columns": null,
            "grid_auto_flow": null,
            "grid_auto_rows": null,
            "grid_column": null,
            "grid_gap": null,
            "grid_row": null,
            "grid_template_areas": null,
            "grid_template_columns": null,
            "grid_template_rows": null,
            "height": "28px",
            "justify_content": null,
            "justify_items": null,
            "left": null,
            "margin": null,
            "max_height": null,
            "max_width": null,
            "min_height": null,
            "min_width": null,
            "object_fit": null,
            "object_position": null,
            "order": null,
            "overflow": null,
            "overflow_x": null,
            "overflow_y": null,
            "padding": "0px 0px 0px 4px",
            "right": null,
            "top": null,
            "visibility": null,
            "width": "28px"
          }
        },
        "d9ac820862814ab2aed408c80f21e49e": {
          "model_module": "@jupyter-widgets/controls",
          "model_name": "DescriptionStyleModel",
          "model_module_version": "1.5.0",
          "state": {
            "_model_module": "@jupyter-widgets/controls",
            "_model_module_version": "1.5.0",
            "_model_name": "DescriptionStyleModel",
            "_view_count": null,
            "_view_module": "@jupyter-widgets/base",
            "_view_module_version": "1.2.0",
            "_view_name": "StyleView",
            "description_width": ""
          }
        },
        "2a1aeb52e12c49e580c22ad56fe45186": {
          "model_module": "@jupyter-widgets/base",
          "model_name": "LayoutModel",
          "model_module_version": "1.2.0",
          "state": {
            "_model_module": "@jupyter-widgets/base",
            "_model_module_version": "1.2.0",
            "_model_name": "LayoutModel",
            "_view_count": null,
            "_view_module": "@jupyter-widgets/base",
            "_view_module_version": "1.2.0",
            "_view_name": "LayoutView",
            "align_content": null,
            "align_items": null,
            "align_self": null,
            "border": null,
            "bottom": null,
            "display": null,
            "flex": null,
            "flex_flow": null,
            "grid_area": null,
            "grid_auto_columns": null,
            "grid_auto_flow": null,
            "grid_auto_rows": null,
            "grid_column": null,
            "grid_gap": null,
            "grid_row": null,
            "grid_template_areas": null,
            "grid_template_columns": null,
            "grid_template_rows": null,
            "height": "28px",
            "justify_content": null,
            "justify_items": null,
            "left": null,
            "margin": null,
            "max_height": null,
            "max_width": null,
            "min_height": null,
            "min_width": null,
            "object_fit": null,
            "object_position": null,
            "order": null,
            "overflow": null,
            "overflow_x": null,
            "overflow_y": null,
            "padding": "0px 0px 0px 4px",
            "right": null,
            "top": null,
            "visibility": null,
            "width": "28px"
          }
        },
        "93ca7867700f4064b87d1b7560eeb111": {
          "model_module": "@jupyter-widgets/controls",
          "model_name": "DescriptionStyleModel",
          "model_module_version": "1.5.0",
          "state": {
            "_model_module": "@jupyter-widgets/controls",
            "_model_module_version": "1.5.0",
            "_model_name": "DescriptionStyleModel",
            "_view_count": null,
            "_view_module": "@jupyter-widgets/base",
            "_view_module_version": "1.2.0",
            "_view_name": "StyleView",
            "description_width": ""
          }
        }
      }
    }
  },
  "cells": [
    {
      "cell_type": "code",
      "execution_count": null,
      "metadata": {
        "id": "B6ikQVMOewwF"
      },
      "outputs": [],
      "source": [
        "# Install necessary library\n",
        "%pip install -U geemap"
      ]
    },
    {
      "cell_type": "code",
      "source": [
        "# Install necessary library\n",
        "!pip install leafmap"
      ],
      "metadata": {
        "id": "ah4iNsYV-xAW"
      },
      "execution_count": null,
      "outputs": []
    },
    {
      "cell_type": "code",
      "source": [
        "# Import necessary libraries\n",
        "import ee\n",
        "import geemap\n",
        "import leafmap\n",
        "import datetime"
      ],
      "metadata": {
        "id": "mzDZd61afL-U"
      },
      "execution_count": null,
      "outputs": []
    },
    {
      "cell_type": "code",
      "source": [
        "# To initialise the project\n",
        "ee.Authenticate()\n",
        "ee.Initialize(project='ee-rice-yield-prediction')\n",
        "\n",
        "# Create an interactive map\n",
        "Map = geemap.Map(basemap='SATELLITE')"
      ],
      "metadata": {
        "id": "KmZFpZ06feaT",
        "colab": {
          "base_uri": "https://localhost:8080/",
          "height": 17
        },
        "outputId": "d4c8d19f-598a-404e-ee31-0febbb99f10d"
      },
      "execution_count": null,
      "outputs": [
        {
          "output_type": "display_data",
          "data": {
            "text/plain": [
              "<IPython.core.display.HTML object>"
            ],
            "text/html": [
              "\n",
              "            <style>\n",
              "                .geemap-dark {\n",
              "                    --jp-widgets-color: white;\n",
              "                    --jp-widgets-label-color: white;\n",
              "                    --jp-ui-font-color1: white;\n",
              "                    --jp-layout-color2: #454545;\n",
              "                    background-color: #383838;\n",
              "                }\n",
              "\n",
              "                .geemap-dark .jupyter-button {\n",
              "                    --jp-layout-color3: #383838;\n",
              "                }\n",
              "\n",
              "                .geemap-colab {\n",
              "                    background-color: var(--colab-primary-surface-color, white);\n",
              "                }\n",
              "\n",
              "                .geemap-colab .jupyter-button {\n",
              "                    --jp-layout-color3: var(--colab-primary-surface-color, white);\n",
              "                }\n",
              "            </style>\n",
              "            "
            ]
          },
          "metadata": {}
        }
      ]
    },
    {
      "cell_type": "code",
      "source": [
        "# Load the GAUL dataset (Second-Level Administrative Units)\n",
        "gaul = ee.FeatureCollection(\"FAO/GAUL/2015/level2\")\n",
        "\n",
        "# Filter Sabak Bernam administrative unit\n",
        "sabak = gaul.filter(ee.Filter.eq(\"ADM2_NAME\", \"Sabak Bernam\"))\n",
        "\n",
        "# Draw the boundary of Sabak Bernam\n",
        "sabak_boundary = ee.Image().byte().paint(\n",
        "  featureCollection = sabak,\n",
        "  width=3\n",
        ")\n",
        "\n",
        "# Specify the visualisation of the boundary of Sabak Bernam\n",
        "sabak_vis = {\n",
        "    \"palette\": \"black\"\n",
        "}\n",
        "\n",
        "# Add Sabak Bernam's boundary to the map as a layer\n",
        "Map.addLayer(sabak_boundary, sabak_vis, \"Sabak Bernam\")\n",
        "\n",
        "# Center the map on Sabak Bernam\n",
        "Map.centerObject(sabak, 8)\n",
        "\n",
        "# Display the map\n",
        "Map"
      ],
      "metadata": {
        "id": "2cH56ka0fvN2",
        "colab": {
          "base_uri": "https://localhost:8080/",
          "height": 621,
          "referenced_widgets": [
            "1875b713f67d4548a28eefe4ef4a85a7",
            "e6ca2cb47fef4c69a06cb79530bc08e0",
            "0bbfad70741d477ab1f0c8afa175dc60",
            "b29a6d1eb93148828945260d6e274862",
            "5572ecbc311443148576fb83f219f787",
            "077f23421c0c439bb7a1aa60a60e6c6a",
            "da862bdf4c9e48df8864e236781719bc",
            "6b09fc7bdd2f4728a33583e0d79234a5",
            "c027ffb1a836417698e6a7be7b6da5d6",
            "25b0eece480749feb185cd782c17e11f",
            "75d774c508ce45d89670f071a184370b",
            "315b5abef6974b098bc3a0a54dbf5538",
            "5e63f559a05e430b852f62b3b4b7a2c3",
            "477ce8388bd44a5199b07a98e204cd34",
            "ffd7a8ae49e34542a394578416d73118",
            "bda2539410f64ae1b305803f5e11ccb1",
            "a67d631044294a4491246614ef1a322b",
            "1be01c9dec834cf198d8edb772080b2e",
            "257f4c1d7a78416ea895f4f39699470d",
            "4ff4c6539ece431a9afacb1cae111505",
            "fea5170dfb6d4ea1bfd54347d8ba5a4e",
            "ce65e869c4bb45dc900115649b271b69",
            "41384608844a45929876a2d3e29d0fd4",
            "7ebd167415d542af9b9ab707fba4fa1a",
            "3ac5bd22bf8640188ec4dea31eb07652",
            "b7c10e8df9f74a85ad71b6b9a927e8b4",
            "78f41fad3556459bb47c24cb629f9246",
            "b493463997404033af979b4f96312752",
            "2c58cadee9a24792b01a890c230ecb5f",
            "f4235370446545878ce80a17ada2dcdb",
            "81dc9e76e1bc4d41835275cbd2fc41b1",
            "49ce4c7f889c4fe6be6204f0d3c7a0d8",
            "5084d75def4c4069b90a63f5e789f259",
            "d86e8ad56e1548448368db7f31e3366e",
            "0b1fe1a3ba3f4aa99adb0fd40e88b024",
            "61fc95e7572b463884afe7bd7140194a",
            "1859527b7fdb406ebee36bd34cfc1137",
            "9eafdd0e56204f349c1cfc4343d6620f",
            "cd7b588b30854811ac0dd41c84a094e5",
            "4128b3983e6e480eb12a3a872275fc29",
            "9fdf6d93569e4bf2b3cb78a1514f2b8f",
            "601017857fbe40cdb72e156283763d6b",
            "9706048af5e54eb4b86657d1cf022e0a",
            "abcf95fd15c34f099f76559e71a4aee3",
            "02461f02a6be473eb5c894337e2315ab",
            "297146577bcd479ab4cf7d15e22c629e",
            "0a45680073e545308187132ce64a3745",
            "55284352ec3d4a8da20b2d1122a16eea",
            "6e1cbcbe422b4e458e8e1ef826ef2250",
            "d9f864eb868840d6827855c65eb28fbc",
            "ad9bd0e978c64dc3aa6678bfe56f0249",
            "683bddc75a9848c0aafbf2b827c0a91c",
            "af85c4118b2b4841aaefc48684ed1c8b",
            "cf9b7e4ff54a45d38ba670529ddc4047",
            "59740ef366d846038c2fad78a41f5fdc",
            "809d40b3bccd479c981687ebcef1b1c6",
            "c812e4f778ac4c638febb8fc97c3916b",
            "12f56e9efa5a4728a9a074f2d603fd19",
            "af51840ee251491bb1125fb62d7247b1",
            "9ed5af73dfd845c19ef5b08ecf5d9e72",
            "1809ec8de82a435f916f6ea336fc7ff7",
            "162f5ff750024f81a642cddd142eb911",
            "5210137976f24eaf959f7fb8a6c24eef",
            "510c0b2bdafe453889fa4e912f0a360a",
            "8be572cca16b4733a2bd326fdc5658bd",
            "8337671e177842dca3160e1057da099c",
            "cc1352ece9254405abd111cf42fcdb2f",
            "4fa67e95be464d3d991f051dba3a8bda",
            "0ef396165b0846389cd3965f45fffd77",
            "06bf0710ec3b4d819dbd04ce463a191d",
            "0398960497954517b9df82f470953ca9",
            "96c6c5e54f42483fbea5b086a0fbf6f6",
            "a9b2b6c6e36a4cf4940482a29a6f58f9",
            "3c049d68026248979e777277c787018c",
            "3e39678c42aa46edb57b4e475b012599",
            "11bf4de39c744294a9c23cfb0f74defe",
            "23606752cc5a454cb0861e25b12be34e",
            "b0f73ce590ea448698a88dd4c308befb",
            "d54e03afb3c14f74a674e24d2804f6a8",
            "cbedeae036074b169d627f7d0e6f0dca",
            "eb3e8b72d29b46449da237e590401591",
            "f85a24ad4eb44df79ccb7ed30c72a1c0",
            "834d0657bbcc4237bb0ee2f170a61c2e",
            "5acebe8c759f46a2be68047a37bc01cb",
            "ec1d1472865c492e8a83f31f56481b5e",
            "b4911680f53b431aad7a2f19c5717bff",
            "fc2e62c6a4654ea28430d0e3016a9e10",
            "3482c686251f4ce4a9323b8640640eb5",
            "d913e1cf18dc46bd9702b15f03eb7e7c",
            "a6d04d3893a64d51924ea4b17685db4b",
            "decf77c402b44e4d867c1227ce4aebc4",
            "98ef13671f6947f6b8c41a195135cf70",
            "0e0d70b9818b4d8c8aa1e7f73b3babbb",
            "307c400cc4d5464482b6b80fd7426467",
            "a4251294036e46d8a16ea77db1fc8b43",
            "6844ddad16854e0e9f376373a3d640f3",
            "12ababe0fdc5402b9aedb1f207800ebf",
            "1ea9b321a3b74c989a1c506d24754416",
            "e3e6c7558af846cdaad784062c2823be",
            "6bcd8a17211049e2a29d7acdbf498406",
            "5d6b3e684ab1465496dc2cf0214c5703",
            "939ca56170c0487786b4f0290da2c4c7",
            "562d2821c3284bcb8f1bbe74bd8f40b1",
            "f0c4cc3d36554d409fd2871b06a75349",
            "f7476149e35c48dd8427ed87d13987e1",
            "1c9aba84601442f1ba1e32a988293f76",
            "58527af8d18147e09a0b6472cecf8de9",
            "7f172eaed71e4118aaace3bba63f0290",
            "51f5a20e0cbb4ce5bb8fb4ce220c2055",
            "0ed548f66ca448e4aac25cb5412457fc",
            "47afd00b823f427d89048e2c16220b5f",
            "32d45f8008ea48f5aa302fb61a706a03",
            "c910d521d84b4a4ebfb93ea4fc2609f5",
            "76722f6a5a9d47eaaa426e1136867ba4",
            "6276be1b59644fa88e758ddcf8a3de8b",
            "077e40d1a011473680b7faaee900ac36",
            "306b276941004a22802751381a463c79",
            "b02bc70460d143b39046c64120289d01",
            "f8fec565a8484a819d56a33559de7f6c",
            "4f85ae17745f441baee5bc240b054882",
            "e3f223c230eb457caf39c8454ed8c1e2",
            "b25cf26ca46344f09e9b9a639a6f09c7",
            "1973c62a64b346ccbedcddbe266a898c",
            "1131f9965811468481444ff1b6ffa64b",
            "90933792528b4c1da27fa2c8a9385013",
            "544829a7157c495d8a205c33fc241fe9",
            "160e98596de9425ca6babbdadde9d6f3",
            "70e65335af584bd3be77e5aa5a4cef25",
            "1c325d43264d472ba58c7ab1159a1626",
            "9cc016079b144a5595824946109cc622",
            "4afeff51ba0b498286ee3cba2060d865",
            "4fb91c3c42574e20b09949f3fedf9464",
            "3761795a59d8459eb813e11822acb5ac",
            "b4e126e49e344d13a90c8cf342c7617f",
            "23efe75f86ca42578db73c8ceee3ddd1",
            "9d26cda10ffb4905978dd98cc8c340d0",
            "0da4a79e05e14977a91b8224809df6c8",
            "e870dec4b296401a937aadfd5be92426",
            "15f2859e914a47ec97b96f76895196e4",
            "1a383920f8d24ee2a77a40a8b5b38c1b",
            "de25dc3a9b2944369d33f474d031ee5e",
            "dc8a5f83a1a241cea977acd9b2373c1f",
            "b49eb619d40049e09bd3e1c2e61617a9",
            "cd1493ad080643948df08bc5ddaaa48a",
            "050df2ccf2ab4bc19b769ee15e9f0ae9",
            "7b64e7e3d67242f3955e32490ef3e285",
            "ad043d7d919f488cbb79489cd1aee526",
            "f21b18071713458cbfb1a5f0fd37c088",
            "34fbca6eb5d04017a014f8a61968d72c",
            "2e8b3325635341c1ae57a51f463b6e03",
            "a6cdf6fa5f254baaba73247a68acf6a7",
            "df7a78df87f940448b2bed0d33cc34a2",
            "e1bb8eeabcad4a14b0fd6212235039f0",
            "150bc655ada646d89c958f395ff9eb02",
            "512b69b9e7d243eeaa5e647db09a7722",
            "592bc4599a5345958fdeae3bede2ef4e",
            "feabd68f5f0041af84c8e6fbb3e9f3d9",
            "5100794061b64f7eb8102d1f7b0344ad",
            "38ae0ca48d064b3c8acd135dbb8742a2",
            "e552271800e34b82834d67744c7751b0",
            "1e7666f075274ea485ec2ba1da05850d",
            "38b6893996d0470397cd4a8064ad3758",
            "e8b40c8e01624508aba8f79e1cf568f9",
            "6bf03e6eb7ea4f68954e56766e413e1a",
            "582157bfa2cc449c8ab0c7d2abad4287",
            "d6cb0d7febeb40fc810b4f7b1884a298",
            "c5399ed9dddc4a8c8bf5523d0d6eb154",
            "cbafd3545b794fd5966a0b4fc829f8dc",
            "9fa277edc9464cf9981a0ed540f4b21c",
            "ffb203bf317c494ba0e74f7a402be7c6",
            "b19a8fe357f546aaac6dcfdfdb4fb477",
            "6b413a268d9a4182a0790b47b9788e8d",
            "d6ec7407d5a94d34b263eadc394851a4",
            "45db74a7d0c34c3ebd20f45bd1af8d2c",
            "83b01c66bfe4435a829a055af76d56d3",
            "03d56f9979d64a9d9b261b4e0db301af",
            "2e881fc48d254862ad31442f8fe7293b",
            "ac31029e608940ff87e56971c980289d",
            "91cef24cd854401d9e88dc9379b0b606",
            "e6322c51181645c198d0f7800dd95e32",
            "b120db37d61c4061ac0ff0268a153e9b"
          ]
        },
        "outputId": "f707f12e-6b07-4575-be18-ed81302cc5fc"
      },
      "execution_count": null,
      "outputs": [
        {
          "output_type": "display_data",
          "data": {
            "text/plain": [
              "<IPython.core.display.HTML object>"
            ],
            "text/html": [
              "\n",
              "            <style>\n",
              "                .geemap-dark {\n",
              "                    --jp-widgets-color: white;\n",
              "                    --jp-widgets-label-color: white;\n",
              "                    --jp-ui-font-color1: white;\n",
              "                    --jp-layout-color2: #454545;\n",
              "                    background-color: #383838;\n",
              "                }\n",
              "\n",
              "                .geemap-dark .jupyter-button {\n",
              "                    --jp-layout-color3: #383838;\n",
              "                }\n",
              "\n",
              "                .geemap-colab {\n",
              "                    background-color: var(--colab-primary-surface-color, white);\n",
              "                }\n",
              "\n",
              "                .geemap-colab .jupyter-button {\n",
              "                    --jp-layout-color3: var(--colab-primary-surface-color, white);\n",
              "                }\n",
              "            </style>\n",
              "            "
            ]
          },
          "metadata": {}
        },
        {
          "output_type": "display_data",
          "data": {
            "text/plain": [
              "Map(center=[3.679628002569312, 101.09087962782114], controls=(WidgetControl(options=['position', 'transparent_…"
            ],
            "application/vnd.jupyter.widget-view+json": {
              "version_major": 2,
              "version_minor": 0,
              "model_id": "1875b713f67d4548a28eefe4ef4a85a7"
            }
          },
          "metadata": {
            "application/vnd.jupyter.widget-view+json": {
              "colab": {
                "custom_widget_manager": {
                  "url": "https://ssl.gstatic.com/colaboratory-static/widgets/colab-cdn-widget-manager/2b70e893a8ba7c0f/manager.min.js"
                }
              }
            }
          }
        }
      ]
    },
    {
      "cell_type": "code",
      "source": [
        "# Function to mask the cloud in the satellite images\n",
        "def maskClouds(image):\n",
        "  qa = image.select('QA60')\n",
        "\n",
        "  # Creating bit masks for clouds and cirrus clouds\n",
        "  # Bits 10 and 11 represents clouds and cirrus clouds respectively\n",
        "  # Shifting the bit 1 to the left by 10 positions for clouds bit mask and by 11 positions for cirrus clouds bit mask\n",
        "  cloudMask = 1 << 10\n",
        "  cirrusMask = 1 << 11\n",
        "\n",
        "  # Create a mask where clouds and cirrus clouds will be masked out\n",
        "  mask = qa.bitwiseAnd(cloudMask).eq(0).And(qa.bitwiseAnd(cirrusMask).eq(0))\n",
        "\n",
        "  # Return the input image without clouds and cirrus clouds\n",
        "  return image.updateMask(mask)"
      ],
      "metadata": {
        "id": "bcZ9sIQcv23E",
        "colab": {
          "base_uri": "https://localhost:8080/",
          "height": 17
        },
        "outputId": "0afbcf54-f951-48b6-ab9a-034504f557f7"
      },
      "execution_count": null,
      "outputs": [
        {
          "output_type": "display_data",
          "data": {
            "text/plain": [
              "<IPython.core.display.HTML object>"
            ],
            "text/html": [
              "\n",
              "            <style>\n",
              "                .geemap-dark {\n",
              "                    --jp-widgets-color: white;\n",
              "                    --jp-widgets-label-color: white;\n",
              "                    --jp-ui-font-color1: white;\n",
              "                    --jp-layout-color2: #454545;\n",
              "                    background-color: #383838;\n",
              "                }\n",
              "\n",
              "                .geemap-dark .jupyter-button {\n",
              "                    --jp-layout-color3: #383838;\n",
              "                }\n",
              "\n",
              "                .geemap-colab {\n",
              "                    background-color: var(--colab-primary-surface-color, white);\n",
              "                }\n",
              "\n",
              "                .geemap-colab .jupyter-button {\n",
              "                    --jp-layout-color3: var(--colab-primary-surface-color, white);\n",
              "                }\n",
              "            </style>\n",
              "            "
            ]
          },
          "metadata": {}
        }
      ]
    },
    {
      "cell_type": "code",
      "source": [
        "# Function to add NDVI band to the input image\n",
        "def ndvi_band(image):\n",
        "    # Calculate the NDVI value using NIR (B8) band and Red (B4) band\n",
        "    ndvi = image.normalizedDifference(['B8', 'B4']).rename('ndvi')\n",
        "\n",
        "    # Add the NDVI band to the image and return the image\n",
        "    return image.addBands(ndvi)"
      ],
      "metadata": {
        "id": "dX0I8aOYSCDi",
        "colab": {
          "base_uri": "https://localhost:8080/",
          "height": 17
        },
        "outputId": "261b5760-d1aa-4e3c-ec95-b882c8defa20"
      },
      "execution_count": null,
      "outputs": [
        {
          "output_type": "display_data",
          "data": {
            "text/plain": [
              "<IPython.core.display.HTML object>"
            ],
            "text/html": [
              "\n",
              "            <style>\n",
              "                .geemap-dark {\n",
              "                    --jp-widgets-color: white;\n",
              "                    --jp-widgets-label-color: white;\n",
              "                    --jp-ui-font-color1: white;\n",
              "                    --jp-layout-color2: #454545;\n",
              "                    background-color: #383838;\n",
              "                }\n",
              "\n",
              "                .geemap-dark .jupyter-button {\n",
              "                    --jp-layout-color3: #383838;\n",
              "                }\n",
              "\n",
              "                .geemap-colab {\n",
              "                    background-color: var(--colab-primary-surface-color, white);\n",
              "                }\n",
              "\n",
              "                .geemap-colab .jupyter-button {\n",
              "                    --jp-layout-color3: var(--colab-primary-surface-color, white);\n",
              "                }\n",
              "            </style>\n",
              "            "
            ]
          },
          "metadata": {}
        }
      ]
    },
    {
      "cell_type": "code",
      "source": [
        "# Load the Sentinel-2 image in Sabak Bernam area\n",
        "sentinel = (ee.ImageCollection('COPERNICUS/S2_SR_HARMONIZED')\n",
        "              .filterDate('2023-03-05', '2023-05-25')\n",
        "              .filterBounds(sabak)\n",
        "              .map(maskClouds))\n",
        "\n",
        "# Define the visualisation parameters\n",
        "sentinel_vis = {\n",
        "    'min': 0.0,\n",
        "    'max': 2000,\n",
        "    'bands': ['B4', 'B3', 'B2'],\n",
        "}\n",
        "\n",
        "image=sentinel.median()\n",
        "\n",
        "# Adding the image to the map as a layer\n",
        "Map.addLayer(image, sentinel_vis, 'Sentinel-2')\n",
        "\n",
        "# Get the NDVI value\n",
        "ndvi = image.normalizedDifference(['B8', 'B4']).rename('ndvi')\n",
        "\n",
        "#Specify the visualisation for NDVI\n",
        "ndvi_vis = {\n",
        "    'min': -1,\n",
        "    'max': 1,\n",
        "    'palette': ['blue', 'white', 'green'],\n",
        "}\n",
        "\n",
        "# Adding the NDVI to the map as a layer\n",
        "Map.addLayer(ndvi.clip(sabak), ndvi_vis, 'NDVI')\n",
        "\n",
        "# Display the map\n",
        "Map"
      ],
      "metadata": {
        "id": "zLs6f2HBp_u4",
        "colab": {
          "base_uri": "https://localhost:8080/",
          "height": 621,
          "referenced_widgets": [
            "1875b713f67d4548a28eefe4ef4a85a7",
            "e6ca2cb47fef4c69a06cb79530bc08e0",
            "0bbfad70741d477ab1f0c8afa175dc60",
            "b29a6d1eb93148828945260d6e274862",
            "5572ecbc311443148576fb83f219f787",
            "077f23421c0c439bb7a1aa60a60e6c6a",
            "da862bdf4c9e48df8864e236781719bc",
            "6b09fc7bdd2f4728a33583e0d79234a5",
            "c027ffb1a836417698e6a7be7b6da5d6",
            "25b0eece480749feb185cd782c17e11f",
            "75d774c508ce45d89670f071a184370b",
            "315b5abef6974b098bc3a0a54dbf5538",
            "5e63f559a05e430b852f62b3b4b7a2c3",
            "11bf4de39c744294a9c23cfb0f74defe",
            "b25cf26ca46344f09e9b9a639a6f09c7",
            "477ce8388bd44a5199b07a98e204cd34",
            "bda2539410f64ae1b305803f5e11ccb1",
            "a67d631044294a4491246614ef1a322b",
            "1be01c9dec834cf198d8edb772080b2e",
            "257f4c1d7a78416ea895f4f39699470d",
            "4ff4c6539ece431a9afacb1cae111505",
            "fea5170dfb6d4ea1bfd54347d8ba5a4e",
            "ce65e869c4bb45dc900115649b271b69",
            "41384608844a45929876a2d3e29d0fd4",
            "7ebd167415d542af9b9ab707fba4fa1a",
            "3ac5bd22bf8640188ec4dea31eb07652",
            "b7c10e8df9f74a85ad71b6b9a927e8b4",
            "78f41fad3556459bb47c24cb629f9246",
            "b493463997404033af979b4f96312752",
            "2c58cadee9a24792b01a890c230ecb5f",
            "f4235370446545878ce80a17ada2dcdb",
            "81dc9e76e1bc4d41835275cbd2fc41b1",
            "49ce4c7f889c4fe6be6204f0d3c7a0d8",
            "5084d75def4c4069b90a63f5e789f259",
            "d86e8ad56e1548448368db7f31e3366e",
            "0b1fe1a3ba3f4aa99adb0fd40e88b024",
            "61fc95e7572b463884afe7bd7140194a",
            "1859527b7fdb406ebee36bd34cfc1137",
            "9eafdd0e56204f349c1cfc4343d6620f",
            "cd7b588b30854811ac0dd41c84a094e5",
            "1973c62a64b346ccbedcddbe266a898c",
            "1131f9965811468481444ff1b6ffa64b",
            "90933792528b4c1da27fa2c8a9385013",
            "544829a7157c495d8a205c33fc241fe9",
            "160e98596de9425ca6babbdadde9d6f3",
            "9706048af5e54eb4b86657d1cf022e0a",
            "abcf95fd15c34f099f76559e71a4aee3",
            "02461f02a6be473eb5c894337e2315ab",
            "297146577bcd479ab4cf7d15e22c629e",
            "0a45680073e545308187132ce64a3745",
            "70e65335af584bd3be77e5aa5a4cef25",
            "1c325d43264d472ba58c7ab1159a1626",
            "9cc016079b144a5595824946109cc622",
            "4afeff51ba0b498286ee3cba2060d865",
            "4fb91c3c42574e20b09949f3fedf9464",
            "3761795a59d8459eb813e11822acb5ac",
            "b4e126e49e344d13a90c8cf342c7617f",
            "23efe75f86ca42578db73c8ceee3ddd1",
            "9d26cda10ffb4905978dd98cc8c340d0",
            "0da4a79e05e14977a91b8224809df6c8",
            "e870dec4b296401a937aadfd5be92426",
            "15f2859e914a47ec97b96f76895196e4",
            "1a383920f8d24ee2a77a40a8b5b38c1b",
            "de25dc3a9b2944369d33f474d031ee5e",
            "dc8a5f83a1a241cea977acd9b2373c1f",
            "b49eb619d40049e09bd3e1c2e61617a9",
            "cd1493ad080643948df08bc5ddaaa48a",
            "050df2ccf2ab4bc19b769ee15e9f0ae9",
            "7b64e7e3d67242f3955e32490ef3e285",
            "ad043d7d919f488cbb79489cd1aee526",
            "f21b18071713458cbfb1a5f0fd37c088",
            "34fbca6eb5d04017a014f8a61968d72c",
            "2e8b3325635341c1ae57a51f463b6e03",
            "a6cdf6fa5f254baaba73247a68acf6a7",
            "df7a78df87f940448b2bed0d33cc34a2",
            "e1bb8eeabcad4a14b0fd6212235039f0",
            "150bc655ada646d89c958f395ff9eb02",
            "512b69b9e7d243eeaa5e647db09a7722",
            "592bc4599a5345958fdeae3bede2ef4e",
            "feabd68f5f0041af84c8e6fbb3e9f3d9",
            "5100794061b64f7eb8102d1f7b0344ad",
            "38ae0ca48d064b3c8acd135dbb8742a2",
            "e552271800e34b82834d67744c7751b0",
            "1e7666f075274ea485ec2ba1da05850d",
            "38b6893996d0470397cd4a8064ad3758",
            "e8b40c8e01624508aba8f79e1cf568f9",
            "6bf03e6eb7ea4f68954e56766e413e1a",
            "582157bfa2cc449c8ab0c7d2abad4287",
            "d6cb0d7febeb40fc810b4f7b1884a298",
            "c5399ed9dddc4a8c8bf5523d0d6eb154",
            "cbafd3545b794fd5966a0b4fc829f8dc",
            "9fa277edc9464cf9981a0ed540f4b21c",
            "ffb203bf317c494ba0e74f7a402be7c6",
            "b19a8fe357f546aaac6dcfdfdb4fb477",
            "6b413a268d9a4182a0790b47b9788e8d",
            "d6ec7407d5a94d34b263eadc394851a4",
            "45db74a7d0c34c3ebd20f45bd1af8d2c",
            "83b01c66bfe4435a829a055af76d56d3",
            "03d56f9979d64a9d9b261b4e0db301af",
            "2e881fc48d254862ad31442f8fe7293b",
            "ac31029e608940ff87e56971c980289d",
            "91cef24cd854401d9e88dc9379b0b606",
            "e6322c51181645c198d0f7800dd95e32",
            "b120db37d61c4061ac0ff0268a153e9b"
          ]
        },
        "outputId": "c8a287f8-902d-4c78-d43b-8992ed2deab4"
      },
      "execution_count": null,
      "outputs": [
        {
          "output_type": "display_data",
          "data": {
            "text/plain": [
              "<IPython.core.display.HTML object>"
            ],
            "text/html": [
              "\n",
              "            <style>\n",
              "                .geemap-dark {\n",
              "                    --jp-widgets-color: white;\n",
              "                    --jp-widgets-label-color: white;\n",
              "                    --jp-ui-font-color1: white;\n",
              "                    --jp-layout-color2: #454545;\n",
              "                    background-color: #383838;\n",
              "                }\n",
              "\n",
              "                .geemap-dark .jupyter-button {\n",
              "                    --jp-layout-color3: #383838;\n",
              "                }\n",
              "\n",
              "                .geemap-colab {\n",
              "                    background-color: var(--colab-primary-surface-color, white);\n",
              "                }\n",
              "\n",
              "                .geemap-colab .jupyter-button {\n",
              "                    --jp-layout-color3: var(--colab-primary-surface-color, white);\n",
              "                }\n",
              "            </style>\n",
              "            "
            ]
          },
          "metadata": {}
        },
        {
          "output_type": "display_data",
          "data": {
            "text/plain": [
              "Map(bottom=32398.0, center=[3.6778915094650726, 101.09383338149844], controls=(WidgetControl(options=['positio…"
            ],
            "application/vnd.jupyter.widget-view+json": {
              "version_major": 2,
              "version_minor": 0,
              "model_id": "1875b713f67d4548a28eefe4ef4a85a7"
            }
          },
          "metadata": {
            "application/vnd.jupyter.widget-view+json": {
              "colab": {
                "custom_widget_manager": {
                  "url": "https://ssl.gstatic.com/colaboratory-static/widgets/colab-cdn-widget-manager/2b70e893a8ba7c0f/manager.min.js"
                }
              }
            }
          }
        }
      ]
    },
    {
      "cell_type": "code",
      "source": [
        "# Obtain an image of Sabak Area\n",
        "feature = sabak.first()\n",
        "\n",
        "# Get the geometry of Sabak Bernam area\n",
        "sabak_geometry = feature.geometry()\n",
        "\n",
        "# Convert the geometry to a GeoJSON format\n",
        "geometry_geojson = sabak_geometry.getInfo()\n",
        "\n",
        "# Create a LeafMap\n",
        "m = leafmap.Map(center=[3.5, 101.15587962782114], zoom=10, height=\"800px\")\n",
        "\n",
        "# Add the GeoJSON layer to the map using 'add_geojson'\n",
        "m.add_geojson(geometry_geojson, layer_name=\"Boundary\")\n",
        "\n",
        "# Add satellite as basemap\n",
        "m.add_basemap(\"SATELLITE\")\n",
        "\n",
        "# Display the map\n",
        "m"
      ],
      "metadata": {
        "id": "5PufrJuHaJV0",
        "colab": {
          "base_uri": "https://localhost:8080/",
          "height": 821,
          "referenced_widgets": [
            "84198d355337454585a6a1b489655368",
            "529a9af5c88243b181c6aed77df7f38c",
            "4a14bd402c424eb88319b5804a9f7ae2",
            "44607f06ab6c4fc7b20820ec1773f952",
            "1dba922ca9384652bd8d739780b5ba22",
            "745da242f25c4f51a558700c40188d42",
            "48ba97cbcf0649deb10a6a776440cee3",
            "f4ead851975f4c6f8d4cbf08f7c56ae4",
            "faaa438177c942f6aba3f5bf37c484b6",
            "f16d6b560cf94d15b8ea9798a6ce06b1",
            "3283b58feb7540649aafe97f887ce000",
            "5fcb480964a14ab5bc909444316d5065",
            "e7cea40748ea41e59588d4d922754560",
            "fcd88147b66742d7a962f20c0ec1d634",
            "7ea5c38e611d4f469e923caf07524121",
            "afa947fc696244878c10230735572d1e",
            "282f6add5246407b97a3c5bec6c9f578",
            "438bbb90677646b8b26b61447a5cc5e7",
            "2db90f13e86c457789d92d0d8169c657",
            "2b0eccaaea904b558711a23c7d7aad9c",
            "52ea11b8e51341e8b82a5d5c6f0e4a7f",
            "239beff2580e423aae90312b3e12b71c",
            "855b784fe8c548928abc885088227c36",
            "1d365e1db32e4a2e965ef6348b8d709f",
            "ecfea9e1b5204ff0b0d9120c5e1bd7d4",
            "5fde8ca6ede94b22866ed59d5cc3a9b9",
            "94d857a7fedd4928923832628c6f49f0",
            "e7d1ba1fbccf475b880e2b08d493bad0",
            "348c6950929547c9bb5b0d5a536cba91",
            "a024ccc6a7f948bfa29766be755c860b",
            "d9ac820862814ab2aed408c80f21e49e",
            "2a1aeb52e12c49e580c22ad56fe45186",
            "93ca7867700f4064b87d1b7560eeb111"
          ]
        },
        "outputId": "9817e401-5e7c-484d-f10c-c8af52e4a47b"
      },
      "execution_count": null,
      "outputs": [
        {
          "output_type": "display_data",
          "data": {
            "text/plain": [
              "<IPython.core.display.HTML object>"
            ],
            "text/html": [
              "\n",
              "            <style>\n",
              "                .geemap-dark {\n",
              "                    --jp-widgets-color: white;\n",
              "                    --jp-widgets-label-color: white;\n",
              "                    --jp-ui-font-color1: white;\n",
              "                    --jp-layout-color2: #454545;\n",
              "                    background-color: #383838;\n",
              "                }\n",
              "\n",
              "                .geemap-dark .jupyter-button {\n",
              "                    --jp-layout-color3: #383838;\n",
              "                }\n",
              "\n",
              "                .geemap-colab {\n",
              "                    background-color: var(--colab-primary-surface-color, white);\n",
              "                }\n",
              "\n",
              "                .geemap-colab .jupyter-button {\n",
              "                    --jp-layout-color3: var(--colab-primary-surface-color, white);\n",
              "                }\n",
              "            </style>\n",
              "            "
            ]
          },
          "metadata": {}
        },
        {
          "output_type": "display_data",
          "data": {
            "text/plain": [
              "Map(center=[3.5, 101.15587962782114], controls=(ZoomControl(options=['position', 'zoom_in_text', 'zoom_in_titl…"
            ],
            "application/vnd.jupyter.widget-view+json": {
              "version_major": 2,
              "version_minor": 0,
              "model_id": "84198d355337454585a6a1b489655368"
            }
          },
          "metadata": {
            "application/vnd.jupyter.widget-view+json": {
              "colab": {
                "custom_widget_manager": {
                  "url": "https://ssl.gstatic.com/colaboratory-static/widgets/colab-cdn-widget-manager/2b70e893a8ba7c0f/manager.min.js"
                }
              }
            }
          }
        }
      ]
    },
    {
      "cell_type": "code",
      "source": [
        "#bbox = m.user_roi_bounds()\n",
        "# Sekinchan area\n",
        "bbox=[101.0821, 3.5211, 101.1456, 3.5777]\n",
        "print(\"Sekinchan Area:\", bbox)"
      ],
      "metadata": {
        "id": "Am27AoNzyGkM",
        "colab": {
          "base_uri": "https://localhost:8080/",
          "height": 34
        },
        "outputId": "733533fd-f1ef-4d0a-a3a6-93a23229f5a4"
      },
      "execution_count": null,
      "outputs": [
        {
          "output_type": "display_data",
          "data": {
            "text/plain": [
              "<IPython.core.display.HTML object>"
            ],
            "text/html": [
              "\n",
              "            <style>\n",
              "                .geemap-dark {\n",
              "                    --jp-widgets-color: white;\n",
              "                    --jp-widgets-label-color: white;\n",
              "                    --jp-ui-font-color1: white;\n",
              "                    --jp-layout-color2: #454545;\n",
              "                    background-color: #383838;\n",
              "                }\n",
              "\n",
              "                .geemap-dark .jupyter-button {\n",
              "                    --jp-layout-color3: #383838;\n",
              "                }\n",
              "\n",
              "                .geemap-colab {\n",
              "                    background-color: var(--colab-primary-surface-color, white);\n",
              "                }\n",
              "\n",
              "                .geemap-colab .jupyter-button {\n",
              "                    --jp-layout-color3: var(--colab-primary-surface-color, white);\n",
              "                }\n",
              "            </style>\n",
              "            "
            ]
          },
          "metadata": {}
        },
        {
          "output_type": "stream",
          "name": "stdout",
          "text": [
            "Sekinchan Area: [101.0821, 3.5211, 101.1456, 3.5777]\n"
          ]
        }
      ]
    },
    {
      "cell_type": "code",
      "source": [
        "# Function to calculate NDVI value\n",
        "def calculate_ndvi(image):\n",
        "    stats = image.reduceRegion(\n",
        "        reducer=ee.Reducer.mean(),\n",
        "        geometry=ee.Geometry.BBox(bbox[0], bbox[1], bbox[2], bbox[3]),\n",
        "        scale=10,\n",
        "        maxPixels=1e10\n",
        "    )\n",
        "\n",
        "    # Set NDVI to an empty value if reduceRegion does not have output.\n",
        "    ndvi = ee.List([stats.get('ndvi'), ]).reduce(ee.Reducer.firstNonNull())\n",
        "    # Create a feature with null geometry\n",
        "    # Set NDVI value and date as properties\n",
        "    date = ee.Date(image.get('system:time_start')).format('YYYY-MM-dd')\n",
        "    feature = ee.Feature(None, {'ndvi': ndvi, 'date': date})\n",
        "    return feature\n",
        "\n",
        "# Define start and end dates for the first quarter\n",
        "start_date = '2019-03-05'\n",
        "end_date = '2019-05-25'\n",
        "\n",
        "# Initialise values\n",
        "year = 1\n",
        "quarter = 1\n",
        "\n",
        "# Define the start and end dates for the second quarter\n",
        "second_quarter_start_date = '2019-09-05'\n",
        "second_quarter_end_date = '2019-11-25'\n",
        "\n",
        "while (quarter <= 2):\n",
        "    while (year <= 3):\n",
        "        # Create an image collection of Sabak Bernam\n",
        "        collection = (ee.ImageCollection('COPERNICUS/S2_SR_HARMONIZED')\n",
        "                .filterDate(start_date, end_date)\n",
        "                .filterBounds(sabak)\n",
        "                .map(maskClouds)\n",
        "                .map(ndvi_band))\n",
        "\n",
        "        # Filter Sekinchan area\n",
        "        sekinchan = (collection.select('ndvi')\n",
        "            .filterBounds(ee.Geometry.BBox(bbox[0], bbox[1], bbox[2], bbox[3]))\n",
        "        )\n",
        "\n",
        "        # Get NDVI values for each image in the collection\n",
        "        time_series = sekinchan.map(calculate_ndvi)\n",
        "\n",
        "        # Define a name for the exported CSV file\n",
        "        if (quarter==1):\n",
        "          filename = \"NDVI_\" + start_date[0:4] + \"_Q1\"\n",
        "        elif (quarter==2):\n",
        "          filename = \"NDVI_\" + start_date[0:4] + \"_Q2\"\n",
        "\n",
        "        # Export the time series to a CSV file\n",
        "        task = ee.batch.Export.table.toDrive(\n",
        "            collection=time_series,\n",
        "            description='ndvi',\n",
        "            folder='ndvi',\n",
        "            fileNamePrefix=filename,\n",
        "            fileFormat='CSV'\n",
        "        )\n",
        "\n",
        "        # Start the export task\n",
        "        task.start()\n",
        "\n",
        "        # Convert the start and end dates to datetime objects\n",
        "        start_date_dt = datetime.datetime.strptime(start_date, '%Y-%m-%d')\n",
        "        end_date_dt = datetime.datetime.strptime(end_date, '%Y-%m-%d')\n",
        "\n",
        "        # Increment the year by 1\n",
        "        start_date_dt = start_date_dt.replace(year=start_date_dt.year + 1)\n",
        "        end_date_dt = end_date_dt.replace(year=end_date_dt.year + 1)\n",
        "\n",
        "        # Convert the datetime objects back to strings\n",
        "        start_date = start_date_dt.strftime('%Y-%m-%d')\n",
        "        end_date = end_date_dt.strftime('%Y-%m-%d')\n",
        "\n",
        "        year = year + 1\n",
        "\n",
        "    quarter = quarter + 1\n",
        "\n",
        "    # Set the start and end dates for the second quarter\n",
        "    start_date = second_quarter_start_date\n",
        "    end_date = second_quarter_end_date\n",
        "\n",
        "    year = 1"
      ],
      "metadata": {
        "id": "NmuA1pxMyGm3"
      },
      "execution_count": null,
      "outputs": []
    },
    {
      "cell_type": "code",
      "source": [
        "# Check task status\n",
        "task.status()"
      ],
      "metadata": {
        "id": "0fkhu_Xe0ThC"
      },
      "execution_count": null,
      "outputs": []
    }
  ]
}